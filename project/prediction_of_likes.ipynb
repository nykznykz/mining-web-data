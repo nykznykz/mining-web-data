{
 "cells": [
  {
   "cell_type": "code",
   "execution_count": 1,
   "metadata": {
    "collapsed": true
   },
   "outputs": [],
   "source": [
    "import pandas as pd\n",
    "pd.set_option('max_colwidth', 80)"
   ]
  },
  {
   "cell_type": "markdown",
   "metadata": {},
   "source": [
    "### Merging multiple csvs"
   ]
  },
  {
   "cell_type": "code",
   "execution_count": 2,
   "metadata": {
    "collapsed": true
   },
   "outputs": [],
   "source": [
    "import glob\n",
    "df = pd.DataFrame()\n",
    "for file in glob.glob(\"*ig.csv\"):\n",
    "    brand = file.split(\"_ig.csv\")[0]\n",
    "    temp_df = pd.read_csv(file)\n",
    "    if brand == \"samsung\":\n",
    "        brand = \"samsungmobile\"\n",
    "    temp_df[\"brand\"] = brand\n",
    "    df = pd.concat([df,temp_df], axis=0)"
   ]
  },
  {
   "cell_type": "code",
   "execution_count": 3,
   "metadata": {
    "collapsed": true
   },
   "outputs": [],
   "source": [
    "def handle_numbers(string):\n",
    "    string = str(string).replace(\",\",\"\")\n",
    "    if \"k\" in string:\n",
    "        if \".\" in string:\n",
    "            return int(string.replace(\"k\",\"00\").replace(\".\",\"\"))\n",
    "        else:\n",
    "            return int(string.replace(\"k\",\"00\"))\n",
    "    if \"m\" in string:\n",
    "        if \".\" in string:\n",
    "            return int(string.replace(\"m\",\"00000\").replace(\".\",\"\"))\n",
    "        else:\n",
    "            return int(string.replace(\"m\",\"000000\"))\n",
    "    return int(float(string))\n",
    "        "
   ]
  },
  {
   "cell_type": "code",
   "execution_count": 4,
   "metadata": {
    "collapsed": true
   },
   "outputs": [],
   "source": [
    "# only choose images\n",
    "df = df[df.media==\"image\"]"
   ]
  },
  {
   "cell_type": "code",
   "execution_count": 5,
   "metadata": {
    "collapsed": true
   },
   "outputs": [],
   "source": [
    "df.likes = df.likes.apply(handle_numbers)"
   ]
  },
  {
   "cell_type": "code",
   "execution_count": 6,
   "metadata": {
    "collapsed": true
   },
   "outputs": [],
   "source": [
    "df = df[df.caption.notnull()]"
   ]
  },
  {
   "cell_type": "markdown",
   "metadata": {},
   "source": [
    "### Feature Engineering"
   ]
  },
  {
   "cell_type": "code",
   "execution_count": 7,
   "metadata": {
    "collapsed": true
   },
   "outputs": [],
   "source": [
    "from sklearn.pipeline import make_union\n",
    "from sklearn.preprocessing import FunctionTransformer\n",
    "from sklearn.pipeline import make_pipeline"
   ]
  },
  {
   "cell_type": "code",
   "execution_count": 8,
   "metadata": {
    "collapsed": true
   },
   "outputs": [],
   "source": [
    "def get_text(df):\n",
    "    return df.caption"
   ]
  },
  {
   "cell_type": "code",
   "execution_count": 9,
   "metadata": {
    "collapsed": true
   },
   "outputs": [],
   "source": [
    "get_text_ft = FunctionTransformer(get_text, validate=False)"
   ]
  },
  {
   "cell_type": "markdown",
   "metadata": {},
   "source": [
    "Get page meta data"
   ]
  },
  {
   "cell_type": "code",
   "execution_count": 10,
   "metadata": {
    "collapsed": true
   },
   "outputs": [],
   "source": [
    "meta_df = pd.read_csv(\"brand_ig_data.csv\")"
   ]
  },
  {
   "cell_type": "code",
   "execution_count": 11,
   "metadata": {
    "collapsed": true
   },
   "outputs": [],
   "source": [
    "meta_df = meta_df.loc[:, [\"brand_ig\",\"n_posts\", \"n_followers\",\"n_following\"]]"
   ]
  },
  {
   "cell_type": "code",
   "execution_count": 12,
   "metadata": {
    "collapsed": true
   },
   "outputs": [],
   "source": [
    "df.rename(index=str, columns={\"brand\": \"brand_ig\"}, inplace=True)"
   ]
  },
  {
   "cell_type": "code",
   "execution_count": 13,
   "metadata": {
    "collapsed": true
   },
   "outputs": [],
   "source": [
    "final_df = pd.merge(df,meta_df,how=\"left\",on=\"brand_ig\")"
   ]
  },
  {
   "cell_type": "code",
   "execution_count": 14,
   "metadata": {
    "collapsed": true
   },
   "outputs": [],
   "source": [
    "final_df[\"n_posts\"] = final_df.n_posts.apply(handle_numbers)"
   ]
  },
  {
   "cell_type": "code",
   "execution_count": 15,
   "metadata": {
    "collapsed": true
   },
   "outputs": [],
   "source": [
    "final_df[\"n_followers\"] = final_df.n_followers.apply(handle_numbers)"
   ]
  },
  {
   "cell_type": "code",
   "execution_count": 16,
   "metadata": {
    "collapsed": true
   },
   "outputs": [],
   "source": [
    "# Remove posts with zero likes (to take a log transform and calculate MAPE)\n",
    "final_df = final_df[final_df.likes != 0]"
   ]
  },
  {
   "cell_type": "code",
   "execution_count": 17,
   "metadata": {
    "collapsed": true
   },
   "outputs": [],
   "source": [
    "def get_brand_meta(df):\n",
    "    return df.loc[:,[\"n_posts\", \"n_followers\"]]"
   ]
  },
  {
   "cell_type": "code",
   "execution_count": 18,
   "metadata": {
    "collapsed": true
   },
   "outputs": [],
   "source": [
    "get_brand_meta_ft = FunctionTransformer(get_brand_meta, validate=False)"
   ]
  },
  {
   "cell_type": "code",
   "execution_count": 19,
   "metadata": {
    "collapsed": true
   },
   "outputs": [],
   "source": [
    "from sklearn.feature_extraction.text import CountVectorizer\n",
    "vect = CountVectorizer(stop_words='english', max_df=0.3, min_df=4)"
   ]
  },
  {
   "cell_type": "code",
   "execution_count": 20,
   "metadata": {
    "collapsed": true
   },
   "outputs": [],
   "source": [
    "union = make_union(make_pipeline(get_text_ft, vect), get_brand_meta_ft)"
   ]
  },
  {
   "cell_type": "code",
   "execution_count": 21,
   "metadata": {
    "collapsed": true
   },
   "outputs": [],
   "source": [
    "from sklearn.model_selection import train_test_split\n",
    "X_train, X_test, y_train, y_test = train_test_split(final_df, final_df.likes, random_state=1)"
   ]
  },
  {
   "cell_type": "code",
   "execution_count": 22,
   "metadata": {
    "collapsed": true
   },
   "outputs": [],
   "source": [
    "X_train_meta_dtm = union.fit_transform(X_train)"
   ]
  },
  {
   "cell_type": "code",
   "execution_count": 23,
   "metadata": {
    "collapsed": true
   },
   "outputs": [],
   "source": [
    "X_test_meta_dtm = union.transform(X_test)"
   ]
  },
  {
   "cell_type": "markdown",
   "metadata": {},
   "source": [
    "### Model Selection"
   ]
  },
  {
   "cell_type": "code",
   "execution_count": 24,
   "metadata": {
    "collapsed": true
   },
   "outputs": [],
   "source": [
    "import sklearn.linear_model\n",
    "import sklearn.datasets\n",
    "import sklearn.svm\n",
    "from sklearn.metrics import r2_score\n",
    "import sklearn.feature_extraction.text\n",
    "import sklearn.utils.sparsefuncs"
   ]
  },
  {
   "cell_type": "code",
   "execution_count": 25,
   "metadata": {
    "collapsed": true
   },
   "outputs": [],
   "source": [
    "import numpy as np\n",
    "\n",
    "def mean_absolute_percentage_error(y_true, y_pred): \n",
    "    y_true, y_pred = np.array(y_true), np.array(y_pred)\n",
    "    return np.mean(np.abs((y_true - y_pred)/ y_true)) * 100"
   ]
  },
  {
   "cell_type": "markdown",
   "metadata": {},
   "source": [
    "Standard LR"
   ]
  },
  {
   "cell_type": "code",
   "execution_count": 26,
   "metadata": {
    "collapsed": false
   },
   "outputs": [
    {
     "data": {
      "text/plain": [
       "LinearRegression(copy_X=True, fit_intercept=True, n_jobs=1, normalize=False)"
      ]
     },
     "execution_count": 26,
     "metadata": {},
     "output_type": "execute_result"
    }
   ],
   "source": [
    "regression = sklearn.linear_model.LinearRegression()\n",
    "regression.fit(X_train_meta_dtm, np.log(y_train))"
   ]
  },
  {
   "cell_type": "code",
   "execution_count": 27,
   "metadata": {
    "collapsed": true
   },
   "outputs": [],
   "source": [
    "yhat_lr = regression.predict(X_test_meta_dtm)"
   ]
  },
  {
   "cell_type": "code",
   "execution_count": 28,
   "metadata": {
    "collapsed": false
   },
   "outputs": [
    {
     "name": "stdout",
     "output_type": "stream",
     "text": [
      "r2: 0.667\n",
      "mape: 20.414\n"
     ]
    }
   ],
   "source": [
    "print(\"r2: %.3f\"%(r2_score(np.log(y_test),yhat_lr)))\n",
    "print(\"mape: %.3f\"%mean_absolute_percentage_error(np.log(y_test),yhat_lr))"
   ]
  },
  {
   "cell_type": "markdown",
   "metadata": {},
   "source": [
    "lasso, L1 penalized regression"
   ]
  },
  {
   "cell_type": "code",
   "execution_count": 29,
   "metadata": {
    "collapsed": true
   },
   "outputs": [],
   "source": [
    "lasso = sklearn.linear_model.Lasso(alpha = 0.1, max_iter=3000)"
   ]
  },
  {
   "cell_type": "code",
   "execution_count": 30,
   "metadata": {
    "collapsed": false
   },
   "outputs": [
    {
     "data": {
      "text/plain": [
       "Lasso(alpha=0.1, copy_X=True, fit_intercept=True, max_iter=3000,\n",
       "   normalize=False, positive=False, precompute=False, random_state=None,\n",
       "   selection='cyclic', tol=0.0001, warm_start=False)"
      ]
     },
     "execution_count": 30,
     "metadata": {},
     "output_type": "execute_result"
    }
   ],
   "source": [
    "lasso.fit(X_train_meta_dtm,np.log(y_train))"
   ]
  },
  {
   "cell_type": "code",
   "execution_count": 31,
   "metadata": {
    "collapsed": true
   },
   "outputs": [],
   "source": [
    "yhat_lasso = lasso.predict(X_test_meta_dtm)"
   ]
  },
  {
   "cell_type": "code",
   "execution_count": 32,
   "metadata": {
    "collapsed": false
   },
   "outputs": [
    {
     "name": "stdout",
     "output_type": "stream",
     "text": [
      "r2: 0.322\n",
      "mape: 32.316\n"
     ]
    }
   ],
   "source": [
    "print(\"r2: %.3f\"%(r2_score(np.log(y_test),yhat_lasso)))\n",
    "print(\"mape: %.3f\"%mean_absolute_percentage_error(np.log(y_test),yhat_lasso))"
   ]
  },
  {
   "cell_type": "markdown",
   "metadata": {},
   "source": [
    "Adaboost"
   ]
  },
  {
   "cell_type": "code",
   "execution_count": 33,
   "metadata": {
    "collapsed": true
   },
   "outputs": [],
   "source": [
    "from sklearn.ensemble import AdaBoostRegressor"
   ]
  },
  {
   "cell_type": "code",
   "execution_count": 34,
   "metadata": {
    "collapsed": true
   },
   "outputs": [],
   "source": [
    "ada = AdaBoostRegressor(base_estimator=None, n_estimators=200, learning_rate=1, loss=\"linear\", random_state=1)"
   ]
  },
  {
   "cell_type": "code",
   "execution_count": 35,
   "metadata": {
    "collapsed": false
   },
   "outputs": [
    {
     "data": {
      "text/plain": [
       "AdaBoostRegressor(base_estimator=None, learning_rate=1, loss='linear',\n",
       "         n_estimators=200, random_state=1)"
      ]
     },
     "execution_count": 35,
     "metadata": {},
     "output_type": "execute_result"
    }
   ],
   "source": [
    "ada.fit(X_train_meta_dtm, np.log(y_train))"
   ]
  },
  {
   "cell_type": "code",
   "execution_count": 36,
   "metadata": {
    "collapsed": true
   },
   "outputs": [],
   "source": [
    "yhat_ada = ada.predict(X_test_meta_dtm)"
   ]
  },
  {
   "cell_type": "code",
   "execution_count": 37,
   "metadata": {
    "collapsed": false
   },
   "outputs": [
    {
     "name": "stdout",
     "output_type": "stream",
     "text": [
      "r2: 0.639\n",
      "mape: 21.122\n"
     ]
    }
   ],
   "source": [
    "print(\"r2: %.3f\"%(r2_score(np.log(y_test),yhat_ada)))\n",
    "print(\"mape: %.3f\"%mean_absolute_percentage_error(np.log(y_test),yhat_ada))"
   ]
  },
  {
   "cell_type": "markdown",
   "metadata": {},
   "source": [
    "Gradient Boosted Trees"
   ]
  },
  {
   "cell_type": "code",
   "execution_count": 38,
   "metadata": {
    "collapsed": true
   },
   "outputs": [],
   "source": [
    "from sklearn.ensemble import GradientBoostingRegressor"
   ]
  },
  {
   "cell_type": "code",
   "execution_count": 39,
   "metadata": {
    "collapsed": false
   },
   "outputs": [],
   "source": [
    "gbr = GradientBoostingRegressor(loss=\"ls\", learning_rate=0.1, n_estimators=100, subsample=1.0, criterion=\"friedman_mse\", min_samples_split=2, min_samples_leaf=1, min_weight_fraction_leaf=0.0, max_depth=3, min_impurity_decrease=0.0, min_impurity_split=None, init=None, random_state=1, max_features=None, alpha=0.9, verbose=0, max_leaf_nodes=None, warm_start=False, presort=\"auto\")"
   ]
  },
  {
   "cell_type": "code",
   "execution_count": 40,
   "metadata": {
    "collapsed": false
   },
   "outputs": [
    {
     "data": {
      "text/plain": [
       "GradientBoostingRegressor(alpha=0.9, criterion='friedman_mse', init=None,\n",
       "             learning_rate=0.1, loss='ls', max_depth=3, max_features=None,\n",
       "             max_leaf_nodes=None, min_impurity_decrease=0.0,\n",
       "             min_impurity_split=None, min_samples_leaf=1,\n",
       "             min_samples_split=2, min_weight_fraction_leaf=0.0,\n",
       "             n_estimators=100, presort='auto', random_state=1,\n",
       "             subsample=1.0, verbose=0, warm_start=False)"
      ]
     },
     "execution_count": 40,
     "metadata": {},
     "output_type": "execute_result"
    }
   ],
   "source": [
    "gbr.fit(X_train_meta_dtm, np.log(y_train))"
   ]
  },
  {
   "cell_type": "code",
   "execution_count": 41,
   "metadata": {
    "collapsed": true
   },
   "outputs": [],
   "source": [
    "yhat_gbr = gbr.predict(X_test_meta_dtm)"
   ]
  },
  {
   "cell_type": "code",
   "execution_count": 42,
   "metadata": {
    "collapsed": false
   },
   "outputs": [
    {
     "name": "stdout",
     "output_type": "stream",
     "text": [
      "r2: 0.777\n",
      "mape: 15.889\n"
     ]
    }
   ],
   "source": [
    "print(\"r2: %.3f\"%(r2_score(np.log(y_test),yhat_gbr)))\n",
    "print(\"mape: %.3f\"%mean_absolute_percentage_error(np.log(y_test),yhat_gbr))"
   ]
  },
  {
   "cell_type": "markdown",
   "metadata": {},
   "source": [
    "### Model Interpretation"
   ]
  },
  {
   "cell_type": "code",
   "execution_count": 43,
   "metadata": {
    "collapsed": true
   },
   "outputs": [],
   "source": [
    "threshold = 1.0e-03"
   ]
  },
  {
   "cell_type": "code",
   "execution_count": 44,
   "metadata": {
    "collapsed": false
   },
   "outputs": [
    {
     "data": {
      "text/plain": [
       "0.9757797822387613"
      ]
     },
     "execution_count": 44,
     "metadata": {},
     "output_type": "execute_result"
    }
   ],
   "source": [
    "# Ignore the long tail\n",
    "gbr.feature_importances_[gbr.feature_importances_ >= threshold].sum()"
   ]
  },
  {
   "cell_type": "code",
   "execution_count": 45,
   "metadata": {
    "collapsed": true
   },
   "outputs": [],
   "source": [
    "impt_feats = gbr.feature_importances_ >= threshold"
   ]
  },
  {
   "cell_type": "code",
   "execution_count": 46,
   "metadata": {
    "collapsed": true
   },
   "outputs": [],
   "source": [
    "impt_ind = np.where(impt_feats[:-2])[0]"
   ]
  },
  {
   "cell_type": "code",
   "execution_count": 47,
   "metadata": {
    "collapsed": false
   },
   "outputs": [
    {
     "data": {
      "text/plain": [
       "array(['777tour', 'acer', 'acerwin10', 'available', 'awesome',\n",
       "       'badgalriri', 'bea1', 'bio', 'capture', 'capturedonp9', 'ces',\n",
       "       'ces2014', 'coming', 'cute', 'digs', 'domore', 'elifee6',\n",
       "       'featured', 'film', 'find5', 'flipkart', 'flyme', 'fullvision',\n",
       "       'g2', 'gioneea1plus', 'gioneee7', 'gioneeshutterbugs',\n",
       "       'gioneestargima', 'gioneesunburn', 'giveme5',\n",
       "       'guildawardswithgionee', 'guys', 'gwatchr', 'hewlettpackard', 'hp',\n",
       "       'htcgoesfullfrontal', 'htcone', 'htcrihanna', 'huaweimate10',\n",
       "       'huaweip10', 'huaweip8', 'ifa15', 'introducing', 'keepasking',\n",
       "       'lenovo', 'lgdailygram', 'lgg6', 'lgv30', 'lgv30sthinq', 'lounge',\n",
       "       'makesmiles', 'meizu', 'mi', 'moto360', 'motox', 'motoxmade',\n",
       "       'music', 'mymotox', 'mysuperg', 'new', 'nyc', 'oneplus5t',\n",
       "       'oppofind5', 'oppon1', 'optimus', 'p7max', 'perfectshot',\n",
       "       'pursuit', 'raghu', 'rai', 'redminote3', 'repost', 'selfieexpert',\n",
       "       'selfieflash', 'selfiestan', 'share', 'shotononeplus', 'sony',\n",
       "       'sonycamera', 'sonynex', 'sonyx', 'spro2', 'tablet', 'taken',\n",
       "       'thank', 'u11', 'v20', 'vivomobile', 'workwide', 'xiaomipics',\n",
       "       'xomotox', 'yoga'], dtype='<U31')"
      ]
     },
     "execution_count": 47,
     "metadata": {},
     "output_type": "execute_result"
    }
   ],
   "source": [
    "np.array(vect.get_feature_names())[impt_feats[:-2]]"
   ]
  },
  {
   "cell_type": "code",
   "execution_count": 48,
   "metadata": {
    "collapsed": false
   },
   "outputs": [
    {
     "data": {
      "text/plain": [
       "CountVectorizer(analyzer='word', binary=False, decode_error='strict',\n",
       "        dtype=<class 'numpy.int64'>, encoding='utf-8', input='content',\n",
       "        lowercase=True, max_df=0.3, max_features=None, min_df=4,\n",
       "        ngram_range=(1, 1), preprocessor=None, stop_words='english',\n",
       "        strip_accents=None, token_pattern='(?u)\\\\b\\\\w\\\\w+\\\\b',\n",
       "        tokenizer=None, vocabulary=None)"
      ]
     },
     "execution_count": 48,
     "metadata": {},
     "output_type": "execute_result"
    }
   ],
   "source": [
    "vect.fit(X_train.caption)"
   ]
  },
  {
   "cell_type": "code",
   "execution_count": 49,
   "metadata": {
    "collapsed": false
   },
   "outputs": [
    {
     "data": {
      "text/plain": [
       "94"
      ]
     },
     "execution_count": 49,
     "metadata": {},
     "output_type": "execute_result"
    }
   ],
   "source": [
    "gbr.feature_importances_[impt_feats].size"
   ]
  },
  {
   "cell_type": "code",
   "execution_count": 50,
   "metadata": {
    "collapsed": true
   },
   "outputs": [],
   "source": [
    "importance_df = pd.DataFrame()"
   ]
  },
  {
   "cell_type": "code",
   "execution_count": 51,
   "metadata": {
    "collapsed": true
   },
   "outputs": [],
   "source": [
    "importance_df[\"word\"] = np.array(vect.get_feature_names())[impt_feats[:-2]]"
   ]
  },
  {
   "cell_type": "code",
   "execution_count": 52,
   "metadata": {
    "collapsed": true
   },
   "outputs": [],
   "source": [
    "importance_df[\"importance\"] = gbr.feature_importances_[impt_feats][:-2]"
   ]
  },
  {
   "cell_type": "code",
   "execution_count": 53,
   "metadata": {
    "collapsed": true
   },
   "outputs": [],
   "source": [
    "importance_df = importance_df.sort_values(by=\"importance\",ascending=False)"
   ]
  },
  {
   "cell_type": "code",
   "execution_count": 54,
   "metadata": {
    "collapsed": true
   },
   "outputs": [],
   "source": [
    "meta_importance_df = pd.DataFrame([[\"n_followers\",0.24085896],[\"n_posts\",0.08033263,]],columns=[\"word\",\"importance\"])"
   ]
  },
  {
   "cell_type": "code",
   "execution_count": 55,
   "metadata": {
    "collapsed": false
   },
   "outputs": [
    {
     "data": {
      "text/html": [
       "<div>\n",
       "<table border=\"1\" class=\"dataframe\">\n",
       "  <thead>\n",
       "    <tr style=\"text-align: right;\">\n",
       "      <th></th>\n",
       "      <th>word</th>\n",
       "      <th>importance</th>\n",
       "    </tr>\n",
       "  </thead>\n",
       "  <tbody>\n",
       "    <tr>\n",
       "      <th>0</th>\n",
       "      <td>n_followers</td>\n",
       "      <td>0.240859</td>\n",
       "    </tr>\n",
       "    <tr>\n",
       "      <th>1</th>\n",
       "      <td>n_posts</td>\n",
       "      <td>0.080333</td>\n",
       "    </tr>\n",
       "    <tr>\n",
       "      <th>2</th>\n",
       "      <td>meizu</td>\n",
       "      <td>0.032434</td>\n",
       "    </tr>\n",
       "    <tr>\n",
       "      <th>3</th>\n",
       "      <td>gioneee7</td>\n",
       "      <td>0.023701</td>\n",
       "    </tr>\n",
       "    <tr>\n",
       "      <th>4</th>\n",
       "      <td>mi</td>\n",
       "      <td>0.020847</td>\n",
       "    </tr>\n",
       "    <tr>\n",
       "      <th>5</th>\n",
       "      <td>gioneestargima</td>\n",
       "      <td>0.020108</td>\n",
       "    </tr>\n",
       "    <tr>\n",
       "      <th>6</th>\n",
       "      <td>xiaomipics</td>\n",
       "      <td>0.019608</td>\n",
       "    </tr>\n",
       "    <tr>\n",
       "      <th>7</th>\n",
       "      <td>shotononeplus</td>\n",
       "      <td>0.018508</td>\n",
       "    </tr>\n",
       "    <tr>\n",
       "      <th>8</th>\n",
       "      <td>htcgoesfullfrontal</td>\n",
       "      <td>0.017214</td>\n",
       "    </tr>\n",
       "    <tr>\n",
       "      <th>9</th>\n",
       "      <td>moto360</td>\n",
       "      <td>0.016142</td>\n",
       "    </tr>\n",
       "    <tr>\n",
       "      <th>10</th>\n",
       "      <td>lgg6</td>\n",
       "      <td>0.015819</td>\n",
       "    </tr>\n",
       "    <tr>\n",
       "      <th>11</th>\n",
       "      <td>fullvision</td>\n",
       "      <td>0.015800</td>\n",
       "    </tr>\n",
       "    <tr>\n",
       "      <th>12</th>\n",
       "      <td>selfieflash</td>\n",
       "      <td>0.015130</td>\n",
       "    </tr>\n",
       "    <tr>\n",
       "      <th>13</th>\n",
       "      <td>motox</td>\n",
       "      <td>0.015066</td>\n",
       "    </tr>\n",
       "    <tr>\n",
       "      <th>14</th>\n",
       "      <td>htcone</td>\n",
       "      <td>0.014480</td>\n",
       "    </tr>\n",
       "    <tr>\n",
       "      <th>15</th>\n",
       "      <td>bea1</td>\n",
       "      <td>0.014207</td>\n",
       "    </tr>\n",
       "    <tr>\n",
       "      <th>16</th>\n",
       "      <td>selfiestan</td>\n",
       "      <td>0.014062</td>\n",
       "    </tr>\n",
       "    <tr>\n",
       "      <th>17</th>\n",
       "      <td>motoxmade</td>\n",
       "      <td>0.012943</td>\n",
       "    </tr>\n",
       "    <tr>\n",
       "      <th>18</th>\n",
       "      <td>htcrihanna</td>\n",
       "      <td>0.012810</td>\n",
       "    </tr>\n",
       "    <tr>\n",
       "      <th>19</th>\n",
       "      <td>flyme</td>\n",
       "      <td>0.012447</td>\n",
       "    </tr>\n",
       "  </tbody>\n",
       "</table>\n",
       "</div>"
      ],
      "text/plain": [
       "                  word  importance\n",
       "0          n_followers    0.240859\n",
       "1              n_posts    0.080333\n",
       "2                meizu    0.032434\n",
       "3             gioneee7    0.023701\n",
       "4                   mi    0.020847\n",
       "5       gioneestargima    0.020108\n",
       "6           xiaomipics    0.019608\n",
       "7        shotononeplus    0.018508\n",
       "8   htcgoesfullfrontal    0.017214\n",
       "9              moto360    0.016142\n",
       "10                lgg6    0.015819\n",
       "11          fullvision    0.015800\n",
       "12         selfieflash    0.015130\n",
       "13               motox    0.015066\n",
       "14              htcone    0.014480\n",
       "15                bea1    0.014207\n",
       "16          selfiestan    0.014062\n",
       "17           motoxmade    0.012943\n",
       "18          htcrihanna    0.012810\n",
       "19               flyme    0.012447"
      ]
     },
     "execution_count": 55,
     "metadata": {},
     "output_type": "execute_result"
    }
   ],
   "source": [
    "pd.concat([meta_importance_df,importance_df],axis = 0).reset_index(drop=True).head(20)"
   ]
  },
  {
   "cell_type": "markdown",
   "metadata": {},
   "source": [
    "### Select only useful features and use all data in final fitting"
   ]
  },
  {
   "cell_type": "code",
   "execution_count": 56,
   "metadata": {
    "collapsed": true
   },
   "outputs": [],
   "source": [
    "from sklearn.feature_selection import SelectFromModel"
   ]
  },
  {
   "cell_type": "code",
   "execution_count": 57,
   "metadata": {
    "collapsed": true
   },
   "outputs": [],
   "source": [
    "model = SelectFromModel(gbr, prefit=True)\n",
    "X_train_new = model.transform(X_train_meta_dtm)\n",
    "X_test_new = model.transform(X_test_meta_dtm)"
   ]
  },
  {
   "cell_type": "code",
   "execution_count": 58,
   "metadata": {
    "collapsed": true
   },
   "outputs": [],
   "source": [
    "X_final = np.vstack([X_train_new.toarray(),X_test_new.toarray()])\n",
    "y_final = np.concatenate([y_train.values, y_test.values])"
   ]
  },
  {
   "cell_type": "code",
   "execution_count": 59,
   "metadata": {
    "collapsed": false
   },
   "outputs": [
    {
     "data": {
      "text/plain": [
       "GradientBoostingRegressor(alpha=0.9, criterion='friedman_mse', init=None,\n",
       "             learning_rate=0.1, loss='ls', max_depth=3, max_features=None,\n",
       "             max_leaf_nodes=None, min_impurity_decrease=0.0,\n",
       "             min_impurity_split=None, min_samples_leaf=1,\n",
       "             min_samples_split=2, min_weight_fraction_leaf=0.0,\n",
       "             n_estimators=100, presort='auto', random_state=1,\n",
       "             subsample=1.0, verbose=0, warm_start=False)"
      ]
     },
     "execution_count": 59,
     "metadata": {},
     "output_type": "execute_result"
    }
   ],
   "source": [
    "gbr.fit(X_final, np.log(y_final))"
   ]
  },
  {
   "cell_type": "code",
   "execution_count": 60,
   "metadata": {
    "collapsed": true
   },
   "outputs": [],
   "source": [
    "yhat_gbr_2 = gbr.predict(X_test_new)"
   ]
  },
  {
   "cell_type": "code",
   "execution_count": 61,
   "metadata": {
    "collapsed": false,
    "scrolled": true
   },
   "outputs": [
    {
     "name": "stdout",
     "output_type": "stream",
     "text": [
      "r2: 0.780\n",
      "mape: 15.812\n"
     ]
    }
   ],
   "source": [
    "print(\"r2: %.3f\"%(r2_score(np.log(y_test),yhat_gbr_2)))\n",
    "print(\"mape: %.3f\"%mean_absolute_percentage_error(np.log(y_test),yhat_gbr_2))"
   ]
  },
  {
   "cell_type": "markdown",
   "metadata": {},
   "source": [
    "### Pickle file for later use"
   ]
  },
  {
   "cell_type": "code",
   "execution_count": 62,
   "metadata": {
    "collapsed": true
   },
   "outputs": [],
   "source": [
    "import pickle"
   ]
  },
  {
   "cell_type": "code",
   "execution_count": 67,
   "metadata": {
    "collapsed": false
   },
   "outputs": [],
   "source": [
    "with open(\"instagram_model.pkl\",\"wb\") as f:\n",
    "    pickle.dump(gbr, f)"
   ]
  },
  {
   "cell_type": "markdown",
   "metadata": {},
   "source": [
    "### Unpickling"
   ]
  },
  {
   "cell_type": "code",
   "execution_count": 68,
   "metadata": {
    "collapsed": true
   },
   "outputs": [],
   "source": [
    "with open(\"instagram_model.pkl\",\"rb\") as f:\n",
    "    gbr_insta = pickle.load(f)"
   ]
  },
  {
   "cell_type": "code",
   "execution_count": 69,
   "metadata": {
    "collapsed": false
   },
   "outputs": [
    {
     "data": {
      "text/plain": [
       "array([4.00077137, 4.02276018, 6.927449  , ..., 7.31613214, 9.26360863,\n",
       "       9.25397389])"
      ]
     },
     "execution_count": 69,
     "metadata": {},
     "output_type": "execute_result"
    }
   ],
   "source": [
    "gbr_insta.predict(X_test_new)"
   ]
  },
  {
   "cell_type": "markdown",
   "metadata": {},
   "source": [
    "### Facebook Data"
   ]
  },
  {
   "cell_type": "code",
   "execution_count": 70,
   "metadata": {
    "collapsed": true
   },
   "outputs": [],
   "source": [
    "fb_df = pd.read_csv(\"fb_final.csv\")"
   ]
  },
  {
   "cell_type": "code",
   "execution_count": 86,
   "metadata": {
    "collapsed": false
   },
   "outputs": [],
   "source": [
    "fb_df.page_followers = fb_df.page_followers.apply(lambda x: int(x.replace(\",\",\"\")))"
   ]
  },
  {
   "cell_type": "code",
   "execution_count": 87,
   "metadata": {
    "collapsed": true
   },
   "outputs": [],
   "source": [
    "fb_df.page_likes = fb_df.page_likes.apply(lambda x: int(x.replace(\",\",\"\")))"
   ]
  },
  {
   "cell_type": "code",
   "execution_count": 95,
   "metadata": {
    "collapsed": false
   },
   "outputs": [],
   "source": [
    "#only dropping 2 rows\n",
    "fb_df = fb_df[fb_df.post_likes != 0]"
   ]
  },
  {
   "cell_type": "code",
   "execution_count": 71,
   "metadata": {
    "collapsed": false
   },
   "outputs": [
    {
     "data": {
      "text/html": [
       "<div>\n",
       "<table border=\"1\" class=\"dataframe\">\n",
       "  <thead>\n",
       "    <tr style=\"text-align: right;\">\n",
       "      <th></th>\n",
       "      <th>brand</th>\n",
       "      <th>post_comments</th>\n",
       "      <th>created_time</th>\n",
       "      <th>post_likes</th>\n",
       "      <th>post_message</th>\n",
       "      <th>post_shares</th>\n",
       "      <th>post_type</th>\n",
       "      <th>page_likes</th>\n",
       "      <th>page_followers</th>\n",
       "    </tr>\n",
       "  </thead>\n",
       "  <tbody>\n",
       "    <tr>\n",
       "      <th>0</th>\n",
       "      <td>Alcatel</td>\n",
       "      <td>0</td>\n",
       "      <td>2016-03-28T06:42:37+0000</td>\n",
       "      <td>2</td>\n",
       "      <td>Sometimes you gotta stop to smell the flowers… and snap a pic. Take a break,...</td>\n",
       "      <td>1</td>\n",
       "      <td>photo</td>\n",
       "      <td>8,742,189</td>\n",
       "      <td>8,742,177</td>\n",
       "    </tr>\n",
       "    <tr>\n",
       "      <th>1</th>\n",
       "      <td>Alcatel</td>\n",
       "      <td>2</td>\n",
       "      <td>2016-03-17T06:24:16+0000</td>\n",
       "      <td>15</td>\n",
       "      <td>Enjoy super fast LTE CAT 6 speed and a long lasting 3600mAh battery with pow...</td>\n",
       "      <td>6</td>\n",
       "      <td>photo</td>\n",
       "      <td>8,742,189</td>\n",
       "      <td>8,742,177</td>\n",
       "    </tr>\n",
       "    <tr>\n",
       "      <th>2</th>\n",
       "      <td>Alcatel</td>\n",
       "      <td>1</td>\n",
       "      <td>2016-03-09T04:23:38+0000</td>\n",
       "      <td>41</td>\n",
       "      <td>Dustproof, shockproof, waterproof smartwatch, ALCATEL GO Watch is ready for ...</td>\n",
       "      <td>2</td>\n",
       "      <td>photo</td>\n",
       "      <td>8,742,189</td>\n",
       "      <td>8,742,177</td>\n",
       "    </tr>\n",
       "    <tr>\n",
       "      <th>3</th>\n",
       "      <td>Alcatel</td>\n",
       "      <td>0</td>\n",
       "      <td>2016-02-19T08:26:34+0000</td>\n",
       "      <td>70</td>\n",
       "      <td>Check out the greatness of ALCATEL ONETOUCH Flash2 13megapixels camera at ma...</td>\n",
       "      <td>4</td>\n",
       "      <td>photo</td>\n",
       "      <td>8,742,189</td>\n",
       "      <td>8,742,177</td>\n",
       "    </tr>\n",
       "    <tr>\n",
       "      <th>4</th>\n",
       "      <td>Alcatel</td>\n",
       "      <td>0</td>\n",
       "      <td>2016-01-29T08:54:45+0000</td>\n",
       "      <td>2</td>\n",
       "      <td>ALCATEL ONETOUCH Recognized Twice in the 2015-2016 Global Top Brands.</td>\n",
       "      <td>1</td>\n",
       "      <td>link</td>\n",
       "      <td>8,742,189</td>\n",
       "      <td>8,742,177</td>\n",
       "    </tr>\n",
       "    <tr>\n",
       "      <th>5</th>\n",
       "      <td>Alcatel</td>\n",
       "      <td>3</td>\n",
       "      <td>2016-01-28T06:16:25+0000</td>\n",
       "      <td>22</td>\n",
       "      <td>Enter this code MONKEY18 at checkout to enjoy the discount. Get your ALCATEL...</td>\n",
       "      <td>5</td>\n",
       "      <td>photo</td>\n",
       "      <td>8,742,189</td>\n",
       "      <td>8,742,177</td>\n",
       "    </tr>\n",
       "    <tr>\n",
       "      <th>6</th>\n",
       "      <td>Alcatel</td>\n",
       "      <td>1</td>\n",
       "      <td>2016-01-26T10:28:39+0000</td>\n",
       "      <td>6</td>\n",
       "      <td>No excuse to miss Flash 2. We are giving $18 discount for each purchase. Hur...</td>\n",
       "      <td>1</td>\n",
       "      <td>photo</td>\n",
       "      <td>8,742,189</td>\n",
       "      <td>8,742,177</td>\n",
       "    </tr>\n",
       "    <tr>\n",
       "      <th>7</th>\n",
       "      <td>Alcatel</td>\n",
       "      <td>0</td>\n",
       "      <td>2016-01-19T09:52:15+0000</td>\n",
       "      <td>8</td>\n",
       "      <td>Just WATCH.\\n\\n#alcatelsg #smartwatch #fitnesstracker #nofilter #affordable ...</td>\n",
       "      <td>1</td>\n",
       "      <td>photo</td>\n",
       "      <td>8,742,189</td>\n",
       "      <td>8,742,177</td>\n",
       "    </tr>\n",
       "    <tr>\n",
       "      <th>8</th>\n",
       "      <td>Alcatel</td>\n",
       "      <td>0</td>\n",
       "      <td>2016-01-19T04:13:59+0000</td>\n",
       "      <td>10</td>\n",
       "      <td>10 Reasons to love ALCATEL FLASH2!\\n\\nThank you, William Tan</td>\n",
       "      <td>2</td>\n",
       "      <td>link</td>\n",
       "      <td>8,742,189</td>\n",
       "      <td>8,742,177</td>\n",
       "    </tr>\n",
       "    <tr>\n",
       "      <th>9</th>\n",
       "      <td>Alcatel</td>\n",
       "      <td>0</td>\n",
       "      <td>2016-01-13T09:03:38+0000</td>\n",
       "      <td>11</td>\n",
       "      <td>Congratulations to all winners and  thanks for participating.\\n\\n#alcatelsg ...</td>\n",
       "      <td>1</td>\n",
       "      <td>photo</td>\n",
       "      <td>8,742,189</td>\n",
       "      <td>8,742,177</td>\n",
       "    </tr>\n",
       "    <tr>\n",
       "      <th>10</th>\n",
       "      <td>Alcatel</td>\n",
       "      <td>0</td>\n",
       "      <td>2016-01-13T02:44:05+0000</td>\n",
       "      <td>2</td>\n",
       "      <td>For today only, Flash2 at $179!!! While stocks last!!!\\nBuy here: http://goo...</td>\n",
       "      <td>1</td>\n",
       "      <td>photo</td>\n",
       "      <td>8,742,189</td>\n",
       "      <td>8,742,177</td>\n",
       "    </tr>\n",
       "    <tr>\n",
       "      <th>11</th>\n",
       "      <td>Alcatel</td>\n",
       "      <td>0</td>\n",
       "      <td>2016-01-06T04:15:56+0000</td>\n",
       "      <td>7</td>\n",
       "      <td>Our street,  our memories. \\n\\nPhoto credit: @musicdiary Chester Tan, musicp...</td>\n",
       "      <td>1</td>\n",
       "      <td>photo</td>\n",
       "      <td>8,742,189</td>\n",
       "      <td>8,742,177</td>\n",
       "    </tr>\n",
       "    <tr>\n",
       "      <th>12</th>\n",
       "      <td>Alcatel</td>\n",
       "      <td>0</td>\n",
       "      <td>2016-01-05T04:02:37+0000</td>\n",
       "      <td>31</td>\n",
       "      <td>Smartphone below $200, perform like a flagship. \\n\\nGet it now &gt;&gt;&gt;  http://l...</td>\n",
       "      <td>6</td>\n",
       "      <td>link</td>\n",
       "      <td>8,742,189</td>\n",
       "      <td>8,742,177</td>\n",
       "    </tr>\n",
       "    <tr>\n",
       "      <th>13</th>\n",
       "      <td>Alcatel</td>\n",
       "      <td>1</td>\n",
       "      <td>2016-08-16T04:08:16+0000</td>\n",
       "      <td>10</td>\n",
       "      <td>Desired design, camera, audio, battery performance in one affordable device....</td>\n",
       "      <td>2</td>\n",
       "      <td>photo</td>\n",
       "      <td>8,742,189</td>\n",
       "      <td>8,742,177</td>\n",
       "    </tr>\n",
       "    <tr>\n",
       "      <th>14</th>\n",
       "      <td>Alcatel</td>\n",
       "      <td>0</td>\n",
       "      <td>2016-08-05T07:15:03+0000</td>\n",
       "      <td>5</td>\n",
       "      <td>Live the XL experience with our new PIXI4 6\".\\nNow available at: http://list...</td>\n",
       "      <td>2</td>\n",
       "      <td>video</td>\n",
       "      <td>8,742,189</td>\n",
       "      <td>8,742,177</td>\n",
       "    </tr>\n",
       "    <tr>\n",
       "      <th>15</th>\n",
       "      <td>Alcatel</td>\n",
       "      <td>0</td>\n",
       "      <td>2016-12-29T08:00:05+0000</td>\n",
       "      <td>0</td>\n",
       "      <td>Congratulations to all winners of Alcatel IDOL4 X Assassin's Creed movie pre...</td>\n",
       "      <td>1</td>\n",
       "      <td>photo</td>\n",
       "      <td>8,742,189</td>\n",
       "      <td>8,742,177</td>\n",
       "    </tr>\n",
       "    <tr>\n",
       "      <th>16</th>\n",
       "      <td>Alcatel</td>\n",
       "      <td>0</td>\n",
       "      <td>2016-12-13T05:40:57+0000</td>\n",
       "      <td>3</td>\n",
       "      <td>Purchase Alcatel IDOL4 and stand a chance to win Assassin’s Creed exclusive ...</td>\n",
       "      <td>2</td>\n",
       "      <td>photo</td>\n",
       "      <td>8,742,189</td>\n",
       "      <td>8,742,177</td>\n",
       "    </tr>\n",
       "    <tr>\n",
       "      <th>17</th>\n",
       "      <td>Alcatel</td>\n",
       "      <td>1</td>\n",
       "      <td>2016-11-24T04:14:58+0000</td>\n",
       "      <td>4</td>\n",
       "      <td>Alcatel Plus 10 is here! Your office on the move.\\n\\nGet your 2in1 tablet + ...</td>\n",
       "      <td>2</td>\n",
       "      <td>video</td>\n",
       "      <td>8,742,189</td>\n",
       "      <td>8,742,177</td>\n",
       "    </tr>\n",
       "    <tr>\n",
       "      <th>18</th>\n",
       "      <td>Blackberry</td>\n",
       "      <td>46</td>\n",
       "      <td>2017-03-01T10:48:00+0000</td>\n",
       "      <td>187</td>\n",
       "      <td>Be the first to know when the new BlackBerry KEYone is ready for pre-order. ...</td>\n",
       "      <td>27</td>\n",
       "      <td>link</td>\n",
       "      <td>38,380</td>\n",
       "      <td>39,772</td>\n",
       "    </tr>\n",
       "    <tr>\n",
       "      <th>19</th>\n",
       "      <td>Blackberry</td>\n",
       "      <td>29</td>\n",
       "      <td>2017-02-28T10:58:30+0000</td>\n",
       "      <td>165</td>\n",
       "      <td>The new BlackBerry KEYone is causing quite the sensation here at #MWC2017. W...</td>\n",
       "      <td>22</td>\n",
       "      <td>photo</td>\n",
       "      <td>38,380</td>\n",
       "      <td>39,772</td>\n",
       "    </tr>\n",
       "    <tr>\n",
       "      <th>20</th>\n",
       "      <td>Blackberry</td>\n",
       "      <td>45</td>\n",
       "      <td>2017-02-27T12:13:10+0000</td>\n",
       "      <td>269</td>\n",
       "      <td>Impressively designed and distinctly different, BlackBerry KEYone reimagines...</td>\n",
       "      <td>408</td>\n",
       "      <td>video</td>\n",
       "      <td>38,380</td>\n",
       "      <td>39,772</td>\n",
       "    </tr>\n",
       "    <tr>\n",
       "      <th>21</th>\n",
       "      <td>Blackberry</td>\n",
       "      <td>32</td>\n",
       "      <td>2017-02-25T19:06:45+0000</td>\n",
       "      <td>131</td>\n",
       "      <td>The new BlackBerry KEYone is finally here, be the first to discover everythi...</td>\n",
       "      <td>40</td>\n",
       "      <td>link</td>\n",
       "      <td>38,380</td>\n",
       "      <td>39,772</td>\n",
       "    </tr>\n",
       "    <tr>\n",
       "      <th>22</th>\n",
       "      <td>Blackberry</td>\n",
       "      <td>0</td>\n",
       "      <td>2017-02-25T15:43:11+0000</td>\n",
       "      <td>51</td>\n",
       "      <td>Today is the big day! Follow the official launch of our new BlackBerry smart...</td>\n",
       "      <td>1</td>\n",
       "      <td>link</td>\n",
       "      <td>38,380</td>\n",
       "      <td>39,772</td>\n",
       "    </tr>\n",
       "    <tr>\n",
       "      <th>23</th>\n",
       "      <td>Blackberry</td>\n",
       "      <td>4</td>\n",
       "      <td>2017-02-24T17:20:44+0000</td>\n",
       "      <td>70</td>\n",
       "      <td>The camera that's taking back the night. Don't miss out on the big launch to...</td>\n",
       "      <td>1</td>\n",
       "      <td>photo</td>\n",
       "      <td>38,380</td>\n",
       "      <td>39,772</td>\n",
       "    </tr>\n",
       "    <tr>\n",
       "      <th>24</th>\n",
       "      <td>Blackberry</td>\n",
       "      <td>17</td>\n",
       "      <td>2017-06-28T18:34:25+0000</td>\n",
       "      <td>368</td>\n",
       "      <td>With Privacy Shade on the BlackBerry KEYone you can keep your sensitive data...</td>\n",
       "      <td>72</td>\n",
       "      <td>video</td>\n",
       "      <td>38,380</td>\n",
       "      <td>39,772</td>\n",
       "    </tr>\n",
       "    <tr>\n",
       "      <th>25</th>\n",
       "      <td>Blackberry</td>\n",
       "      <td>18</td>\n",
       "      <td>2017-06-28T17:45:10+0000</td>\n",
       "      <td>261</td>\n",
       "      <td>Double tap the power key to quick launch the BlackBerry #KEYone camera. Neve...</td>\n",
       "      <td>19</td>\n",
       "      <td>photo</td>\n",
       "      <td>38,380</td>\n",
       "      <td>39,772</td>\n",
       "    </tr>\n",
       "    <tr>\n",
       "      <th>26</th>\n",
       "      <td>Blackberry</td>\n",
       "      <td>22</td>\n",
       "      <td>2017-06-26T17:34:52+0000</td>\n",
       "      <td>283</td>\n",
       "      <td>Which BlackBerry KEYone wallpaper is your favorite?</td>\n",
       "      <td>15</td>\n",
       "      <td>link</td>\n",
       "      <td>38,380</td>\n",
       "      <td>39,772</td>\n",
       "    </tr>\n",
       "    <tr>\n",
       "      <th>27</th>\n",
       "      <td>Blackberry</td>\n",
       "      <td>11</td>\n",
       "      <td>2017-06-26T14:41:08+0000</td>\n",
       "      <td>242</td>\n",
       "      <td>Back in stock with John Lewis online!</td>\n",
       "      <td>9</td>\n",
       "      <td>link</td>\n",
       "      <td>38,380</td>\n",
       "      <td>39,772</td>\n",
       "    </tr>\n",
       "    <tr>\n",
       "      <th>28</th>\n",
       "      <td>Blackberry</td>\n",
       "      <td>28</td>\n",
       "      <td>2017-06-23T16:59:28+0000</td>\n",
       "      <td>258</td>\n",
       "      <td>BlackBerry KEYone lets you multitask with recent app tiles that adjust to yo...</td>\n",
       "      <td>15</td>\n",
       "      <td>photo</td>\n",
       "      <td>38,380</td>\n",
       "      <td>39,772</td>\n",
       "    </tr>\n",
       "    <tr>\n",
       "      <th>29</th>\n",
       "      <td>Blackberry</td>\n",
       "      <td>37</td>\n",
       "      <td>2017-06-19T12:51:17+0000</td>\n",
       "      <td>321</td>\n",
       "      <td>The BlackBerry KEYone has full support for Whatsapp so you can video call, c...</td>\n",
       "      <td>34</td>\n",
       "      <td>video</td>\n",
       "      <td>38,380</td>\n",
       "      <td>39,772</td>\n",
       "    </tr>\n",
       "    <tr>\n",
       "      <th>...</th>\n",
       "      <td>...</td>\n",
       "      <td>...</td>\n",
       "      <td>...</td>\n",
       "      <td>...</td>\n",
       "      <td>...</td>\n",
       "      <td>...</td>\n",
       "      <td>...</td>\n",
       "      <td>...</td>\n",
       "      <td>...</td>\n",
       "    </tr>\n",
       "    <tr>\n",
       "      <th>9610</th>\n",
       "      <td>ZTE</td>\n",
       "      <td>4</td>\n",
       "      <td>2018-02-25T00:39:21+0000</td>\n",
       "      <td>49</td>\n",
       "      <td>#MWC18 We just won the “Innovative Mobile Service and Application” Award 201...</td>\n",
       "      <td>3</td>\n",
       "      <td>photo</td>\n",
       "      <td>459,162</td>\n",
       "      <td>458,468</td>\n",
       "    </tr>\n",
       "    <tr>\n",
       "      <th>9611</th>\n",
       "      <td>ZTE</td>\n",
       "      <td>28</td>\n",
       "      <td>2018-02-24T22:37:35+0000</td>\n",
       "      <td>53812</td>\n",
       "      <td>#MWC18 We just won the 2017 “Market Development” Award for our outstanding p...</td>\n",
       "      <td>23</td>\n",
       "      <td>photo</td>\n",
       "      <td>459,162</td>\n",
       "      <td>458,468</td>\n",
       "    </tr>\n",
       "    <tr>\n",
       "      <th>9612</th>\n",
       "      <td>ZTE</td>\n",
       "      <td>1</td>\n",
       "      <td>2018-02-24T08:53:44+0000</td>\n",
       "      <td>2249</td>\n",
       "      <td>#MWC18 kicks off in just 2 days. We are leading #5G innovations with 3 compe...</td>\n",
       "      <td>18</td>\n",
       "      <td>photo</td>\n",
       "      <td>459,162</td>\n",
       "      <td>458,468</td>\n",
       "    </tr>\n",
       "    <tr>\n",
       "      <th>9613</th>\n",
       "      <td>ZTE</td>\n",
       "      <td>28</td>\n",
       "      <td>2018-02-23T05:21:00+0000</td>\n",
       "      <td>2113</td>\n",
       "      <td>#MWC18 at your finger tip! Our #3D animation guides you thru our #5G innovat...</td>\n",
       "      <td>224</td>\n",
       "      <td>video</td>\n",
       "      <td>459,162</td>\n",
       "      <td>458,468</td>\n",
       "    </tr>\n",
       "    <tr>\n",
       "      <th>9614</th>\n",
       "      <td>ZTE</td>\n",
       "      <td>2</td>\n",
       "      <td>2018-02-19T09:19:34+0000</td>\n",
       "      <td>32</td>\n",
       "      <td>What's big in #Barcelona this Feb? #MWC18? There is more thru your camera! C...</td>\n",
       "      <td>6</td>\n",
       "      <td>video</td>\n",
       "      <td>459,162</td>\n",
       "      <td>458,468</td>\n",
       "    </tr>\n",
       "    <tr>\n",
       "      <th>9615</th>\n",
       "      <td>ZTE</td>\n",
       "      <td>0</td>\n",
       "      <td>2018-02-16T01:48:20+0000</td>\n",
       "      <td>84</td>\n",
       "      <td>We wish you a prosperous #Chinese New Year! This is the year of #Dog. Do you...</td>\n",
       "      <td>16</td>\n",
       "      <td>photo</td>\n",
       "      <td>459,162</td>\n",
       "      <td>458,468</td>\n",
       "    </tr>\n",
       "    <tr>\n",
       "      <th>9616</th>\n",
       "      <td>ZTE</td>\n",
       "      <td>2</td>\n",
       "      <td>2018-02-14T13:17:40+0000</td>\n",
       "      <td>53</td>\n",
       "      <td>#MWC18 Our carrier-grade vBRAS has exceptionally completed CU (Control Plane...</td>\n",
       "      <td>6</td>\n",
       "      <td>photo</td>\n",
       "      <td>459,162</td>\n",
       "      <td>458,468</td>\n",
       "    </tr>\n",
       "    <tr>\n",
       "      <th>9617</th>\n",
       "      <td>ZTE</td>\n",
       "      <td>2</td>\n",
       "      <td>2018-02-14T11:24:16+0000</td>\n",
       "      <td>70</td>\n",
       "      <td>#MWC18 In every technological revolution, we keep contributing to #5G standa...</td>\n",
       "      <td>10</td>\n",
       "      <td>photo</td>\n",
       "      <td>459,162</td>\n",
       "      <td>458,468</td>\n",
       "    </tr>\n",
       "    <tr>\n",
       "      <th>9618</th>\n",
       "      <td>ZTE</td>\n",
       "      <td>2</td>\n",
       "      <td>2018-02-13T09:54:20+0000</td>\n",
       "      <td>61</td>\n",
       "      <td>#MWC18 Everything starts with connectivity. #5G connectivity is now sparking...</td>\n",
       "      <td>6</td>\n",
       "      <td>photo</td>\n",
       "      <td>459,162</td>\n",
       "      <td>458,468</td>\n",
       "    </tr>\n",
       "    <tr>\n",
       "      <th>9619</th>\n",
       "      <td>ZTE</td>\n",
       "      <td>0</td>\n",
       "      <td>2018-02-12T08:14:21+0000</td>\n",
       "      <td>43</td>\n",
       "      <td>#MWC18 We are thrilled to clinch 70% share in #Rostelecom’s project to upgra...</td>\n",
       "      <td>3</td>\n",
       "      <td>photo</td>\n",
       "      <td>459,162</td>\n",
       "      <td>458,468</td>\n",
       "    </tr>\n",
       "    <tr>\n",
       "      <th>9620</th>\n",
       "      <td>ZTE</td>\n",
       "      <td>2</td>\n",
       "      <td>2018-02-09T10:04:20+0000</td>\n",
       "      <td>22</td>\n",
       "      <td>#MWC18 #Machine learning and #telecom technologies are increasingly integrat...</td>\n",
       "      <td>1</td>\n",
       "      <td>video</td>\n",
       "      <td>459,162</td>\n",
       "      <td>458,468</td>\n",
       "    </tr>\n",
       "    <tr>\n",
       "      <th>9621</th>\n",
       "      <td>ZTE</td>\n",
       "      <td>18</td>\n",
       "      <td>2018-02-07T09:50:00+0000</td>\n",
       "      <td>1181</td>\n",
       "      <td>#MWC18 #5G will be the next big thing that changes people’s lives and societ...</td>\n",
       "      <td>97</td>\n",
       "      <td>video</td>\n",
       "      <td>459,162</td>\n",
       "      <td>458,468</td>\n",
       "    </tr>\n",
       "    <tr>\n",
       "      <th>9622</th>\n",
       "      <td>ZTE</td>\n",
       "      <td>0</td>\n",
       "      <td>2018-02-06T12:00:09+0000</td>\n",
       "      <td>48</td>\n",
       "      <td>#MWC18 Autonomous, predictive, on-demand and smart operation are what we env...</td>\n",
       "      <td>6</td>\n",
       "      <td>photo</td>\n",
       "      <td>459,162</td>\n",
       "      <td>458,468</td>\n",
       "    </tr>\n",
       "    <tr>\n",
       "      <th>9623</th>\n",
       "      <td>ZTE</td>\n",
       "      <td>1</td>\n",
       "      <td>2018-02-06T09:51:10+0000</td>\n",
       "      <td>67</td>\n",
       "      <td>#MWC18 How does the world’s first #5G E2E network slicing solution look like...</td>\n",
       "      <td>7</td>\n",
       "      <td>photo</td>\n",
       "      <td>459,162</td>\n",
       "      <td>458,468</td>\n",
       "    </tr>\n",
       "    <tr>\n",
       "      <th>9624</th>\n",
       "      <td>ZTE</td>\n",
       "      <td>0</td>\n",
       "      <td>2018-02-05T10:07:28+0000</td>\n",
       "      <td>47</td>\n",
       "      <td>#MWC18 What’s high bandwidth at home? We just released ZXHN H186 providing b...</td>\n",
       "      <td>5</td>\n",
       "      <td>photo</td>\n",
       "      <td>459,162</td>\n",
       "      <td>458,468</td>\n",
       "    </tr>\n",
       "    <tr>\n",
       "      <th>9625</th>\n",
       "      <td>ZTE</td>\n",
       "      <td>2</td>\n",
       "      <td>2018-02-02T04:10:05+0000</td>\n",
       "      <td>72</td>\n",
       "      <td>Way to go! We just released our guidance for 293% gain in 2017 #net profit, ...</td>\n",
       "      <td>25</td>\n",
       "      <td>photo</td>\n",
       "      <td>459,162</td>\n",
       "      <td>458,468</td>\n",
       "    </tr>\n",
       "    <tr>\n",
       "      <th>9626</th>\n",
       "      <td>ZTE</td>\n",
       "      <td>9</td>\n",
       "      <td>2018-01-31T06:51:34+0000</td>\n",
       "      <td>100</td>\n",
       "      <td>#MWC18 ZTE, 5G and #Barcelona. The World Mobile Congress is just a few weeks...</td>\n",
       "      <td>36</td>\n",
       "      <td>photo</td>\n",
       "      <td>459,162</td>\n",
       "      <td>458,468</td>\n",
       "    </tr>\n",
       "    <tr>\n",
       "      <th>9627</th>\n",
       "      <td>ZTE</td>\n",
       "      <td>2</td>\n",
       "      <td>2018-01-30T03:50:48+0000</td>\n",
       "      <td>55</td>\n",
       "      <td>Planning for #5G network? ZTE and #Intel already did. We partnered on a 5G I...</td>\n",
       "      <td>15</td>\n",
       "      <td>video</td>\n",
       "      <td>459,162</td>\n",
       "      <td>458,468</td>\n",
       "    </tr>\n",
       "    <tr>\n",
       "      <th>9628</th>\n",
       "      <td>ZTE</td>\n",
       "      <td>0</td>\n",
       "      <td>2018-01-19T08:38:18+0000</td>\n",
       "      <td>55</td>\n",
       "      <td>Proud to announce that we have been named a Global Tech Leader in Thomson Re...</td>\n",
       "      <td>11</td>\n",
       "      <td>photo</td>\n",
       "      <td>459,162</td>\n",
       "      <td>458,468</td>\n",
       "    </tr>\n",
       "    <tr>\n",
       "      <th>9629</th>\n",
       "      <td>ZTE</td>\n",
       "      <td>7</td>\n",
       "      <td>2018-01-18T09:42:42+0000</td>\n",
       "      <td>47</td>\n",
       "      <td>Basketball Star Autograph is just a few clicks away! Share this post with yo...</td>\n",
       "      <td>17</td>\n",
       "      <td>photo</td>\n",
       "      <td>459,162</td>\n",
       "      <td>458,468</td>\n",
       "    </tr>\n",
       "    <tr>\n",
       "      <th>9630</th>\n",
       "      <td>ZTE</td>\n",
       "      <td>0</td>\n",
       "      <td>2018-01-12T06:31:53+0000</td>\n",
       "      <td>34</td>\n",
       "      <td>Slam dunk! We have the legendary 𝐋𝐚𝐫𝐫𝐲 𝐉𝐨𝐡𝐧𝐬𝐨𝐧 in the house! #CES2018</td>\n",
       "      <td>1</td>\n",
       "      <td>video</td>\n",
       "      <td>459,162</td>\n",
       "      <td>458,468</td>\n",
       "    </tr>\n",
       "    <tr>\n",
       "      <th>9631</th>\n",
       "      <td>ZTE</td>\n",
       "      <td>2</td>\n",
       "      <td>2018-01-11T07:31:16+0000</td>\n",
       "      <td>20</td>\n",
       "      <td>You have two Apps going at the same time for #AxonM. Check out what 'Big Sho...</td>\n",
       "      <td>2</td>\n",
       "      <td>video</td>\n",
       "      <td>459,162</td>\n",
       "      <td>458,468</td>\n",
       "    </tr>\n",
       "    <tr>\n",
       "      <th>9632</th>\n",
       "      <td>ZTE</td>\n",
       "      <td>2</td>\n",
       "      <td>2018-01-11T05:49:14+0000</td>\n",
       "      <td>66</td>\n",
       "      <td>#CES2018 7 time champion 'Big Shot Rob' Robert Horry at our booth! Stay tune...</td>\n",
       "      <td>2</td>\n",
       "      <td>video</td>\n",
       "      <td>459,162</td>\n",
       "      <td>458,468</td>\n",
       "    </tr>\n",
       "    <tr>\n",
       "      <th>9633</th>\n",
       "      <td>ZTE</td>\n",
       "      <td>0</td>\n",
       "      <td>2018-01-10T10:51:45+0000</td>\n",
       "      <td>33</td>\n",
       "      <td>Basketball fans at #CES2018 ？The legendary Adonal Foyle says hello from our ...</td>\n",
       "      <td>2</td>\n",
       "      <td>video</td>\n",
       "      <td>459,162</td>\n",
       "      <td>458,468</td>\n",
       "    </tr>\n",
       "    <tr>\n",
       "      <th>9634</th>\n",
       "      <td>ZTE</td>\n",
       "      <td>0</td>\n",
       "      <td>2018-01-10T09:36:54+0000</td>\n",
       "      <td>47</td>\n",
       "      <td>We just unveil our #5G Core product, Cloud ServCore, based on SBA. It’s a so...</td>\n",
       "      <td>2</td>\n",
       "      <td>photo</td>\n",
       "      <td>459,162</td>\n",
       "      <td>458,468</td>\n",
       "    </tr>\n",
       "    <tr>\n",
       "      <th>9635</th>\n",
       "      <td>ZTE</td>\n",
       "      <td>1</td>\n",
       "      <td>2018-01-10T07:54:46+0000</td>\n",
       "      <td>78</td>\n",
       "      <td>We are back at #CES2018! This year we talk about current smartphone trends i...</td>\n",
       "      <td>4</td>\n",
       "      <td>photo</td>\n",
       "      <td>459,162</td>\n",
       "      <td>458,468</td>\n",
       "    </tr>\n",
       "    <tr>\n",
       "      <th>9636</th>\n",
       "      <td>ZTE</td>\n",
       "      <td>0</td>\n",
       "      <td>2018-01-09T09:47:23+0000</td>\n",
       "      <td>50</td>\n",
       "      <td>We have worked with China Telecom to complete the world’s first vBRAS full d...</td>\n",
       "      <td>1</td>\n",
       "      <td>photo</td>\n",
       "      <td>459,162</td>\n",
       "      <td>458,468</td>\n",
       "    </tr>\n",
       "    <tr>\n",
       "      <th>9637</th>\n",
       "      <td>ZTE</td>\n",
       "      <td>0</td>\n",
       "      <td>2018-01-09T06:31:46+0000</td>\n",
       "      <td>48</td>\n",
       "      <td>Our ZTE CloudStudio VNFM is ranked as Leader by #GlobalData in its lastest s...</td>\n",
       "      <td>3</td>\n",
       "      <td>photo</td>\n",
       "      <td>459,162</td>\n",
       "      <td>458,468</td>\n",
       "    </tr>\n",
       "    <tr>\n",
       "      <th>9638</th>\n",
       "      <td>ZTE</td>\n",
       "      <td>0</td>\n",
       "      <td>2018-01-05T06:22:56+0000</td>\n",
       "      <td>26</td>\n",
       "      <td>GSMA just released the latest Mobile Connectivity Index. Click to see who is...</td>\n",
       "      <td>2</td>\n",
       "      <td>photo</td>\n",
       "      <td>459,162</td>\n",
       "      <td>458,468</td>\n",
       "    </tr>\n",
       "    <tr>\n",
       "      <th>9639</th>\n",
       "      <td>ZTE</td>\n",
       "      <td>6</td>\n",
       "      <td>2018-01-01T04:32:32+0000</td>\n",
       "      <td>101</td>\n",
       "      <td>Whether you’re tucked up in bed or out on the town celebrating, everyone at ...</td>\n",
       "      <td>10</td>\n",
       "      <td>photo</td>\n",
       "      <td>459,162</td>\n",
       "      <td>458,468</td>\n",
       "    </tr>\n",
       "  </tbody>\n",
       "</table>\n",
       "<p>9640 rows × 9 columns</p>\n",
       "</div>"
      ],
      "text/plain": [
       "           brand  post_comments              created_time  post_likes  \\\n",
       "0        Alcatel              0  2016-03-28T06:42:37+0000           2   \n",
       "1        Alcatel              2  2016-03-17T06:24:16+0000          15   \n",
       "2        Alcatel              1  2016-03-09T04:23:38+0000          41   \n",
       "3        Alcatel              0  2016-02-19T08:26:34+0000          70   \n",
       "4        Alcatel              0  2016-01-29T08:54:45+0000           2   \n",
       "5        Alcatel              3  2016-01-28T06:16:25+0000          22   \n",
       "6        Alcatel              1  2016-01-26T10:28:39+0000           6   \n",
       "7        Alcatel              0  2016-01-19T09:52:15+0000           8   \n",
       "8        Alcatel              0  2016-01-19T04:13:59+0000          10   \n",
       "9        Alcatel              0  2016-01-13T09:03:38+0000          11   \n",
       "10       Alcatel              0  2016-01-13T02:44:05+0000           2   \n",
       "11       Alcatel              0  2016-01-06T04:15:56+0000           7   \n",
       "12       Alcatel              0  2016-01-05T04:02:37+0000          31   \n",
       "13       Alcatel              1  2016-08-16T04:08:16+0000          10   \n",
       "14       Alcatel              0  2016-08-05T07:15:03+0000           5   \n",
       "15       Alcatel              0  2016-12-29T08:00:05+0000           0   \n",
       "16       Alcatel              0  2016-12-13T05:40:57+0000           3   \n",
       "17       Alcatel              1  2016-11-24T04:14:58+0000           4   \n",
       "18    Blackberry             46  2017-03-01T10:48:00+0000         187   \n",
       "19    Blackberry             29  2017-02-28T10:58:30+0000         165   \n",
       "20    Blackberry             45  2017-02-27T12:13:10+0000         269   \n",
       "21    Blackberry             32  2017-02-25T19:06:45+0000         131   \n",
       "22    Blackberry              0  2017-02-25T15:43:11+0000          51   \n",
       "23    Blackberry              4  2017-02-24T17:20:44+0000          70   \n",
       "24    Blackberry             17  2017-06-28T18:34:25+0000         368   \n",
       "25    Blackberry             18  2017-06-28T17:45:10+0000         261   \n",
       "26    Blackberry             22  2017-06-26T17:34:52+0000         283   \n",
       "27    Blackberry             11  2017-06-26T14:41:08+0000         242   \n",
       "28    Blackberry             28  2017-06-23T16:59:28+0000         258   \n",
       "29    Blackberry             37  2017-06-19T12:51:17+0000         321   \n",
       "...          ...            ...                       ...         ...   \n",
       "9610         ZTE              4  2018-02-25T00:39:21+0000          49   \n",
       "9611         ZTE             28  2018-02-24T22:37:35+0000       53812   \n",
       "9612         ZTE              1  2018-02-24T08:53:44+0000        2249   \n",
       "9613         ZTE             28  2018-02-23T05:21:00+0000        2113   \n",
       "9614         ZTE              2  2018-02-19T09:19:34+0000          32   \n",
       "9615         ZTE              0  2018-02-16T01:48:20+0000          84   \n",
       "9616         ZTE              2  2018-02-14T13:17:40+0000          53   \n",
       "9617         ZTE              2  2018-02-14T11:24:16+0000          70   \n",
       "9618         ZTE              2  2018-02-13T09:54:20+0000          61   \n",
       "9619         ZTE              0  2018-02-12T08:14:21+0000          43   \n",
       "9620         ZTE              2  2018-02-09T10:04:20+0000          22   \n",
       "9621         ZTE             18  2018-02-07T09:50:00+0000        1181   \n",
       "9622         ZTE              0  2018-02-06T12:00:09+0000          48   \n",
       "9623         ZTE              1  2018-02-06T09:51:10+0000          67   \n",
       "9624         ZTE              0  2018-02-05T10:07:28+0000          47   \n",
       "9625         ZTE              2  2018-02-02T04:10:05+0000          72   \n",
       "9626         ZTE              9  2018-01-31T06:51:34+0000         100   \n",
       "9627         ZTE              2  2018-01-30T03:50:48+0000          55   \n",
       "9628         ZTE              0  2018-01-19T08:38:18+0000          55   \n",
       "9629         ZTE              7  2018-01-18T09:42:42+0000          47   \n",
       "9630         ZTE              0  2018-01-12T06:31:53+0000          34   \n",
       "9631         ZTE              2  2018-01-11T07:31:16+0000          20   \n",
       "9632         ZTE              2  2018-01-11T05:49:14+0000          66   \n",
       "9633         ZTE              0  2018-01-10T10:51:45+0000          33   \n",
       "9634         ZTE              0  2018-01-10T09:36:54+0000          47   \n",
       "9635         ZTE              1  2018-01-10T07:54:46+0000          78   \n",
       "9636         ZTE              0  2018-01-09T09:47:23+0000          50   \n",
       "9637         ZTE              0  2018-01-09T06:31:46+0000          48   \n",
       "9638         ZTE              0  2018-01-05T06:22:56+0000          26   \n",
       "9639         ZTE              6  2018-01-01T04:32:32+0000         101   \n",
       "\n",
       "                                                                         post_message  \\\n",
       "0     Sometimes you gotta stop to smell the flowers… and snap a pic. Take a break,...   \n",
       "1     Enjoy super fast LTE CAT 6 speed and a long lasting 3600mAh battery with pow...   \n",
       "2     Dustproof, shockproof, waterproof smartwatch, ALCATEL GO Watch is ready for ...   \n",
       "3     Check out the greatness of ALCATEL ONETOUCH Flash2 13megapixels camera at ma...   \n",
       "4               ALCATEL ONETOUCH Recognized Twice in the 2015-2016 Global Top Brands.   \n",
       "5     Enter this code MONKEY18 at checkout to enjoy the discount. Get your ALCATEL...   \n",
       "6     No excuse to miss Flash 2. We are giving $18 discount for each purchase. Hur...   \n",
       "7     Just WATCH.\\n\\n#alcatelsg #smartwatch #fitnesstracker #nofilter #affordable ...   \n",
       "8                        10 Reasons to love ALCATEL FLASH2!\\n\\nThank you, William Tan   \n",
       "9     Congratulations to all winners and  thanks for participating.\\n\\n#alcatelsg ...   \n",
       "10    For today only, Flash2 at $179!!! While stocks last!!!\\nBuy here: http://goo...   \n",
       "11    Our street,  our memories. \\n\\nPhoto credit: @musicdiary Chester Tan, musicp...   \n",
       "12    Smartphone below $200, perform like a flagship. \\n\\nGet it now >>>  http://l...   \n",
       "13    Desired design, camera, audio, battery performance in one affordable device....   \n",
       "14    Live the XL experience with our new PIXI4 6\".\\nNow available at: http://list...   \n",
       "15    Congratulations to all winners of Alcatel IDOL4 X Assassin's Creed movie pre...   \n",
       "16    Purchase Alcatel IDOL4 and stand a chance to win Assassin’s Creed exclusive ...   \n",
       "17    Alcatel Plus 10 is here! Your office on the move.\\n\\nGet your 2in1 tablet + ...   \n",
       "18    Be the first to know when the new BlackBerry KEYone is ready for pre-order. ...   \n",
       "19    The new BlackBerry KEYone is causing quite the sensation here at #MWC2017. W...   \n",
       "20    Impressively designed and distinctly different, BlackBerry KEYone reimagines...   \n",
       "21    The new BlackBerry KEYone is finally here, be the first to discover everythi...   \n",
       "22    Today is the big day! Follow the official launch of our new BlackBerry smart...   \n",
       "23    The camera that's taking back the night. Don't miss out on the big launch to...   \n",
       "24    With Privacy Shade on the BlackBerry KEYone you can keep your sensitive data...   \n",
       "25    Double tap the power key to quick launch the BlackBerry #KEYone camera. Neve...   \n",
       "26                                Which BlackBerry KEYone wallpaper is your favorite?   \n",
       "27                                              Back in stock with John Lewis online!   \n",
       "28    BlackBerry KEYone lets you multitask with recent app tiles that adjust to yo...   \n",
       "29    The BlackBerry KEYone has full support for Whatsapp so you can video call, c...   \n",
       "...                                                                               ...   \n",
       "9610  #MWC18 We just won the “Innovative Mobile Service and Application” Award 201...   \n",
       "9611  #MWC18 We just won the 2017 “Market Development” Award for our outstanding p...   \n",
       "9612  #MWC18 kicks off in just 2 days. We are leading #5G innovations with 3 compe...   \n",
       "9613  #MWC18 at your finger tip! Our #3D animation guides you thru our #5G innovat...   \n",
       "9614  What's big in #Barcelona this Feb? #MWC18? There is more thru your camera! C...   \n",
       "9615  We wish you a prosperous #Chinese New Year! This is the year of #Dog. Do you...   \n",
       "9616  #MWC18 Our carrier-grade vBRAS has exceptionally completed CU (Control Plane...   \n",
       "9617  #MWC18 In every technological revolution, we keep contributing to #5G standa...   \n",
       "9618  #MWC18 Everything starts with connectivity. #5G connectivity is now sparking...   \n",
       "9619  #MWC18 We are thrilled to clinch 70% share in #Rostelecom’s project to upgra...   \n",
       "9620  #MWC18 #Machine learning and #telecom technologies are increasingly integrat...   \n",
       "9621  #MWC18 #5G will be the next big thing that changes people’s lives and societ...   \n",
       "9622  #MWC18 Autonomous, predictive, on-demand and smart operation are what we env...   \n",
       "9623  #MWC18 How does the world’s first #5G E2E network slicing solution look like...   \n",
       "9624  #MWC18 What’s high bandwidth at home? We just released ZXHN H186 providing b...   \n",
       "9625  Way to go! We just released our guidance for 293% gain in 2017 #net profit, ...   \n",
       "9626  #MWC18 ZTE, 5G and #Barcelona. The World Mobile Congress is just a few weeks...   \n",
       "9627  Planning for #5G network? ZTE and #Intel already did. We partnered on a 5G I...   \n",
       "9628  Proud to announce that we have been named a Global Tech Leader in Thomson Re...   \n",
       "9629  Basketball Star Autograph is just a few clicks away! Share this post with yo...   \n",
       "9630            Slam dunk! We have the legendary 𝐋𝐚𝐫𝐫𝐲 𝐉𝐨𝐡𝐧𝐬𝐨𝐧 in the house! #CES2018   \n",
       "9631  You have two Apps going at the same time for #AxonM. Check out what 'Big Sho...   \n",
       "9632  #CES2018 7 time champion 'Big Shot Rob' Robert Horry at our booth! Stay tune...   \n",
       "9633  Basketball fans at #CES2018 ？The legendary Adonal Foyle says hello from our ...   \n",
       "9634  We just unveil our #5G Core product, Cloud ServCore, based on SBA. It’s a so...   \n",
       "9635  We are back at #CES2018! This year we talk about current smartphone trends i...   \n",
       "9636  We have worked with China Telecom to complete the world’s first vBRAS full d...   \n",
       "9637  Our ZTE CloudStudio VNFM is ranked as Leader by #GlobalData in its lastest s...   \n",
       "9638  GSMA just released the latest Mobile Connectivity Index. Click to see who is...   \n",
       "9639  Whether you’re tucked up in bed or out on the town celebrating, everyone at ...   \n",
       "\n",
       "      post_shares post_type page_likes page_followers  \n",
       "0               1     photo  8,742,189      8,742,177  \n",
       "1               6     photo  8,742,189      8,742,177  \n",
       "2               2     photo  8,742,189      8,742,177  \n",
       "3               4     photo  8,742,189      8,742,177  \n",
       "4               1      link  8,742,189      8,742,177  \n",
       "5               5     photo  8,742,189      8,742,177  \n",
       "6               1     photo  8,742,189      8,742,177  \n",
       "7               1     photo  8,742,189      8,742,177  \n",
       "8               2      link  8,742,189      8,742,177  \n",
       "9               1     photo  8,742,189      8,742,177  \n",
       "10              1     photo  8,742,189      8,742,177  \n",
       "11              1     photo  8,742,189      8,742,177  \n",
       "12              6      link  8,742,189      8,742,177  \n",
       "13              2     photo  8,742,189      8,742,177  \n",
       "14              2     video  8,742,189      8,742,177  \n",
       "15              1     photo  8,742,189      8,742,177  \n",
       "16              2     photo  8,742,189      8,742,177  \n",
       "17              2     video  8,742,189      8,742,177  \n",
       "18             27      link     38,380         39,772  \n",
       "19             22     photo     38,380         39,772  \n",
       "20            408     video     38,380         39,772  \n",
       "21             40      link     38,380         39,772  \n",
       "22              1      link     38,380         39,772  \n",
       "23              1     photo     38,380         39,772  \n",
       "24             72     video     38,380         39,772  \n",
       "25             19     photo     38,380         39,772  \n",
       "26             15      link     38,380         39,772  \n",
       "27              9      link     38,380         39,772  \n",
       "28             15     photo     38,380         39,772  \n",
       "29             34     video     38,380         39,772  \n",
       "...           ...       ...        ...            ...  \n",
       "9610            3     photo    459,162        458,468  \n",
       "9611           23     photo    459,162        458,468  \n",
       "9612           18     photo    459,162        458,468  \n",
       "9613          224     video    459,162        458,468  \n",
       "9614            6     video    459,162        458,468  \n",
       "9615           16     photo    459,162        458,468  \n",
       "9616            6     photo    459,162        458,468  \n",
       "9617           10     photo    459,162        458,468  \n",
       "9618            6     photo    459,162        458,468  \n",
       "9619            3     photo    459,162        458,468  \n",
       "9620            1     video    459,162        458,468  \n",
       "9621           97     video    459,162        458,468  \n",
       "9622            6     photo    459,162        458,468  \n",
       "9623            7     photo    459,162        458,468  \n",
       "9624            5     photo    459,162        458,468  \n",
       "9625           25     photo    459,162        458,468  \n",
       "9626           36     photo    459,162        458,468  \n",
       "9627           15     video    459,162        458,468  \n",
       "9628           11     photo    459,162        458,468  \n",
       "9629           17     photo    459,162        458,468  \n",
       "9630            1     video    459,162        458,468  \n",
       "9631            2     video    459,162        458,468  \n",
       "9632            2     video    459,162        458,468  \n",
       "9633            2     video    459,162        458,468  \n",
       "9634            2     photo    459,162        458,468  \n",
       "9635            4     photo    459,162        458,468  \n",
       "9636            1     photo    459,162        458,468  \n",
       "9637            3     photo    459,162        458,468  \n",
       "9638            2     photo    459,162        458,468  \n",
       "9639           10     photo    459,162        458,468  \n",
       "\n",
       "[9640 rows x 9 columns]"
      ]
     },
     "execution_count": 71,
     "metadata": {},
     "output_type": "execute_result"
    }
   ],
   "source": [
    "fb_df"
   ]
  },
  {
   "cell_type": "code",
   "execution_count": 72,
   "metadata": {
    "collapsed": true
   },
   "outputs": [],
   "source": [
    "def get_text_fb(df):\n",
    "    return df.post_message"
   ]
  },
  {
   "cell_type": "code",
   "execution_count": 73,
   "metadata": {
    "collapsed": true
   },
   "outputs": [],
   "source": [
    "get_text_fb_ft = FunctionTransformer(get_text_fb, validate=False)"
   ]
  },
  {
   "cell_type": "markdown",
   "metadata": {},
   "source": [
    "Get page meta data"
   ]
  },
  {
   "cell_type": "code",
   "execution_count": 155,
   "metadata": {
    "collapsed": true
   },
   "outputs": [],
   "source": [
    "def get_brand_meta_fb(df):\n",
    "    return df.loc[:,[\"page_likes\", \"page_followers\"]]"
   ]
  },
  {
   "cell_type": "code",
   "execution_count": 156,
   "metadata": {
    "collapsed": true
   },
   "outputs": [],
   "source": [
    "get_brand_meta_fb_ft = FunctionTransformer(get_brand_meta_fb, validate=False)"
   ]
  },
  {
   "cell_type": "code",
   "execution_count": 157,
   "metadata": {
    "collapsed": true
   },
   "outputs": [],
   "source": [
    "from sklearn.feature_extraction.text import CountVectorizer\n",
    "vect_fb = CountVectorizer(stop_words='english', max_df=0.3, min_df=4)"
   ]
  },
  {
   "cell_type": "code",
   "execution_count": 158,
   "metadata": {
    "collapsed": true
   },
   "outputs": [],
   "source": [
    "union_fb = make_union(make_pipeline(get_text_fb_ft, vect_fb), get_brand_meta_fb_ft)"
   ]
  },
  {
   "cell_type": "code",
   "execution_count": 159,
   "metadata": {
    "collapsed": true
   },
   "outputs": [],
   "source": [
    "from sklearn.model_selection import train_test_split\n",
    "X_train_fb, X_test_fb, y_train_fb, y_test_fb = train_test_split(fb_df, fb_df.post_likes, random_state=1)"
   ]
  },
  {
   "cell_type": "code",
   "execution_count": 160,
   "metadata": {
    "collapsed": false
   },
   "outputs": [],
   "source": [
    "X_train_meta_dtm_fb = union_fb.fit_transform(X_train_fb)"
   ]
  },
  {
   "cell_type": "code",
   "execution_count": 161,
   "metadata": {
    "collapsed": false
   },
   "outputs": [],
   "source": [
    "X_test_meta_dtm_fb = union_fb.transform(X_test_fb)"
   ]
  },
  {
   "cell_type": "code",
   "execution_count": 162,
   "metadata": {
    "collapsed": false
   },
   "outputs": [],
   "source": [
    "gbr_fb = GradientBoostingRegressor(loss=\"ls\", learning_rate=0.1, n_estimators=100, subsample=1.0, criterion=\"friedman_mse\", min_samples_split=2, min_samples_leaf=1, min_weight_fraction_leaf=0.0, max_depth=3, min_impurity_decrease=0.0, min_impurity_split=None, init=None, random_state=1, max_features=None, alpha=0.9, verbose=0, max_leaf_nodes=None, warm_start=False, presort=\"auto\")"
   ]
  },
  {
   "cell_type": "code",
   "execution_count": 163,
   "metadata": {
    "collapsed": false
   },
   "outputs": [
    {
     "data": {
      "text/plain": [
       "GradientBoostingRegressor(alpha=0.9, criterion='friedman_mse', init=None,\n",
       "             learning_rate=0.1, loss='ls', max_depth=3, max_features=None,\n",
       "             max_leaf_nodes=None, min_impurity_decrease=0.0,\n",
       "             min_impurity_split=None, min_samples_leaf=1,\n",
       "             min_samples_split=2, min_weight_fraction_leaf=0.0,\n",
       "             n_estimators=100, presort='auto', random_state=1,\n",
       "             subsample=1.0, verbose=0, warm_start=False)"
      ]
     },
     "execution_count": 163,
     "metadata": {},
     "output_type": "execute_result"
    }
   ],
   "source": [
    "gbr_fb.fit(X_train_meta_dtm_fb, y_train_fb)"
   ]
  },
  {
   "cell_type": "code",
   "execution_count": 164,
   "metadata": {
    "collapsed": true
   },
   "outputs": [],
   "source": [
    "yhat_gbr_fb = gbr_fb.predict(X_test_meta_dtm_fb)"
   ]
  },
  {
   "cell_type": "code",
   "execution_count": 165,
   "metadata": {
    "collapsed": false
   },
   "outputs": [
    {
     "name": "stdout",
     "output_type": "stream",
     "text": [
      "r2: 0.244\n",
      "mape: 2625.239\n"
     ]
    }
   ],
   "source": [
    "print(\"r2: %.3f\"%(r2_score(y_test_fb,yhat_gbr_fb)))\n",
    "print(\"mape: %.3f\"%mean_absolute_percentage_error(y_test_fb,yhat_gbr_fb))"
   ]
  },
  {
   "cell_type": "code",
   "execution_count": 166,
   "metadata": {
    "collapsed": false
   },
   "outputs": [
    {
     "data": {
      "text/plain": [
       "329202269.5944702"
      ]
     },
     "execution_count": 166,
     "metadata": {},
     "output_type": "execute_result"
    }
   ],
   "source": [
    "fb_df.post_likes.var()"
   ]
  },
  {
   "cell_type": "code",
   "execution_count": 167,
   "metadata": {
    "collapsed": false
   },
   "outputs": [
    {
     "data": {
      "text/plain": [
       "126766738.09358193"
      ]
     },
     "execution_count": 167,
     "metadata": {},
     "output_type": "execute_result"
    }
   ],
   "source": [
    "final_df.likes.var()"
   ]
  },
  {
   "cell_type": "code",
   "execution_count": 168,
   "metadata": {
    "collapsed": true
   },
   "outputs": [],
   "source": [
    "fb_threshold = 1.0e-03"
   ]
  },
  {
   "cell_type": "code",
   "execution_count": 169,
   "metadata": {
    "collapsed": false
   },
   "outputs": [
    {
     "data": {
      "text/plain": [
       "0.9853994108953903"
      ]
     },
     "execution_count": 169,
     "metadata": {},
     "output_type": "execute_result"
    }
   ],
   "source": [
    "# Ignore the long tail\n",
    "gbr_fb.feature_importances_[gbr_fb.feature_importances_ >= fb_threshold].sum()"
   ]
  },
  {
   "cell_type": "code",
   "execution_count": 174,
   "metadata": {
    "collapsed": true
   },
   "outputs": [],
   "source": [
    "impt_feats_fb = gbr_fb.feature_importances_ >= threshold"
   ]
  },
  {
   "cell_type": "code",
   "execution_count": 175,
   "metadata": {
    "collapsed": true
   },
   "outputs": [],
   "source": [
    "impt_ind_fb = np.where(impt_feats_fb[:-2])[0]"
   ]
  },
  {
   "cell_type": "code",
   "execution_count": 176,
   "metadata": {
    "collapsed": false
   },
   "outputs": [
    {
     "data": {
      "text/plain": [
       "array(['1km4ufn', '26th', '2co90vz', '2qyxppy', '2ulvhbz', '2wn5fap',\n",
       "       '4444', '4599', '4g', 'according', 'advanced', 'answers',\n",
       "       'arrived', 'artist', 'attached', 'awesome', 'bad', 'big', 'bigger',\n",
       "       'bit', 'brand', 'clue', 'colors', 'complete', 'confident',\n",
       "       'daydream', 'deals', 'display', 'dowhatyoucant', 'equipped',\n",
       "       'eraonflipkart', 'experience', 'exquisite', 'flagship', 'flying',\n",
       "       'fullvision', 'galaxynote8', 'galaxys7', 'galaxys7edge',\n",
       "       'galaxys8', 'generation', 'gold', 'grab', 'hand', 'headset',\n",
       "       'holds', 'ideas', 'immersive', 'india', 'initiative', 'k10',\n",
       "       'latest', 'lets', 'lg', 'lgg6', 'lgq6', 'lgv30', 'lgv30sthinq',\n",
       "       'lgxseries', 'lightweight', 'like', 'looks', 'love', 'ly',\n",
       "       'matter', 'mimix2s', 'movie', 'multimedia', 'multiple', 'mwc',\n",
       "       'mwc2017', 'mwcshanghai', 'new', 'newly', 'night', 'onwards',\n",
       "       'peak', 'phone', 'photos', 'pictures', 'point', 'possibilities',\n",
       "       'processors', 'purchase', 'q6', 'quality', 'revealed', 'rio2016',\n",
       "       's8smartswitch', 'secrets', 'selling', 'shanghai', 'stations',\n",
       "       'story', 'streets', 'sturdy', 'technology', 'tuned',\n",
       "       'unboxyourphone', 'use', 'v5', 'vision', 'vr', 'waiting', 'wants',\n",
       "       'way', 'win', 'won', 'world', 'worlds', 'x10',\n",
       "       'xiaomiphotographychallenge', 'xmax', 'year', 'zte'], dtype='<U26')"
      ]
     },
     "execution_count": 176,
     "metadata": {},
     "output_type": "execute_result"
    }
   ],
   "source": [
    "np.array(vect_fb.get_feature_names())[impt_feats_fb[:-2]]"
   ]
  },
  {
   "cell_type": "code",
   "execution_count": 177,
   "metadata": {
    "collapsed": false
   },
   "outputs": [
    {
     "data": {
      "text/plain": [
       "CountVectorizer(analyzer='word', binary=False, decode_error='strict',\n",
       "        dtype=<class 'numpy.int64'>, encoding='utf-8', input='content',\n",
       "        lowercase=True, max_df=0.3, max_features=None, min_df=4,\n",
       "        ngram_range=(1, 1), preprocessor=None, stop_words='english',\n",
       "        strip_accents=None, token_pattern='(?u)\\\\b\\\\w\\\\w+\\\\b',\n",
       "        tokenizer=None, vocabulary=None)"
      ]
     },
     "execution_count": 177,
     "metadata": {},
     "output_type": "execute_result"
    }
   ],
   "source": [
    "vect_fb.fit(X_train_fb.post_message)"
   ]
  },
  {
   "cell_type": "code",
   "execution_count": 178,
   "metadata": {
    "collapsed": false
   },
   "outputs": [
    {
     "data": {
      "text/plain": [
       "117"
      ]
     },
     "execution_count": 178,
     "metadata": {},
     "output_type": "execute_result"
    }
   ],
   "source": [
    "gbr_fb.feature_importances_[impt_feats_fb].size"
   ]
  },
  {
   "cell_type": "code",
   "execution_count": 179,
   "metadata": {
    "collapsed": false
   },
   "outputs": [
    {
     "data": {
      "text/plain": [
       "array([0.00026316, 0.        , 0.        , ..., 0.00476728, 0.0155235 ,\n",
       "       0.01935506])"
      ]
     },
     "execution_count": 179,
     "metadata": {},
     "output_type": "execute_result"
    }
   ],
   "source": [
    "gbr_fb.feature_importances_"
   ]
  },
  {
   "cell_type": "code",
   "execution_count": 180,
   "metadata": {
    "collapsed": true
   },
   "outputs": [],
   "source": [
    "importance_df_fb = pd.DataFrame()"
   ]
  },
  {
   "cell_type": "code",
   "execution_count": 181,
   "metadata": {
    "collapsed": true
   },
   "outputs": [],
   "source": [
    "importance_df_fb[\"word\"] = np.array(vect_fb.get_feature_names())[impt_feats_fb[:-2]]"
   ]
  },
  {
   "cell_type": "code",
   "execution_count": 182,
   "metadata": {
    "collapsed": true
   },
   "outputs": [],
   "source": [
    "importance_df_fb[\"importance\"] = gbr_fb.feature_importances_[impt_feats_fb][:-2]"
   ]
  },
  {
   "cell_type": "code",
   "execution_count": 183,
   "metadata": {
    "collapsed": true
   },
   "outputs": [],
   "source": [
    "importance_df_fb = importance_df_fb.sort_values(by=\"importance\",ascending=False)"
   ]
  },
  {
   "cell_type": "code",
   "execution_count": 184,
   "metadata": {
    "collapsed": true
   },
   "outputs": [],
   "source": [
    "meta_importance_df_fb = pd.DataFrame([[\"page_likes\",0.00352126],[\"page_followers\",0.01468663]],columns=[\"word\",\"importance\"])"
   ]
  },
  {
   "cell_type": "code",
   "execution_count": 130,
   "metadata": {
    "collapsed": false
   },
   "outputs": [
    {
     "data": {
      "text/html": [
       "<div>\n",
       "<table border=\"1\" class=\"dataframe\">\n",
       "  <thead>\n",
       "    <tr style=\"text-align: right;\">\n",
       "      <th></th>\n",
       "      <th>word</th>\n",
       "      <th>importance</th>\n",
       "    </tr>\n",
       "  </thead>\n",
       "  <tbody>\n",
       "    <tr>\n",
       "      <th>0</th>\n",
       "      <td>page_likes</td>\n",
       "      <td>0.015524</td>\n",
       "    </tr>\n",
       "    <tr>\n",
       "      <th>1</th>\n",
       "      <td>page_followers</td>\n",
       "      <td>0.019355</td>\n",
       "    </tr>\n",
       "    <tr>\n",
       "      <th>2</th>\n",
       "      <td>s8smartswitch</td>\n",
       "      <td>0.082005</td>\n",
       "    </tr>\n",
       "    <tr>\n",
       "      <th>3</th>\n",
       "      <td>arrived</td>\n",
       "      <td>0.057717</td>\n",
       "    </tr>\n",
       "    <tr>\n",
       "      <th>4</th>\n",
       "      <td>galaxys8</td>\n",
       "      <td>0.031428</td>\n",
       "    </tr>\n",
       "    <tr>\n",
       "      <th>5</th>\n",
       "      <td>lgq6</td>\n",
       "      <td>0.027342</td>\n",
       "    </tr>\n",
       "    <tr>\n",
       "      <th>6</th>\n",
       "      <td>x10</td>\n",
       "      <td>0.024414</td>\n",
       "    </tr>\n",
       "    <tr>\n",
       "      <th>7</th>\n",
       "      <td>lgv30sthinq</td>\n",
       "      <td>0.024231</td>\n",
       "    </tr>\n",
       "    <tr>\n",
       "      <th>8</th>\n",
       "      <td>lgg6</td>\n",
       "      <td>0.023181</td>\n",
       "    </tr>\n",
       "    <tr>\n",
       "      <th>9</th>\n",
       "      <td>lg</td>\n",
       "      <td>0.023173</td>\n",
       "    </tr>\n",
       "    <tr>\n",
       "      <th>10</th>\n",
       "      <td>confident</td>\n",
       "      <td>0.022024</td>\n",
       "    </tr>\n",
       "    <tr>\n",
       "      <th>11</th>\n",
       "      <td>rio2016</td>\n",
       "      <td>0.020447</td>\n",
       "    </tr>\n",
       "    <tr>\n",
       "      <th>12</th>\n",
       "      <td>technology</td>\n",
       "      <td>0.020298</td>\n",
       "    </tr>\n",
       "    <tr>\n",
       "      <th>13</th>\n",
       "      <td>2co90vz</td>\n",
       "      <td>0.020090</td>\n",
       "    </tr>\n",
       "    <tr>\n",
       "      <th>14</th>\n",
       "      <td>galaxys7edge</td>\n",
       "      <td>0.019560</td>\n",
       "    </tr>\n",
       "    <tr>\n",
       "      <th>15</th>\n",
       "      <td>mimix2s</td>\n",
       "      <td>0.018152</td>\n",
       "    </tr>\n",
       "    <tr>\n",
       "      <th>16</th>\n",
       "      <td>dowhatyoucant</td>\n",
       "      <td>0.017867</td>\n",
       "    </tr>\n",
       "    <tr>\n",
       "      <th>17</th>\n",
       "      <td>ly</td>\n",
       "      <td>0.017025</td>\n",
       "    </tr>\n",
       "    <tr>\n",
       "      <th>18</th>\n",
       "      <td>unboxyourphone</td>\n",
       "      <td>0.016366</td>\n",
       "    </tr>\n",
       "    <tr>\n",
       "      <th>19</th>\n",
       "      <td>onwards</td>\n",
       "      <td>0.013460</td>\n",
       "    </tr>\n",
       "  </tbody>\n",
       "</table>\n",
       "</div>"
      ],
      "text/plain": [
       "              word  importance\n",
       "0       page_likes    0.015524\n",
       "1   page_followers    0.019355\n",
       "2    s8smartswitch    0.082005\n",
       "3          arrived    0.057717\n",
       "4         galaxys8    0.031428\n",
       "5             lgq6    0.027342\n",
       "6              x10    0.024414\n",
       "7      lgv30sthinq    0.024231\n",
       "8             lgg6    0.023181\n",
       "9               lg    0.023173\n",
       "10       confident    0.022024\n",
       "11         rio2016    0.020447\n",
       "12      technology    0.020298\n",
       "13         2co90vz    0.020090\n",
       "14    galaxys7edge    0.019560\n",
       "15         mimix2s    0.018152\n",
       "16   dowhatyoucant    0.017867\n",
       "17              ly    0.017025\n",
       "18  unboxyourphone    0.016366\n",
       "19         onwards    0.013460"
      ]
     },
     "execution_count": 130,
     "metadata": {},
     "output_type": "execute_result"
    }
   ],
   "source": [
    "pd.concat([meta_importance_df_fb,importance_df_fb],axis = 0).reset_index(drop=True).head(20)"
   ]
  },
  {
   "cell_type": "code",
   "execution_count": 153,
   "metadata": {
    "collapsed": false
   },
   "outputs": [
    {
     "data": {
      "text/html": [
       "<div>\n",
       "<table border=\"1\" class=\"dataframe\">\n",
       "  <thead>\n",
       "    <tr style=\"text-align: right;\">\n",
       "      <th></th>\n",
       "      <th>word</th>\n",
       "      <th>importance</th>\n",
       "    </tr>\n",
       "  </thead>\n",
       "  <tbody>\n",
       "    <tr>\n",
       "      <th>0</th>\n",
       "      <td>page_likes</td>\n",
       "      <td>0.003521</td>\n",
       "    </tr>\n",
       "    <tr>\n",
       "      <th>1</th>\n",
       "      <td>page_followers</td>\n",
       "      <td>0.014687</td>\n",
       "    </tr>\n",
       "    <tr>\n",
       "      <th>2</th>\n",
       "      <td>post_shares</td>\n",
       "      <td>0.179242</td>\n",
       "    </tr>\n",
       "    <tr>\n",
       "      <th>3</th>\n",
       "      <td>s8smartswitch</td>\n",
       "      <td>0.082005</td>\n",
       "    </tr>\n",
       "    <tr>\n",
       "      <th>4</th>\n",
       "      <td>arrived</td>\n",
       "      <td>0.057717</td>\n",
       "    </tr>\n",
       "    <tr>\n",
       "      <th>5</th>\n",
       "      <td>galaxys8</td>\n",
       "      <td>0.031428</td>\n",
       "    </tr>\n",
       "    <tr>\n",
       "      <th>6</th>\n",
       "      <td>lgq6</td>\n",
       "      <td>0.027342</td>\n",
       "    </tr>\n",
       "    <tr>\n",
       "      <th>7</th>\n",
       "      <td>x10</td>\n",
       "      <td>0.024414</td>\n",
       "    </tr>\n",
       "    <tr>\n",
       "      <th>8</th>\n",
       "      <td>lgv30sthinq</td>\n",
       "      <td>0.024231</td>\n",
       "    </tr>\n",
       "    <tr>\n",
       "      <th>9</th>\n",
       "      <td>lgg6</td>\n",
       "      <td>0.023181</td>\n",
       "    </tr>\n",
       "    <tr>\n",
       "      <th>10</th>\n",
       "      <td>lg</td>\n",
       "      <td>0.023173</td>\n",
       "    </tr>\n",
       "    <tr>\n",
       "      <th>11</th>\n",
       "      <td>confident</td>\n",
       "      <td>0.022024</td>\n",
       "    </tr>\n",
       "    <tr>\n",
       "      <th>12</th>\n",
       "      <td>rio2016</td>\n",
       "      <td>0.020447</td>\n",
       "    </tr>\n",
       "    <tr>\n",
       "      <th>13</th>\n",
       "      <td>technology</td>\n",
       "      <td>0.020298</td>\n",
       "    </tr>\n",
       "    <tr>\n",
       "      <th>14</th>\n",
       "      <td>2co90vz</td>\n",
       "      <td>0.020090</td>\n",
       "    </tr>\n",
       "    <tr>\n",
       "      <th>15</th>\n",
       "      <td>galaxys7edge</td>\n",
       "      <td>0.019560</td>\n",
       "    </tr>\n",
       "    <tr>\n",
       "      <th>16</th>\n",
       "      <td>mimix2s</td>\n",
       "      <td>0.018152</td>\n",
       "    </tr>\n",
       "    <tr>\n",
       "      <th>17</th>\n",
       "      <td>dowhatyoucant</td>\n",
       "      <td>0.017867</td>\n",
       "    </tr>\n",
       "    <tr>\n",
       "      <th>18</th>\n",
       "      <td>ly</td>\n",
       "      <td>0.017025</td>\n",
       "    </tr>\n",
       "    <tr>\n",
       "      <th>19</th>\n",
       "      <td>unboxyourphone</td>\n",
       "      <td>0.016366</td>\n",
       "    </tr>\n",
       "  </tbody>\n",
       "</table>\n",
       "</div>"
      ],
      "text/plain": [
       "              word  importance\n",
       "0       page_likes    0.003521\n",
       "1   page_followers    0.014687\n",
       "2      post_shares    0.179242\n",
       "3    s8smartswitch    0.082005\n",
       "4          arrived    0.057717\n",
       "5         galaxys8    0.031428\n",
       "6             lgq6    0.027342\n",
       "7              x10    0.024414\n",
       "8      lgv30sthinq    0.024231\n",
       "9             lgg6    0.023181\n",
       "10              lg    0.023173\n",
       "11       confident    0.022024\n",
       "12         rio2016    0.020447\n",
       "13      technology    0.020298\n",
       "14         2co90vz    0.020090\n",
       "15    galaxys7edge    0.019560\n",
       "16         mimix2s    0.018152\n",
       "17   dowhatyoucant    0.017867\n",
       "18              ly    0.017025\n",
       "19  unboxyourphone    0.016366"
      ]
     },
     "execution_count": 153,
     "metadata": {},
     "output_type": "execute_result"
    }
   ],
   "source": [
    "pd.concat([meta_importance_df_fb,importance_df_fb],axis = 0).reset_index(drop=True).head(20)"
   ]
  },
  {
   "cell_type": "code",
   "execution_count": 185,
   "metadata": {
    "collapsed": true
   },
   "outputs": [],
   "source": [
    "with open(\"facebook_model.pkl\",\"wb\") as f:\n",
    "    pickle.dump(gbr_fb, f)"
   ]
  },
  {
   "cell_type": "code",
   "execution_count": null,
   "metadata": {
    "collapsed": true
   },
   "outputs": [],
   "source": []
  }
 ],
 "metadata": {
  "anaconda-cloud": {},
  "kernelspec": {
   "display_name": "Python [py35]",
   "language": "python",
   "name": "Python [py35]"
  },
  "language_info": {
   "codemirror_mode": {
    "name": "ipython",
    "version": 3
   },
   "file_extension": ".py",
   "mimetype": "text/x-python",
   "name": "python",
   "nbconvert_exporter": "python",
   "pygments_lexer": "ipython3",
   "version": "3.5.3"
  }
 },
 "nbformat": 4,
 "nbformat_minor": 2
}
