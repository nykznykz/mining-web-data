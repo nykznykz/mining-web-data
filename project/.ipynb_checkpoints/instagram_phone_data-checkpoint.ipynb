{
 "cells": [
  {
   "cell_type": "code",
   "execution_count": 1,
   "metadata": {
    "collapsed": true
   },
   "outputs": [],
   "source": [
    "from selenium import webdriver\n",
    "from time import sleep"
   ]
  },
  {
   "cell_type": "code",
   "execution_count": 43,
   "metadata": {
    "collapsed": true
   },
   "outputs": [],
   "source": [
    "browser = webdriver.Firefox()\n",
    "browser.get('http://www.instagram.com/')"
   ]
  },
  {
   "cell_type": "code",
   "execution_count": null,
   "metadata": {
    "collapsed": true
   },
   "outputs": [],
   "source": [
    "import pandas as pd"
   ]
  },
  {
   "cell_type": "code",
   "execution_count": null,
   "metadata": {
    "collapsed": true
   },
   "outputs": [],
   "source": [
    "df = pd.read_csv(\"all_brand_models.csv\", header = None, names=[\"brand\",\"models\"])"
   ]
  },
  {
   "cell_type": "code",
   "execution_count": null,
   "metadata": {
    "collapsed": true
   },
   "outputs": [],
   "source": [
    "brands = list(df.brand)"
   ]
  },
  {
   "cell_type": "markdown",
   "metadata": {},
   "source": [
    "### Getting instagram accounts: number of posts, followers, following"
   ]
  },
  {
   "cell_type": "code",
   "execution_count": 6,
   "metadata": {
    "collapsed": true
   },
   "outputs": [],
   "source": [
    "from selenium.webdriver.common.keys import Keys\n",
    "def search_for_brand(browser, brand):\n",
    "    searchbar = browser.find_element_by_xpath('/html/body/span/section/nav/div[2]/div/div/div[2]/input')\n",
    "    searchbar.send_keys(brand)\n",
    "    sleep(0.5)\n",
    "    searchbar.send_keys(Keys.RETURN)\n",
    "    sleep(0.5)\n",
    "    searchbar.send_keys(Keys.RETURN)\n",
    "    sleep(0.5)\n",
    "    try:\n",
    "        searchbar.send_keys(Keys.RETURN)\n",
    "    except:\n",
    "        pass"
   ]
  },
  {
   "cell_type": "code",
   "execution_count": 31,
   "metadata": {
    "collapsed": false,
    "scrolled": true
   },
   "outputs": [
    {
     "data": {
      "text/plain": [
       "'sony'"
      ]
     },
     "execution_count": 31,
     "metadata": {},
     "output_type": "execute_result"
    }
   ],
   "source": [
    "browser.find_element_by_css_selector('h1[class=\"_rf3jb notranslate\"]').text"
   ]
  },
  {
   "cell_type": "code",
   "execution_count": 67,
   "metadata": {
    "collapsed": true
   },
   "outputs": [],
   "source": [
    "ig_name_css = 'h1[class=\"_rf3jb notranslate\"]'\n",
    "post_follower_following_css = 'span[class=\"_fd86t\"]'\n",
    "description_css = 'div[class=\"_tb97a\"]'"
   ]
  },
  {
   "cell_type": "code",
   "execution_count": 51,
   "metadata": {
    "collapsed": false
   },
   "outputs": [
    {
     "data": {
      "text/plain": [
       "'124'"
      ]
     },
     "execution_count": 51,
     "metadata": {},
     "output_type": "execute_result"
    }
   ],
   "source": [
    "browser.find_elements_by_css_selector(n_followers_css)[0].text\n",
    "browser.find_elements_by_css_selector(n_followers_css)[1].text"
   ]
  },
  {
   "cell_type": "code",
   "execution_count": 7,
   "metadata": {
    "collapsed": true
   },
   "outputs": [],
   "source": [
    "def grab_stats(ig_name_css,post_follower_following_css, description_css):\n",
    "    ig_name = browser.find_element_by_css_selector(ig_name_css).text\n",
    "    n_posts = browser.find_elements_by_css_selector(post_follower_following_css)[0].text\n",
    "    n_followers = browser.find_elements_by_css_selector(post_follower_following_css)[1].text\n",
    "    n_following = browser.find_elements_by_css_selector(post_follower_following_css)[2].text\n",
    "    description = browser.find_element_by_css_selector(description_css).text\n",
    "    return ig_name, n_posts, n_followers, n_following, description"
   ]
  },
  {
   "cell_type": "code",
   "execution_count": 75,
   "metadata": {
    "collapsed": true,
    "scrolled": true
   },
   "outputs": [],
   "source": [
    "brand_igs = []\n",
    "for brand in brands:\n",
    "    browser.get(\"http://www.instagram.com/\")\n",
    "    sleep(1)\n",
    "    search_for_brand(browser, brand)\n",
    "    sleep(1)\n",
    "    row = [brand]\n",
    "    for attempts in range(3):\n",
    "        sleep(1)\n",
    "        try:\n",
    "            stats = list(grab_stats(ig_name_css,post_follower_following_css, description_css))\n",
    "        except:\n",
    "            stats = [\"-\",\"-\",\"-\",\"-\",\"-\"]\n",
    "            sleep(1)\n",
    "    row += stats\n",
    "    brand_igs.append(row)\n",
    "    sleep(2)\n",
    "    "
   ]
  },
  {
   "cell_type": "code",
   "execution_count": 71,
   "metadata": {
    "collapsed": false
   },
   "outputs": [
    {
     "data": {
      "text/plain": [
       "('plume_pt',\n",
       " '199',\n",
       " '8,453',\n",
       " '2,436',\n",
       " 'Plume Loja de roupa disponível para entrega imediata ✨ worldwide shipping 📩 Não enviamos a cobrança')"
      ]
     },
     "execution_count": 71,
     "metadata": {},
     "output_type": "execute_result"
    }
   ],
   "source": [
    "grab_stats(ig_name_css,post_follower_following_css, description_css)"
   ]
  },
  {
   "cell_type": "code",
   "execution_count": 76,
   "metadata": {
    "collapsed": true
   },
   "outputs": [],
   "source": [
    "brand_ig_df = pd.DataFrame(brand_igs)"
   ]
  },
  {
   "cell_type": "code",
   "execution_count": 78,
   "metadata": {
    "collapsed": true
   },
   "outputs": [],
   "source": [
    "brand_ig_df.to_csv(\"brand_ig_data.csv\",index=False)"
   ]
  },
  {
   "cell_type": "markdown",
   "metadata": {},
   "source": [
    "Manually filled in 10+ rows, some brands do not have instagram accounts"
   ]
  },
  {
   "cell_type": "code",
   "execution_count": 8,
   "metadata": {
    "collapsed": true
   },
   "outputs": [],
   "source": [
    "new_df = pd.read_csv(\"brand_ig_data.csv\")"
   ]
  },
  {
   "cell_type": "code",
   "execution_count": 9,
   "metadata": {
    "collapsed": false
   },
   "outputs": [
    {
     "data": {
      "text/plain": [
       "20993"
      ]
     },
     "execution_count": 9,
     "metadata": {},
     "output_type": "execute_result"
    }
   ],
   "source": [
    "new_df.n_posts.apply(lambda x: 0 if x==\"-\" else int(x)).sum()"
   ]
  },
  {
   "cell_type": "code",
   "execution_count": 190,
   "metadata": {
    "collapsed": true
   },
   "outputs": [],
   "source": [
    "element_to_hover_over= browser.find_element_by_css_selector('div[class=\"_mck9w _gvoze _tn0ps\"]')"
   ]
  },
  {
   "cell_type": "markdown",
   "metadata": {},
   "source": [
    "### Hovering over a post to get the number of likes, comments"
   ]
  },
  {
   "cell_type": "markdown",
   "metadata": {},
   "source": [
    "This is a relatively easy way to get the comments as opposed to the more tedious method of visiting the post url and clicking many elements that may or may not exist."
   ]
  },
  {
   "cell_type": "code",
   "execution_count": 2,
   "metadata": {
    "collapsed": true
   },
   "outputs": [],
   "source": [
    "from selenium.webdriver.common.action_chains import ActionChains"
   ]
  },
  {
   "cell_type": "code",
   "execution_count": 194,
   "metadata": {
    "collapsed": true
   },
   "outputs": [],
   "source": [
    "hover = ActionChains(browser).move_to_element(element_to_hover_over)\n",
    "hover.perform()"
   ]
  },
  {
   "cell_type": "code",
   "execution_count": 198,
   "metadata": {
    "collapsed": false
   },
   "outputs": [
    {
     "data": {
      "text/plain": [
       "['0', 'likes', '3', 'comments']"
      ]
     },
     "execution_count": 198,
     "metadata": {},
     "output_type": "execute_result"
    }
   ],
   "source": [
    "browser.find_element_by_css_selector('div[class=\"_mli86\"]').text.split(\"\\n\")"
   ]
  },
  {
   "cell_type": "code",
   "execution_count": 200,
   "metadata": {
    "collapsed": false
   },
   "outputs": [
    {
     "data": {
      "text/plain": [
       "'samsungmobile'"
      ]
     },
     "execution_count": 200,
     "metadata": {},
     "output_type": "execute_result"
    }
   ],
   "source": [
    "new_df.brand_ig[0]"
   ]
  },
  {
   "cell_type": "code",
   "execution_count": 12,
   "metadata": {
    "collapsed": true
   },
   "outputs": [],
   "source": [
    "insta_url = 'http://www.instagram.com/'"
   ]
  },
  {
   "cell_type": "code",
   "execution_count": 13,
   "metadata": {
    "collapsed": true
   },
   "outputs": [],
   "source": [
    "browser.get(insta_url +new_df.brand_ig[0])"
   ]
  },
  {
   "cell_type": "code",
   "execution_count": 290,
   "metadata": {
    "collapsed": true
   },
   "outputs": [],
   "source": [
    "elements_to_hover_over= browser.find_elements_by_css_selector('div[class=\"_mck9w _gvoze _tn0ps\"]')"
   ]
  },
  {
   "cell_type": "markdown",
   "metadata": {},
   "source": [
    "grab the likes, comments by hovering and then grab the link and caption"
   ]
  },
  {
   "cell_type": "code",
   "execution_count": 14,
   "metadata": {
    "collapsed": true
   },
   "outputs": [],
   "source": [
    "hover_css = 'div[class=\"_mli86\"]'\n",
    "def get_info(hover_css, element_to_hover_over):\n",
    "    browser.execute_script(\"return arguments[0].scrollIntoView(true);\", element_to_hover_over)\n",
    "    hover = ActionChains(browser).move_to_element(element_to_hover_over)\n",
    "    hover.perform()\n",
    "    sleep(1)\n",
    "    info = browser.find_element_by_css_selector(hover_css).text.split(\"\\n\")\n",
    "    \n",
    "    if info[1] == \"likes\":\n",
    "        media_type = \"image\"\n",
    "        views = \"na\"\n",
    "        likes = info[0]\n",
    "        \n",
    "    else:\n",
    "        media_type = \"video\"\n",
    "        views = info[0]\n",
    "        likes = \"na\"\n",
    "\n",
    "    if len(info) == 2:\n",
    "        comments = None\n",
    "    else:\n",
    "        comments = info[2]\n",
    "    link = element_to_hover_over.find_element_by_tag_name(\"a\").get_attribute(\"href\")\n",
    "    caption = element_to_hover_over.find_element_by_tag_name(\"img\").get_attribute(\"alt\")\n",
    "    return views, likes, media_type, comments, link, caption"
   ]
  },
  {
   "cell_type": "code",
   "execution_count": 297,
   "metadata": {
    "collapsed": true,
    "scrolled": true
   },
   "outputs": [],
   "source": [
    "data = []\n",
    "for element in elements_to_hover_over[:5]:\n",
    "    sleep(1)\n",
    "    data.append(list(get_info(hover_css, element)))"
   ]
  },
  {
   "cell_type": "markdown",
   "metadata": {},
   "source": [
    "With scrolling"
   ]
  },
  {
   "cell_type": "code",
   "execution_count": 277,
   "metadata": {
    "collapsed": true
   },
   "outputs": [],
   "source": [
    "browser.get(insta_url +new_df.brand_ig[0])"
   ]
  },
  {
   "cell_type": "code",
   "execution_count": 325,
   "metadata": {
    "collapsed": true
   },
   "outputs": [],
   "source": [
    "ele = browser.find_elements_by_css_selector('div[class=\"_mck9w _gvoze _tn0ps\"]')"
   ]
  },
  {
   "cell_type": "code",
   "execution_count": 255,
   "metadata": {
    "collapsed": false
   },
   "outputs": [
    {
     "data": {
      "text/plain": [
       "12"
      ]
     },
     "execution_count": 255,
     "metadata": {},
     "output_type": "execute_result"
    }
   ],
   "source": [
    "len(ele)"
   ]
  },
  {
   "cell_type": "code",
   "execution_count": 15,
   "metadata": {
    "collapsed": true
   },
   "outputs": [],
   "source": [
    "def scroll_page_once():\n",
    "    browser.execute_script(\"window.scrollTo(0, document.body.scrollHeight);\")"
   ]
  },
  {
   "cell_type": "code",
   "execution_count": 266,
   "metadata": {
    "collapsed": false
   },
   "outputs": [
    {
     "data": {
      "text/plain": [
       "42"
      ]
     },
     "execution_count": 266,
     "metadata": {},
     "output_type": "execute_result"
    }
   ],
   "source": [
    "browser.execute_script(\"window.scrollTo(0, document.body.scrollHeight);\")\n",
    "ele = browser.find_elements_by_css_selector('div[class=\"_mck9w _gvoze _tn0ps\"]')\n",
    "len(ele)"
   ]
  },
  {
   "cell_type": "code",
   "execution_count": 274,
   "metadata": {
    "collapsed": true
   },
   "outputs": [],
   "source": [
    "browser.execute_script(\"window.scrollTo(0, document.body.scrollHeight);\")"
   ]
  },
  {
   "cell_type": "code",
   "execution_count": 280,
   "metadata": {
    "collapsed": false
   },
   "outputs": [
    {
     "data": {
      "text/plain": [
       "12"
      ]
     },
     "execution_count": 280,
     "metadata": {},
     "output_type": "execute_result"
    }
   ],
   "source": [
    "ele = browser.find_elements_by_css_selector('div[class=\"_mck9w _gvoze _tn0ps\"]')\n",
    "len(ele)"
   ]
  },
  {
   "cell_type": "code",
   "execution_count": 16,
   "metadata": {
    "collapsed": true
   },
   "outputs": [],
   "source": [
    "def scrap_all():\n",
    "    data = []\n",
    "    urls = set()\n",
    "    prev_data_len = -1\n",
    "    repeat_counter = 0\n",
    "    while repeat_counter < 3:\n",
    "        elements_to_hover_over= browser.find_elements_by_css_selector('div[class=\"_mck9w _gvoze _tn0ps\"]')\n",
    "        for element in elements_to_hover_over[::-1]:\n",
    "            sleep(1)\n",
    "            info = list(get_info(hover_css, element))\n",
    "            if info[-2] in urls:\n",
    "                repeat_counter += 1\n",
    "                break\n",
    "            urls.add(info[-2])\n",
    "            repeat_counter = 0\n",
    "            data.append(info)\n",
    "        scroll_page_once()\n",
    "    return data"
   ]
  },
  {
   "cell_type": "code",
   "execution_count": 356,
   "metadata": {
    "collapsed": true
   },
   "outputs": [],
   "source": [
    "data = scrap_all()"
   ]
  },
  {
   "cell_type": "code",
   "execution_count": 357,
   "metadata": {
    "collapsed": true,
    "scrolled": true
   },
   "outputs": [],
   "source": [
    "samsung_df = pd.DataFrame(data, columns=[\"views\",\"likes\",\"media\",\"comments\",\"url\",\"caption\"])"
   ]
  },
  {
   "cell_type": "code",
   "execution_count": 358,
   "metadata": {
    "collapsed": false
   },
   "outputs": [
    {
     "data": {
      "text/plain": [
       "(263, 6)"
      ]
     },
     "execution_count": 358,
     "metadata": {},
     "output_type": "execute_result"
    }
   ],
   "source": [
    "samsung_df.shape"
   ]
  },
  {
   "cell_type": "code",
   "execution_count": 361,
   "metadata": {
    "collapsed": true
   },
   "outputs": [],
   "source": [
    "samsung_df.to_csv(\"samsung_ig.csv\",index=False)"
   ]
  },
  {
   "cell_type": "code",
   "execution_count": 362,
   "metadata": {
    "collapsed": false
   },
   "outputs": [
    {
     "data": {
      "text/html": [
       "<div>\n",
       "<style scoped>\n",
       "    .dataframe tbody tr th:only-of-type {\n",
       "        vertical-align: middle;\n",
       "    }\n",
       "\n",
       "    .dataframe tbody tr th {\n",
       "        vertical-align: top;\n",
       "    }\n",
       "\n",
       "    .dataframe thead th {\n",
       "        text-align: right;\n",
       "    }\n",
       "</style>\n",
       "<table border=\"1\" class=\"dataframe\">\n",
       "  <thead>\n",
       "    <tr style=\"text-align: right;\">\n",
       "      <th></th>\n",
       "      <th>views</th>\n",
       "      <th>likes</th>\n",
       "      <th>media</th>\n",
       "      <th>comments</th>\n",
       "      <th>url</th>\n",
       "      <th>caption</th>\n",
       "    </tr>\n",
       "  </thead>\n",
       "  <tbody>\n",
       "    <tr>\n",
       "      <th>0</th>\n",
       "      <td>na</td>\n",
       "      <td>33.8k</td>\n",
       "      <td>image</td>\n",
       "      <td>240</td>\n",
       "      <td>https://www.instagram.com/p/BeIbe5ehQJo/?taken...</td>\n",
       "      <td>May the year ahead run in parallel with your d...</td>\n",
       "    </tr>\n",
       "    <tr>\n",
       "      <th>1</th>\n",
       "      <td>na</td>\n",
       "      <td>44.5k</td>\n",
       "      <td>image</td>\n",
       "      <td>389</td>\n",
       "      <td>https://www.instagram.com/p/BeQKCUUBhiX/?taken...</td>\n",
       "      <td>Never lose track of the little moments in life...</td>\n",
       "    </tr>\n",
       "    <tr>\n",
       "      <th>2</th>\n",
       "      <td>na</td>\n",
       "      <td>66.5k</td>\n",
       "      <td>image</td>\n",
       "      <td>541</td>\n",
       "      <td>https://www.instagram.com/p/BeSur9mhhqQ/?taken...</td>\n",
       "      <td>Great moments are often framed by the little o...</td>\n",
       "    </tr>\n",
       "    <tr>\n",
       "      <th>3</th>\n",
       "      <td>na</td>\n",
       "      <td>57k</td>\n",
       "      <td>image</td>\n",
       "      <td>645</td>\n",
       "      <td>https://www.instagram.com/p/BeVUHj_B_d0/?taken...</td>\n",
       "      <td>No story too large, no memory too small. #Gala...</td>\n",
       "    </tr>\n",
       "    <tr>\n",
       "      <th>4</th>\n",
       "      <td>na</td>\n",
       "      <td>48.7k</td>\n",
       "      <td>image</td>\n",
       "      <td>1,031</td>\n",
       "      <td>https://www.instagram.com/p/BeXjt2YhnJS/?taken...</td>\n",
       "      <td>Your brand new baby is coming on 02.25.2018, a...</td>\n",
       "    </tr>\n",
       "    <tr>\n",
       "      <th>5</th>\n",
       "      <td>na</td>\n",
       "      <td>46.6k</td>\n",
       "      <td>image</td>\n",
       "      <td>739</td>\n",
       "      <td>https://www.instagram.com/p/BeiNayshH89/?taken...</td>\n",
       "      <td>This 02.25.2018. You’re going to be exposed to...</td>\n",
       "    </tr>\n",
       "    <tr>\n",
       "      <th>6</th>\n",
       "      <td>na</td>\n",
       "      <td>58.7k</td>\n",
       "      <td>image</td>\n",
       "      <td>1,324</td>\n",
       "      <td>https://www.instagram.com/p/BenW_EdhAXh/?taken...</td>\n",
       "      <td>From 02.25.18. You won't see your beloved the ...</td>\n",
       "    </tr>\n",
       "    <tr>\n",
       "      <th>7</th>\n",
       "      <td>na</td>\n",
       "      <td>38k</td>\n",
       "      <td>image</td>\n",
       "      <td>971</td>\n",
       "      <td>https://www.instagram.com/p/Be2yoNwhX4b/?taken...</td>\n",
       "      <td>You must first walk through darkness to reach ...</td>\n",
       "    </tr>\n",
       "    <tr>\n",
       "      <th>8</th>\n",
       "      <td>na</td>\n",
       "      <td>57.2k</td>\n",
       "      <td>image</td>\n",
       "      <td>11.5k</td>\n",
       "      <td>https://www.instagram.com/p/Be5Ws4Ohw5Y/?taken...</td>\n",
       "      <td>Find beauty, even on the rockiest of roads. #G...</td>\n",
       "    </tr>\n",
       "    <tr>\n",
       "      <th>9</th>\n",
       "      <td>na</td>\n",
       "      <td>53.2k</td>\n",
       "      <td>image</td>\n",
       "      <td>1,504</td>\n",
       "      <td>https://www.instagram.com/p/Be-g0diBSVq/?taken...</td>\n",
       "      <td>Only when you step out of the grid can you get...</td>\n",
       "    </tr>\n",
       "  </tbody>\n",
       "</table>\n",
       "</div>"
      ],
      "text/plain": [
       "  views  likes  media comments  \\\n",
       "0    na  33.8k  image      240   \n",
       "1    na  44.5k  image      389   \n",
       "2    na  66.5k  image      541   \n",
       "3    na    57k  image      645   \n",
       "4    na  48.7k  image    1,031   \n",
       "5    na  46.6k  image      739   \n",
       "6    na  58.7k  image    1,324   \n",
       "7    na    38k  image      971   \n",
       "8    na  57.2k  image    11.5k   \n",
       "9    na  53.2k  image    1,504   \n",
       "\n",
       "                                                 url  \\\n",
       "0  https://www.instagram.com/p/BeIbe5ehQJo/?taken...   \n",
       "1  https://www.instagram.com/p/BeQKCUUBhiX/?taken...   \n",
       "2  https://www.instagram.com/p/BeSur9mhhqQ/?taken...   \n",
       "3  https://www.instagram.com/p/BeVUHj_B_d0/?taken...   \n",
       "4  https://www.instagram.com/p/BeXjt2YhnJS/?taken...   \n",
       "5  https://www.instagram.com/p/BeiNayshH89/?taken...   \n",
       "6  https://www.instagram.com/p/BenW_EdhAXh/?taken...   \n",
       "7  https://www.instagram.com/p/Be2yoNwhX4b/?taken...   \n",
       "8  https://www.instagram.com/p/Be5Ws4Ohw5Y/?taken...   \n",
       "9  https://www.instagram.com/p/Be-g0diBSVq/?taken...   \n",
       "\n",
       "                                             caption  \n",
       "0  May the year ahead run in parallel with your d...  \n",
       "1  Never lose track of the little moments in life...  \n",
       "2  Great moments are often framed by the little o...  \n",
       "3  No story too large, no memory too small. #Gala...  \n",
       "4  Your brand new baby is coming on 02.25.2018, a...  \n",
       "5  This 02.25.2018. You’re going to be exposed to...  \n",
       "6  From 02.25.18. You won't see your beloved the ...  \n",
       "7  You must first walk through darkness to reach ...  \n",
       "8  Find beauty, even on the rockiest of roads. #G...  \n",
       "9  Only when you step out of the grid can you get...  "
      ]
     },
     "execution_count": 362,
     "metadata": {},
     "output_type": "execute_result"
    }
   ],
   "source": [
    "samsung_df.head(10)"
   ]
  },
  {
   "cell_type": "markdown",
   "metadata": {},
   "source": [
    "class=\"_m10kk\" <- to get likes from videos after clicking on the views element"
   ]
  },
  {
   "cell_type": "code",
   "execution_count": 365,
   "metadata": {
    "collapsed": false,
    "scrolled": true
   },
   "outputs": [
    {
     "data": {
      "text/plain": [
       "'https://www.instagram.com/p/BeIbe5ehQJo/?taken-by=samsungmobile'"
      ]
     },
     "execution_count": 365,
     "metadata": {},
     "output_type": "execute_result"
    }
   ],
   "source": [
    "#visit url\n",
    "samsung_df.loc[0].url"
   ]
  },
  {
   "cell_type": "code",
   "execution_count": 381,
   "metadata": {
    "collapsed": false
   },
   "outputs": [
    {
     "data": {
      "text/plain": [
       "'2018-01-19T12:52:08.000Z'"
      ]
     },
     "execution_count": 381,
     "metadata": {},
     "output_type": "execute_result"
    }
   ],
   "source": [
    "#get datetime\n",
    "browser.find_element_by_tag_name(\"time\").get_attribute(\"datetime\")"
   ]
  },
  {
   "cell_type": "code",
   "execution_count": 382,
   "metadata": {
    "collapsed": false
   },
   "outputs": [
    {
     "data": {
      "text/plain": [
       "'33893'"
      ]
     },
     "execution_count": 382,
     "metadata": {},
     "output_type": "execute_result"
    }
   ],
   "source": [
    "#get likes\n",
    "browser.find_element_by_css_selector('a[class=\"_nzn1h\"]').find_element_by_tag_name(\"span\").text.replace(\",\",\"\")"
   ]
  },
  {
   "cell_type": "code",
   "execution_count": 376,
   "metadata": {
    "collapsed": false
   },
   "outputs": [
    {
     "data": {
      "text/plain": [
       "'111270'"
      ]
     },
     "execution_count": 376,
     "metadata": {},
     "output_type": "execute_result"
    }
   ],
   "source": [
    "#get views of video\n",
    "browser.find_element_by_css_selector('span[class=\"_m5zti\"]').find_element_by_tag_name(\"span\").text.replace(\",\",\"\")"
   ]
  },
  {
   "cell_type": "code",
   "execution_count": 378,
   "metadata": {
    "collapsed": true
   },
   "outputs": [],
   "source": [
    "#click views to review likes\n",
    "browser.find_element_by_css_selector('span[class=\"_m5zti\"]').click()"
   ]
  },
  {
   "cell_type": "code",
   "execution_count": 380,
   "metadata": {
    "collapsed": false
   },
   "outputs": [
    {
     "data": {
      "text/plain": [
       "'17977'"
      ]
     },
     "execution_count": 380,
     "metadata": {},
     "output_type": "execute_result"
    }
   ],
   "source": [
    "#get video likes\n",
    "browser.find_element_by_css_selector('div[class=\"_m10kk\"]').find_element_by_tag_name(\"span\").text.replace(\",\",\"\")"
   ]
  },
  {
   "cell_type": "code",
   "execution_count": 392,
   "metadata": {
    "collapsed": true
   },
   "outputs": [],
   "source": [
    "samsung_df[\"post_datetime\"] = None"
   ]
  },
  {
   "cell_type": "code",
   "execution_count": 400,
   "metadata": {
    "collapsed": true
   },
   "outputs": [],
   "source": [
    "for i in range(samsung_df.shape[0]):\n",
    "    row = samsung_df.loc[i]\n",
    "    url = row.url\n",
    "    browser.get(url)\n",
    "    row.post_datetime = browser.find_element_by_tag_name(\"time\").get_attribute(\"datetime\")\n",
    "    if row.media == \"image\":\n",
    "        row.likes = browser.find_element_by_css_selector('a[class=\"_nzn1h\"]').find_element_by_tag_name(\"span\").text.replace(\",\",\"\")\n",
    "    else:\n",
    "        row.views = browser.find_element_by_css_selector('span[class=\"_m5zti\"]').find_element_by_tag_name(\"span\").text.replace(\",\",\"\")\n",
    "        browser.find_element_by_css_selector('span[class=\"_m5zti\"]').click()\n",
    "        sleep(0.5)\n",
    "        row.likes = browser.find_element_by_css_selector('div[class=\"_m10kk\"]').find_element_by_tag_name(\"span\").text.replace(\",\",\"\")"
   ]
  },
  {
   "cell_type": "code",
   "execution_count": 402,
   "metadata": {
    "collapsed": false
   },
   "outputs": [
    {
     "data": {
      "text/html": [
       "<div>\n",
       "<style scoped>\n",
       "    .dataframe tbody tr th:only-of-type {\n",
       "        vertical-align: middle;\n",
       "    }\n",
       "\n",
       "    .dataframe tbody tr th {\n",
       "        vertical-align: top;\n",
       "    }\n",
       "\n",
       "    .dataframe thead th {\n",
       "        text-align: right;\n",
       "    }\n",
       "</style>\n",
       "<table border=\"1\" class=\"dataframe\">\n",
       "  <thead>\n",
       "    <tr style=\"text-align: right;\">\n",
       "      <th></th>\n",
       "      <th>views</th>\n",
       "      <th>likes</th>\n",
       "      <th>media</th>\n",
       "      <th>comments</th>\n",
       "      <th>url</th>\n",
       "      <th>caption</th>\n",
       "      <th>post_datetime</th>\n",
       "    </tr>\n",
       "  </thead>\n",
       "  <tbody>\n",
       "    <tr>\n",
       "      <th>163</th>\n",
       "      <td>na</td>\n",
       "      <td>53050</td>\n",
       "      <td>image</td>\n",
       "      <td>489</td>\n",
       "      <td>https://www.instagram.com/p/BSj9BMzhtsf/?taken...</td>\n",
       "      <td>The #GalaxyS8 is right at home in one of the m...</td>\n",
       "      <td>2017-04-06T23:07:57.000Z</td>\n",
       "    </tr>\n",
       "    <tr>\n",
       "      <th>164</th>\n",
       "      <td>na</td>\n",
       "      <td>24539</td>\n",
       "      <td>image</td>\n",
       "      <td>108</td>\n",
       "      <td>https://www.instagram.com/p/BSmAzB_BfnK/?taken...</td>\n",
       "      <td>Swipe right to see the parallels between a bea...</td>\n",
       "      <td>2017-04-07T18:19:27.000Z</td>\n",
       "    </tr>\n",
       "    <tr>\n",
       "      <th>165</th>\n",
       "      <td>na</td>\n",
       "      <td>29484</td>\n",
       "      <td>image</td>\n",
       "      <td>133</td>\n",
       "      <td>https://www.instagram.com/p/BSoGpg_BnuD/?taken...</td>\n",
       "      <td>A camera that captures every angle gives you a...</td>\n",
       "      <td>2017-04-08T13:49:03.000Z</td>\n",
       "    </tr>\n",
       "    <tr>\n",
       "      <th>166</th>\n",
       "      <td>87816</td>\n",
       "      <td>15357</td>\n",
       "      <td>video</td>\n",
       "      <td>115</td>\n",
       "      <td>https://www.instagram.com/p/BSwRlKohWYW/?taken...</td>\n",
       "      <td>Train like there’s no finish line. #GearFit2</td>\n",
       "      <td>2017-04-11T17:58:30.000Z</td>\n",
       "    </tr>\n",
       "    <tr>\n",
       "      <th>167</th>\n",
       "      <td>107788</td>\n",
       "      <td>18743</td>\n",
       "      <td>video</td>\n",
       "      <td>113</td>\n",
       "      <td>https://www.instagram.com/p/BSwfYxSB1kM/?taken...</td>\n",
       "      <td>Take your adventure to new heights with the #G...</td>\n",
       "      <td>2017-04-11T19:59:09.000Z</td>\n",
       "    </tr>\n",
       "    <tr>\n",
       "      <th>168</th>\n",
       "      <td>na</td>\n",
       "      <td>28379</td>\n",
       "      <td>image</td>\n",
       "      <td>200</td>\n",
       "      <td>https://www.instagram.com/p/BOpGdf5jsC2/?taken...</td>\n",
       "      <td>The holidays can be pretty hectic. Remember to...</td>\n",
       "      <td>2016-12-30T13:01:05.000Z</td>\n",
       "    </tr>\n",
       "    <tr>\n",
       "      <th>169</th>\n",
       "      <td>na</td>\n",
       "      <td>42600</td>\n",
       "      <td>image</td>\n",
       "      <td>439</td>\n",
       "      <td>https://www.instagram.com/p/BOw0ujoDyT1/?taken...</td>\n",
       "      <td>Here's to shining brightly in #2017. #lights #...</td>\n",
       "      <td>2017-01-02T13:00:03.000Z</td>\n",
       "    </tr>\n",
       "    <tr>\n",
       "      <th>170</th>\n",
       "      <td>na</td>\n",
       "      <td>27595</td>\n",
       "      <td>image</td>\n",
       "      <td>253</td>\n",
       "      <td>https://www.instagram.com/p/BO2FfpVDh9w/?taken...</td>\n",
       "      <td>Where will 2017 take you? @LonelyPlanet #ShotF...</td>\n",
       "      <td>2017-01-04T14:02:46.000Z</td>\n",
       "    </tr>\n",
       "    <tr>\n",
       "      <th>171</th>\n",
       "      <td>na</td>\n",
       "      <td>24151</td>\n",
       "      <td>image</td>\n",
       "      <td>117</td>\n",
       "      <td>https://www.instagram.com/p/BO7H6-CjfRN/?taken...</td>\n",
       "      <td>The weather outside is delightful. Make a reso...</td>\n",
       "      <td>2017-01-06T13:00:10.000Z</td>\n",
       "    </tr>\n",
       "    <tr>\n",
       "      <th>172</th>\n",
       "      <td>na</td>\n",
       "      <td>34903</td>\n",
       "      <td>image</td>\n",
       "      <td>397</td>\n",
       "      <td>https://www.instagram.com/p/BPDLZXVD0EM/?taken...</td>\n",
       "      <td>Rollin' into #2017 like... #GalaxyS7edge #neon...</td>\n",
       "      <td>2017-01-09T16:04:28.000Z</td>\n",
       "    </tr>\n",
       "    <tr>\n",
       "      <th>173</th>\n",
       "      <td>na</td>\n",
       "      <td>24703</td>\n",
       "      <td>image</td>\n",
       "      <td>156</td>\n",
       "      <td>https://www.instagram.com/p/BPIfXXZDBwp/?taken...</td>\n",
       "      <td>New Year. New hobby. What new hobbies will you...</td>\n",
       "      <td>2017-01-11T17:35:09.000Z</td>\n",
       "    </tr>\n",
       "    <tr>\n",
       "      <th>174</th>\n",
       "      <td>na</td>\n",
       "      <td>34617</td>\n",
       "      <td>image</td>\n",
       "      <td>489</td>\n",
       "      <td>https://www.instagram.com/p/BPNJMiyjfcO/?taken...</td>\n",
       "      <td>Take flight and explore your world. 📷: @arlyio...</td>\n",
       "      <td>2017-01-13T12:57:38.000Z</td>\n",
       "    </tr>\n",
       "    <tr>\n",
       "      <th>175</th>\n",
       "      <td>na</td>\n",
       "      <td>32385</td>\n",
       "      <td>image</td>\n",
       "      <td>509</td>\n",
       "      <td>https://www.instagram.com/p/BQksjMmlvB0/?taken...</td>\n",
       "      <td>Explore new heights. @karthikabhiram #Turkey #...</td>\n",
       "      <td>2017-02-16T13:00:30.000Z</td>\n",
       "    </tr>\n",
       "    <tr>\n",
       "      <th>176</th>\n",
       "      <td>na</td>\n",
       "      <td>22944</td>\n",
       "      <td>image</td>\n",
       "      <td>128</td>\n",
       "      <td>https://www.instagram.com/p/BRaxG7MBfIN/?taken...</td>\n",
       "      <td>Explore your view point through a different le...</td>\n",
       "      <td>2017-03-09T12:59:19.000Z</td>\n",
       "    </tr>\n",
       "    <tr>\n",
       "      <th>177</th>\n",
       "      <td>na</td>\n",
       "      <td>35987</td>\n",
       "      <td>image</td>\n",
       "      <td>235</td>\n",
       "      <td>https://www.instagram.com/p/BRk9hRRBuaR/?taken...</td>\n",
       "      <td>Keep an eye open for blooming flowers. #Spring...</td>\n",
       "      <td>2017-03-13T12:00:10.000Z</td>\n",
       "    </tr>\n",
       "    <tr>\n",
       "      <th>178</th>\n",
       "      <td>na</td>\n",
       "      <td>41838</td>\n",
       "      <td>image</td>\n",
       "      <td>261</td>\n",
       "      <td>https://www.instagram.com/p/BRqHOG2B9du/?taken...</td>\n",
       "      <td>Wind in your hair, flowers in your basket. #Fl...</td>\n",
       "      <td>2017-03-15T12:01:08.000Z</td>\n",
       "    </tr>\n",
       "    <tr>\n",
       "      <th>179</th>\n",
       "      <td>na</td>\n",
       "      <td>52010</td>\n",
       "      <td>image</td>\n",
       "      <td>407</td>\n",
       "      <td>https://www.instagram.com/p/BRvQ10gBeu4/?taken...</td>\n",
       "      <td>Mother Nature’s lucky charms. #StPatricksDay #...</td>\n",
       "      <td>2017-03-17T12:01:25.000Z</td>\n",
       "    </tr>\n",
       "    <tr>\n",
       "      <th>180</th>\n",
       "      <td>na</td>\n",
       "      <td>21469</td>\n",
       "      <td>image</td>\n",
       "      <td>88</td>\n",
       "      <td>https://www.instagram.com/p/BNhA7YYjU-X/?taken...</td>\n",
       "      <td>Here's to staying warm. #lake #winter #nature ...</td>\n",
       "      <td>2016-12-02T13:07:25.000Z</td>\n",
       "    </tr>\n",
       "    <tr>\n",
       "      <th>181</th>\n",
       "      <td>na</td>\n",
       "      <td>21151</td>\n",
       "      <td>image</td>\n",
       "      <td>156</td>\n",
       "      <td>https://www.instagram.com/p/BNoufYljgSn/?taken...</td>\n",
       "      <td>The hardest thing about #baking is waiting unt...</td>\n",
       "      <td>2016-12-05T13:00:14.000Z</td>\n",
       "    </tr>\n",
       "    <tr>\n",
       "      <th>182</th>\n",
       "      <td>na</td>\n",
       "      <td>27205</td>\n",
       "      <td>image</td>\n",
       "      <td>93</td>\n",
       "      <td>https://www.instagram.com/p/BNt4GLJjm_a/?taken...</td>\n",
       "      <td>A breathtaking winter wonderland captured by @...</td>\n",
       "      <td>2016-12-07T13:00:22.000Z</td>\n",
       "    </tr>\n",
       "    <tr>\n",
       "      <th>183</th>\n",
       "      <td>na</td>\n",
       "      <td>18997</td>\n",
       "      <td>image</td>\n",
       "      <td>82</td>\n",
       "      <td>https://www.instagram.com/p/BNzBr3oD2hm/?taken...</td>\n",
       "      <td>Santa deserves a warm welcome. #wood #cabin #c...</td>\n",
       "      <td>2016-12-09T13:00:22.000Z</td>\n",
       "    </tr>\n",
       "    <tr>\n",
       "      <th>184</th>\n",
       "      <td>na</td>\n",
       "      <td>26140</td>\n",
       "      <td>image</td>\n",
       "      <td>136</td>\n",
       "      <td>https://www.instagram.com/p/BN6wCY-lXC1/?taken...</td>\n",
       "      <td>Photos as crisp as the cool mountain air. #sno...</td>\n",
       "      <td>2016-12-12T13:00:05.000Z</td>\n",
       "    </tr>\n",
       "    <tr>\n",
       "      <th>185</th>\n",
       "      <td>na</td>\n",
       "      <td>38086</td>\n",
       "      <td>image</td>\n",
       "      <td>485</td>\n",
       "      <td>https://www.instagram.com/p/BN_5qNVllnZ/?taken...</td>\n",
       "      <td>Bring your photos to life even in the dead of ...</td>\n",
       "      <td>2016-12-14T13:00:22.000Z</td>\n",
       "    </tr>\n",
       "    <tr>\n",
       "      <th>186</th>\n",
       "      <td>na</td>\n",
       "      <td>28432</td>\n",
       "      <td>image</td>\n",
       "      <td>760</td>\n",
       "      <td>https://www.instagram.com/p/BOFDKp9jWIa/?taken...</td>\n",
       "      <td>Over the river and through the woods to wherev...</td>\n",
       "      <td>2016-12-16T12:59:38.000Z</td>\n",
       "    </tr>\n",
       "    <tr>\n",
       "      <th>187</th>\n",
       "      <td>na</td>\n",
       "      <td>37419</td>\n",
       "      <td>image</td>\n",
       "      <td>456</td>\n",
       "      <td>https://www.instagram.com/p/BOPWbiRj4xa/?taken...</td>\n",
       "      <td>Man’s best friend. Decorating’s worst nightmar...</td>\n",
       "      <td>2016-12-20T13:00:22.000Z</td>\n",
       "    </tr>\n",
       "    <tr>\n",
       "      <th>188</th>\n",
       "      <td>na</td>\n",
       "      <td>27052</td>\n",
       "      <td>image</td>\n",
       "      <td>2,765</td>\n",
       "      <td>https://www.instagram.com/p/BOR7MvhDC7f/?taken...</td>\n",
       "      <td>A purrfect #holiday candid. Captured on the #G...</td>\n",
       "      <td>2016-12-21T13:00:08.000Z</td>\n",
       "    </tr>\n",
       "    <tr>\n",
       "      <th>189</th>\n",
       "      <td>na</td>\n",
       "      <td>26341</td>\n",
       "      <td>image</td>\n",
       "      <td>518</td>\n",
       "      <td>https://www.instagram.com/p/BOXEzJ3j5iL/?taken...</td>\n",
       "      <td>Sunlight, shadows, and a dusting of snow. #win...</td>\n",
       "      <td>2016-12-23T13:00:14.000Z</td>\n",
       "    </tr>\n",
       "    <tr>\n",
       "      <th>190</th>\n",
       "      <td>na</td>\n",
       "      <td>35833</td>\n",
       "      <td>image</td>\n",
       "      <td>237</td>\n",
       "      <td>https://www.instagram.com/p/BOezFm-DfHI/?taken...</td>\n",
       "      <td>Capture the holiday spirit in stunning clarity...</td>\n",
       "      <td>2016-12-26T12:59:23.000Z</td>\n",
       "    </tr>\n",
       "    <tr>\n",
       "      <th>191</th>\n",
       "      <td>na</td>\n",
       "      <td>33832</td>\n",
       "      <td>image</td>\n",
       "      <td>145</td>\n",
       "      <td>https://www.instagram.com/p/BOj8x_zjfxy/?taken...</td>\n",
       "      <td>Deck the halls, and the streets, with holiday ...</td>\n",
       "      <td>2016-12-28T13:00:18.000Z</td>\n",
       "    </tr>\n",
       "    <tr>\n",
       "      <th>192</th>\n",
       "      <td>na</td>\n",
       "      <td>28728</td>\n",
       "      <td>image</td>\n",
       "      <td>161</td>\n",
       "      <td>https://www.instagram.com/p/BMbdmCTj0Ug/?taken...</td>\n",
       "      <td>#Flexible like you. Reliable like your sidekic...</td>\n",
       "      <td>2016-11-05T12:51:04.000Z</td>\n",
       "    </tr>\n",
       "    <tr>\n",
       "      <th>...</th>\n",
       "      <td>...</td>\n",
       "      <td>...</td>\n",
       "      <td>...</td>\n",
       "      <td>...</td>\n",
       "      <td>...</td>\n",
       "      <td>...</td>\n",
       "      <td>...</td>\n",
       "    </tr>\n",
       "    <tr>\n",
       "      <th>233</th>\n",
       "      <td>na</td>\n",
       "      <td>40649</td>\n",
       "      <td>image</td>\n",
       "      <td>495</td>\n",
       "      <td>https://www.instagram.com/p/BGMR8Zvwv9b/?taken...</td>\n",
       "      <td>8:07PM: Capture photos that are out of this wo...</td>\n",
       "      <td>2016-06-03T12:12:18.000Z</td>\n",
       "    </tr>\n",
       "    <tr>\n",
       "      <th>234</th>\n",
       "      <td>na</td>\n",
       "      <td>23690</td>\n",
       "      <td>image</td>\n",
       "      <td>72</td>\n",
       "      <td>https://www.instagram.com/p/BGRthJCwv8B/?taken...</td>\n",
       "      <td>8:36PM: The great outdoors can be wherever you...</td>\n",
       "      <td>2016-06-05T14:49:26.000Z</td>\n",
       "    </tr>\n",
       "    <tr>\n",
       "      <th>235</th>\n",
       "      <td>na</td>\n",
       "      <td>23470</td>\n",
       "      <td>image</td>\n",
       "      <td>129</td>\n",
       "      <td>https://www.instagram.com/p/BGWj4YEQv_4/?taken...</td>\n",
       "      <td>One dimensional concert videos are so last sum...</td>\n",
       "      <td>2016-06-07T12:01:26.000Z</td>\n",
       "    </tr>\n",
       "    <tr>\n",
       "      <th>236</th>\n",
       "      <td>na</td>\n",
       "      <td>21222</td>\n",
       "      <td>image</td>\n",
       "      <td>55</td>\n",
       "      <td>https://www.instagram.com/p/BGbtVlZwv97/?taken...</td>\n",
       "      <td>Blue skies for days, summer festivals for life...</td>\n",
       "      <td>2016-06-09T12:00:16.000Z</td>\n",
       "    </tr>\n",
       "    <tr>\n",
       "      <th>237</th>\n",
       "      <td>na</td>\n",
       "      <td>33098</td>\n",
       "      <td>image</td>\n",
       "      <td>279</td>\n",
       "      <td>https://www.instagram.com/p/BGeX3Sxwvwi/?taken...</td>\n",
       "      <td>Capture every detail. Even when the volume's h...</td>\n",
       "      <td>2016-06-10T12:50:21.000Z</td>\n",
       "    </tr>\n",
       "    <tr>\n",
       "      <th>238</th>\n",
       "      <td>na</td>\n",
       "      <td>25348</td>\n",
       "      <td>image</td>\n",
       "      <td>74</td>\n",
       "      <td>https://www.instagram.com/p/BGg25ysQv3Y/?taken...</td>\n",
       "      <td>8:49PM: Phone home. And then track the calorie...</td>\n",
       "      <td>2016-06-11T12:00:03.000Z</td>\n",
       "    </tr>\n",
       "    <tr>\n",
       "      <th>239</th>\n",
       "      <td>na</td>\n",
       "      <td>19729</td>\n",
       "      <td>image</td>\n",
       "      <td>79</td>\n",
       "      <td>https://www.instagram.com/p/BGopD2eQvxp/?taken...</td>\n",
       "      <td>7:37PM: Wherever you're headed, the #GalaxyS7e...</td>\n",
       "      <td>2016-06-14T12:33:01.000Z</td>\n",
       "    </tr>\n",
       "    <tr>\n",
       "      <th>240</th>\n",
       "      <td>na</td>\n",
       "      <td>42216</td>\n",
       "      <td>image</td>\n",
       "      <td>765</td>\n",
       "      <td>https://www.instagram.com/p/BDYB63Ewvzl/?taken...</td>\n",
       "      <td>Walk this way. #GalaxyS7edge #Walks #Details #...</td>\n",
       "      <td>2016-03-25T12:08:58.000Z</td>\n",
       "    </tr>\n",
       "    <tr>\n",
       "      <th>241</th>\n",
       "      <td>na</td>\n",
       "      <td>20924</td>\n",
       "      <td>image</td>\n",
       "      <td>106</td>\n",
       "      <td>https://www.instagram.com/p/BDiUGfGwv6h/?taken...</td>\n",
       "      <td>Strike a pose. Meet the new Pro Mode settings ...</td>\n",
       "      <td>2016-03-29T12:00:15.000Z</td>\n",
       "    </tr>\n",
       "    <tr>\n",
       "      <th>242</th>\n",
       "      <td>na</td>\n",
       "      <td>28722</td>\n",
       "      <td>image</td>\n",
       "      <td>1,888</td>\n",
       "      <td>https://www.instagram.com/p/BDneCrxQv2b/?taken...</td>\n",
       "      <td>Something big is coming tomorrow. #TheNextGalaxy</td>\n",
       "      <td>2016-03-31T12:03:19.000Z</td>\n",
       "    </tr>\n",
       "    <tr>\n",
       "      <th>243</th>\n",
       "      <td>na</td>\n",
       "      <td>26223</td>\n",
       "      <td>image</td>\n",
       "      <td>491</td>\n",
       "      <td>https://www.instagram.com/p/BDpm_24Qv2k/?taken...</td>\n",
       "      <td>Gotcha. Happy #AprilFools.</td>\n",
       "      <td>2016-04-01T08:00:03.000Z</td>\n",
       "    </tr>\n",
       "    <tr>\n",
       "      <th>244</th>\n",
       "      <td>na</td>\n",
       "      <td>23504</td>\n",
       "      <td>image</td>\n",
       "      <td>130</td>\n",
       "      <td>https://www.instagram.com/p/BD-yXqgQv34/?taken...</td>\n",
       "      <td>Document your adventures in all their glory wi...</td>\n",
       "      <td>2016-04-09T13:23:29.000Z</td>\n",
       "    </tr>\n",
       "    <tr>\n",
       "      <th>245</th>\n",
       "      <td>na</td>\n",
       "      <td>22389</td>\n",
       "      <td>image</td>\n",
       "      <td>193</td>\n",
       "      <td>https://www.instagram.com/p/BELhHdSQvyw/?taken...</td>\n",
       "      <td>Share the world in all its glory with #360 #vi...</td>\n",
       "      <td>2016-04-14T12:02:51.000Z</td>\n",
       "    </tr>\n",
       "    <tr>\n",
       "      <th>246</th>\n",
       "      <td>na</td>\n",
       "      <td>19765</td>\n",
       "      <td>image</td>\n",
       "      <td>154</td>\n",
       "      <td>https://www.instagram.com/p/BEbANp7wv1G/?taken...</td>\n",
       "      <td>Use these Pro Mode settings to break your prev...</td>\n",
       "      <td>2016-04-20T12:23:11.000Z</td>\n",
       "    </tr>\n",
       "    <tr>\n",
       "      <th>247</th>\n",
       "      <td>na</td>\n",
       "      <td>24850</td>\n",
       "      <td>image</td>\n",
       "      <td>271</td>\n",
       "      <td>https://www.instagram.com/p/BE_C9OkQvxC/?taken...</td>\n",
       "      <td>The early bird catches the best waves. #Galaxy...</td>\n",
       "      <td>2016-05-04T12:19:49.000Z</td>\n",
       "    </tr>\n",
       "    <tr>\n",
       "      <th>248</th>\n",
       "      <td>na</td>\n",
       "      <td>19888</td>\n",
       "      <td>image</td>\n",
       "      <td>250</td>\n",
       "      <td>https://www.instagram.com/p/BFL4r2IQv1y/?taken...</td>\n",
       "      <td>A match made in the Galaxy. #GalaxyS7 #GalaxyS...</td>\n",
       "      <td>2016-05-09T12:00:11.000Z</td>\n",
       "    </tr>\n",
       "    <tr>\n",
       "      <th>249</th>\n",
       "      <td>na</td>\n",
       "      <td>16155</td>\n",
       "      <td>image</td>\n",
       "      <td>47</td>\n",
       "      <td>https://www.instagram.com/p/BFgfCOLQv0a/?taken...</td>\n",
       "      <td>Life is: Spontaneous dancing in the street in ...</td>\n",
       "      <td>2016-05-17T12:00:06.000Z</td>\n",
       "    </tr>\n",
       "    <tr>\n",
       "      <th>250</th>\n",
       "      <td>na</td>\n",
       "      <td>21727</td>\n",
       "      <td>image</td>\n",
       "      <td>75</td>\n",
       "      <td>https://www.instagram.com/p/BFjENRzQvyD/?taken...</td>\n",
       "      <td>5:45AM: The #BlueHour is a time for looking up...</td>\n",
       "      <td>2016-05-18T12:03:24.000Z</td>\n",
       "    </tr>\n",
       "    <tr>\n",
       "      <th>251</th>\n",
       "      <td>na</td>\n",
       "      <td>32248</td>\n",
       "      <td>image</td>\n",
       "      <td>390</td>\n",
       "      <td>https://www.instagram.com/p/BFoNg7iwvyP/?taken...</td>\n",
       "      <td>6:12AM: A low-light camera for capturing momen...</td>\n",
       "      <td>2016-05-20T12:00:56.000Z</td>\n",
       "    </tr>\n",
       "    <tr>\n",
       "      <th>252</th>\n",
       "      <td>na</td>\n",
       "      <td>44499</td>\n",
       "      <td>image</td>\n",
       "      <td>2,136</td>\n",
       "      <td>https://www.instagram.com/p/BCDzeN6wv7C/?taken...</td>\n",
       "      <td>Sleek. Durable. Water Resistant. The #GalaxyS7...</td>\n",
       "      <td>2016-02-21T19:06:31.000Z</td>\n",
       "    </tr>\n",
       "    <tr>\n",
       "      <th>253</th>\n",
       "      <td>na</td>\n",
       "      <td>23453</td>\n",
       "      <td>image</td>\n",
       "      <td>262</td>\n",
       "      <td>https://www.instagram.com/p/BCFu8OUQvz-/?taken...</td>\n",
       "      <td>Memories made immersive. Rethink what a phone ...</td>\n",
       "      <td>2016-02-22T13:05:25.000Z</td>\n",
       "    </tr>\n",
       "    <tr>\n",
       "      <th>254</th>\n",
       "      <td>na</td>\n",
       "      <td>33804</td>\n",
       "      <td>image</td>\n",
       "      <td>580</td>\n",
       "      <td>https://www.instagram.com/p/BCK38pgQv0h/?taken...</td>\n",
       "      <td>Beautiful on the outside. Powerful on the insi...</td>\n",
       "      <td>2016-02-24T13:00:19.000Z</td>\n",
       "    </tr>\n",
       "    <tr>\n",
       "      <th>255</th>\n",
       "      <td>na</td>\n",
       "      <td>33518</td>\n",
       "      <td>image</td>\n",
       "      <td>884</td>\n",
       "      <td>https://www.instagram.com/p/BCXv5ERwv9K/?taken...</td>\n",
       "      <td>Durable and dunkable. The new #GalaxyS7edge is...</td>\n",
       "      <td>2016-02-29T13:00:03.000Z</td>\n",
       "    </tr>\n",
       "    <tr>\n",
       "      <th>256</th>\n",
       "      <td>na</td>\n",
       "      <td>34027</td>\n",
       "      <td>image</td>\n",
       "      <td>635</td>\n",
       "      <td>https://www.instagram.com/p/BCaUvJVwv96/?taken...</td>\n",
       "      <td>The #GalaxyS7edge's Quad HD Super AMOLED displ...</td>\n",
       "      <td>2016-03-01T13:00:29.000Z</td>\n",
       "    </tr>\n",
       "    <tr>\n",
       "      <th>257</th>\n",
       "      <td>na</td>\n",
       "      <td>35186</td>\n",
       "      <td>image</td>\n",
       "      <td>639</td>\n",
       "      <td>https://www.instagram.com/p/BCc5pZ-wv_K/?taken...</td>\n",
       "      <td>Larger camera pixels means brighter, more vibr...</td>\n",
       "      <td>2016-03-02T13:01:30.000Z</td>\n",
       "    </tr>\n",
       "    <tr>\n",
       "      <th>258</th>\n",
       "      <td>na</td>\n",
       "      <td>34635</td>\n",
       "      <td>image</td>\n",
       "      <td>348</td>\n",
       "      <td>https://www.instagram.com/p/BC0GH8iwv8P/?taken...</td>\n",
       "      <td>Holding hands in the digital age. Introducing ...</td>\n",
       "      <td>2016-03-11T13:13:03.000Z</td>\n",
       "    </tr>\n",
       "    <tr>\n",
       "      <th>259</th>\n",
       "      <td>na</td>\n",
       "      <td>21029</td>\n",
       "      <td>image</td>\n",
       "      <td>147</td>\n",
       "      <td>https://www.instagram.com/p/BC23Aj5wv55/?taken...</td>\n",
       "      <td>@cucinadigitale played with shadow and light f...</td>\n",
       "      <td>2016-03-12T14:58:42.000Z</td>\n",
       "    </tr>\n",
       "    <tr>\n",
       "      <th>260</th>\n",
       "      <td>na</td>\n",
       "      <td>41568</td>\n",
       "      <td>image</td>\n",
       "      <td>1,031</td>\n",
       "      <td>https://www.instagram.com/p/BDBWReoQv6s/?taken...</td>\n",
       "      <td>The bathroom is no longer a smartphone hazard....</td>\n",
       "      <td>2016-03-16T16:44:17.000Z</td>\n",
       "    </tr>\n",
       "    <tr>\n",
       "      <th>261</th>\n",
       "      <td>na</td>\n",
       "      <td>34868</td>\n",
       "      <td>image</td>\n",
       "      <td>455</td>\n",
       "      <td>https://www.instagram.com/p/BDGBfpxQv0Y/?taken...</td>\n",
       "      <td>Better innovation leads to brighter illuminati...</td>\n",
       "      <td>2016-03-18T12:18:56.000Z</td>\n",
       "    </tr>\n",
       "    <tr>\n",
       "      <th>262</th>\n",
       "      <td>na</td>\n",
       "      <td>22098</td>\n",
       "      <td>image</td>\n",
       "      <td>134</td>\n",
       "      <td>https://www.instagram.com/p/BDS42BBwv35/?taken...</td>\n",
       "      <td>Early morning treats before sunrise. Captured ...</td>\n",
       "      <td>2016-03-23T12:13:28.000Z</td>\n",
       "    </tr>\n",
       "  </tbody>\n",
       "</table>\n",
       "<p>100 rows × 7 columns</p>\n",
       "</div>"
      ],
      "text/plain": [
       "      views  likes  media comments  \\\n",
       "163      na  53050  image      489   \n",
       "164      na  24539  image      108   \n",
       "165      na  29484  image      133   \n",
       "166   87816  15357  video      115   \n",
       "167  107788  18743  video      113   \n",
       "168      na  28379  image      200   \n",
       "169      na  42600  image      439   \n",
       "170      na  27595  image      253   \n",
       "171      na  24151  image      117   \n",
       "172      na  34903  image      397   \n",
       "173      na  24703  image      156   \n",
       "174      na  34617  image      489   \n",
       "175      na  32385  image      509   \n",
       "176      na  22944  image      128   \n",
       "177      na  35987  image      235   \n",
       "178      na  41838  image      261   \n",
       "179      na  52010  image      407   \n",
       "180      na  21469  image       88   \n",
       "181      na  21151  image      156   \n",
       "182      na  27205  image       93   \n",
       "183      na  18997  image       82   \n",
       "184      na  26140  image      136   \n",
       "185      na  38086  image      485   \n",
       "186      na  28432  image      760   \n",
       "187      na  37419  image      456   \n",
       "188      na  27052  image    2,765   \n",
       "189      na  26341  image      518   \n",
       "190      na  35833  image      237   \n",
       "191      na  33832  image      145   \n",
       "192      na  28728  image      161   \n",
       "..      ...    ...    ...      ...   \n",
       "233      na  40649  image      495   \n",
       "234      na  23690  image       72   \n",
       "235      na  23470  image      129   \n",
       "236      na  21222  image       55   \n",
       "237      na  33098  image      279   \n",
       "238      na  25348  image       74   \n",
       "239      na  19729  image       79   \n",
       "240      na  42216  image      765   \n",
       "241      na  20924  image      106   \n",
       "242      na  28722  image    1,888   \n",
       "243      na  26223  image      491   \n",
       "244      na  23504  image      130   \n",
       "245      na  22389  image      193   \n",
       "246      na  19765  image      154   \n",
       "247      na  24850  image      271   \n",
       "248      na  19888  image      250   \n",
       "249      na  16155  image       47   \n",
       "250      na  21727  image       75   \n",
       "251      na  32248  image      390   \n",
       "252      na  44499  image    2,136   \n",
       "253      na  23453  image      262   \n",
       "254      na  33804  image      580   \n",
       "255      na  33518  image      884   \n",
       "256      na  34027  image      635   \n",
       "257      na  35186  image      639   \n",
       "258      na  34635  image      348   \n",
       "259      na  21029  image      147   \n",
       "260      na  41568  image    1,031   \n",
       "261      na  34868  image      455   \n",
       "262      na  22098  image      134   \n",
       "\n",
       "                                                   url  \\\n",
       "163  https://www.instagram.com/p/BSj9BMzhtsf/?taken...   \n",
       "164  https://www.instagram.com/p/BSmAzB_BfnK/?taken...   \n",
       "165  https://www.instagram.com/p/BSoGpg_BnuD/?taken...   \n",
       "166  https://www.instagram.com/p/BSwRlKohWYW/?taken...   \n",
       "167  https://www.instagram.com/p/BSwfYxSB1kM/?taken...   \n",
       "168  https://www.instagram.com/p/BOpGdf5jsC2/?taken...   \n",
       "169  https://www.instagram.com/p/BOw0ujoDyT1/?taken...   \n",
       "170  https://www.instagram.com/p/BO2FfpVDh9w/?taken...   \n",
       "171  https://www.instagram.com/p/BO7H6-CjfRN/?taken...   \n",
       "172  https://www.instagram.com/p/BPDLZXVD0EM/?taken...   \n",
       "173  https://www.instagram.com/p/BPIfXXZDBwp/?taken...   \n",
       "174  https://www.instagram.com/p/BPNJMiyjfcO/?taken...   \n",
       "175  https://www.instagram.com/p/BQksjMmlvB0/?taken...   \n",
       "176  https://www.instagram.com/p/BRaxG7MBfIN/?taken...   \n",
       "177  https://www.instagram.com/p/BRk9hRRBuaR/?taken...   \n",
       "178  https://www.instagram.com/p/BRqHOG2B9du/?taken...   \n",
       "179  https://www.instagram.com/p/BRvQ10gBeu4/?taken...   \n",
       "180  https://www.instagram.com/p/BNhA7YYjU-X/?taken...   \n",
       "181  https://www.instagram.com/p/BNoufYljgSn/?taken...   \n",
       "182  https://www.instagram.com/p/BNt4GLJjm_a/?taken...   \n",
       "183  https://www.instagram.com/p/BNzBr3oD2hm/?taken...   \n",
       "184  https://www.instagram.com/p/BN6wCY-lXC1/?taken...   \n",
       "185  https://www.instagram.com/p/BN_5qNVllnZ/?taken...   \n",
       "186  https://www.instagram.com/p/BOFDKp9jWIa/?taken...   \n",
       "187  https://www.instagram.com/p/BOPWbiRj4xa/?taken...   \n",
       "188  https://www.instagram.com/p/BOR7MvhDC7f/?taken...   \n",
       "189  https://www.instagram.com/p/BOXEzJ3j5iL/?taken...   \n",
       "190  https://www.instagram.com/p/BOezFm-DfHI/?taken...   \n",
       "191  https://www.instagram.com/p/BOj8x_zjfxy/?taken...   \n",
       "192  https://www.instagram.com/p/BMbdmCTj0Ug/?taken...   \n",
       "..                                                 ...   \n",
       "233  https://www.instagram.com/p/BGMR8Zvwv9b/?taken...   \n",
       "234  https://www.instagram.com/p/BGRthJCwv8B/?taken...   \n",
       "235  https://www.instagram.com/p/BGWj4YEQv_4/?taken...   \n",
       "236  https://www.instagram.com/p/BGbtVlZwv97/?taken...   \n",
       "237  https://www.instagram.com/p/BGeX3Sxwvwi/?taken...   \n",
       "238  https://www.instagram.com/p/BGg25ysQv3Y/?taken...   \n",
       "239  https://www.instagram.com/p/BGopD2eQvxp/?taken...   \n",
       "240  https://www.instagram.com/p/BDYB63Ewvzl/?taken...   \n",
       "241  https://www.instagram.com/p/BDiUGfGwv6h/?taken...   \n",
       "242  https://www.instagram.com/p/BDneCrxQv2b/?taken...   \n",
       "243  https://www.instagram.com/p/BDpm_24Qv2k/?taken...   \n",
       "244  https://www.instagram.com/p/BD-yXqgQv34/?taken...   \n",
       "245  https://www.instagram.com/p/BELhHdSQvyw/?taken...   \n",
       "246  https://www.instagram.com/p/BEbANp7wv1G/?taken...   \n",
       "247  https://www.instagram.com/p/BE_C9OkQvxC/?taken...   \n",
       "248  https://www.instagram.com/p/BFL4r2IQv1y/?taken...   \n",
       "249  https://www.instagram.com/p/BFgfCOLQv0a/?taken...   \n",
       "250  https://www.instagram.com/p/BFjENRzQvyD/?taken...   \n",
       "251  https://www.instagram.com/p/BFoNg7iwvyP/?taken...   \n",
       "252  https://www.instagram.com/p/BCDzeN6wv7C/?taken...   \n",
       "253  https://www.instagram.com/p/BCFu8OUQvz-/?taken...   \n",
       "254  https://www.instagram.com/p/BCK38pgQv0h/?taken...   \n",
       "255  https://www.instagram.com/p/BCXv5ERwv9K/?taken...   \n",
       "256  https://www.instagram.com/p/BCaUvJVwv96/?taken...   \n",
       "257  https://www.instagram.com/p/BCc5pZ-wv_K/?taken...   \n",
       "258  https://www.instagram.com/p/BC0GH8iwv8P/?taken...   \n",
       "259  https://www.instagram.com/p/BC23Aj5wv55/?taken...   \n",
       "260  https://www.instagram.com/p/BDBWReoQv6s/?taken...   \n",
       "261  https://www.instagram.com/p/BDGBfpxQv0Y/?taken...   \n",
       "262  https://www.instagram.com/p/BDS42BBwv35/?taken...   \n",
       "\n",
       "                                               caption  \\\n",
       "163  The #GalaxyS8 is right at home in one of the m...   \n",
       "164  Swipe right to see the parallels between a bea...   \n",
       "165  A camera that captures every angle gives you a...   \n",
       "166       Train like there’s no finish line. #GearFit2   \n",
       "167  Take your adventure to new heights with the #G...   \n",
       "168  The holidays can be pretty hectic. Remember to...   \n",
       "169  Here's to shining brightly in #2017. #lights #...   \n",
       "170  Where will 2017 take you? @LonelyPlanet #ShotF...   \n",
       "171  The weather outside is delightful. Make a reso...   \n",
       "172  Rollin' into #2017 like... #GalaxyS7edge #neon...   \n",
       "173  New Year. New hobby. What new hobbies will you...   \n",
       "174  Take flight and explore your world. 📷: @arlyio...   \n",
       "175  Explore new heights. @karthikabhiram #Turkey #...   \n",
       "176  Explore your view point through a different le...   \n",
       "177  Keep an eye open for blooming flowers. #Spring...   \n",
       "178  Wind in your hair, flowers in your basket. #Fl...   \n",
       "179  Mother Nature’s lucky charms. #StPatricksDay #...   \n",
       "180  Here's to staying warm. #lake #winter #nature ...   \n",
       "181  The hardest thing about #baking is waiting unt...   \n",
       "182  A breathtaking winter wonderland captured by @...   \n",
       "183  Santa deserves a warm welcome. #wood #cabin #c...   \n",
       "184  Photos as crisp as the cool mountain air. #sno...   \n",
       "185  Bring your photos to life even in the dead of ...   \n",
       "186  Over the river and through the woods to wherev...   \n",
       "187  Man’s best friend. Decorating’s worst nightmar...   \n",
       "188  A purrfect #holiday candid. Captured on the #G...   \n",
       "189  Sunlight, shadows, and a dusting of snow. #win...   \n",
       "190  Capture the holiday spirit in stunning clarity...   \n",
       "191  Deck the halls, and the streets, with holiday ...   \n",
       "192  #Flexible like you. Reliable like your sidekic...   \n",
       "..                                                 ...   \n",
       "233  8:07PM: Capture photos that are out of this wo...   \n",
       "234  8:36PM: The great outdoors can be wherever you...   \n",
       "235  One dimensional concert videos are so last sum...   \n",
       "236  Blue skies for days, summer festivals for life...   \n",
       "237  Capture every detail. Even when the volume's h...   \n",
       "238  8:49PM: Phone home. And then track the calorie...   \n",
       "239  7:37PM: Wherever you're headed, the #GalaxyS7e...   \n",
       "240  Walk this way. #GalaxyS7edge #Walks #Details #...   \n",
       "241  Strike a pose. Meet the new Pro Mode settings ...   \n",
       "242   Something big is coming tomorrow. #TheNextGalaxy   \n",
       "243                         Gotcha. Happy #AprilFools.   \n",
       "244  Document your adventures in all their glory wi...   \n",
       "245  Share the world in all its glory with #360 #vi...   \n",
       "246  Use these Pro Mode settings to break your prev...   \n",
       "247  The early bird catches the best waves. #Galaxy...   \n",
       "248  A match made in the Galaxy. #GalaxyS7 #GalaxyS...   \n",
       "249  Life is: Spontaneous dancing in the street in ...   \n",
       "250  5:45AM: The #BlueHour is a time for looking up...   \n",
       "251  6:12AM: A low-light camera for capturing momen...   \n",
       "252  Sleek. Durable. Water Resistant. The #GalaxyS7...   \n",
       "253  Memories made immersive. Rethink what a phone ...   \n",
       "254  Beautiful on the outside. Powerful on the insi...   \n",
       "255  Durable and dunkable. The new #GalaxyS7edge is...   \n",
       "256  The #GalaxyS7edge's Quad HD Super AMOLED displ...   \n",
       "257  Larger camera pixels means brighter, more vibr...   \n",
       "258  Holding hands in the digital age. Introducing ...   \n",
       "259  @cucinadigitale played with shadow and light f...   \n",
       "260  The bathroom is no longer a smartphone hazard....   \n",
       "261  Better innovation leads to brighter illuminati...   \n",
       "262  Early morning treats before sunrise. Captured ...   \n",
       "\n",
       "                post_datetime  \n",
       "163  2017-04-06T23:07:57.000Z  \n",
       "164  2017-04-07T18:19:27.000Z  \n",
       "165  2017-04-08T13:49:03.000Z  \n",
       "166  2017-04-11T17:58:30.000Z  \n",
       "167  2017-04-11T19:59:09.000Z  \n",
       "168  2016-12-30T13:01:05.000Z  \n",
       "169  2017-01-02T13:00:03.000Z  \n",
       "170  2017-01-04T14:02:46.000Z  \n",
       "171  2017-01-06T13:00:10.000Z  \n",
       "172  2017-01-09T16:04:28.000Z  \n",
       "173  2017-01-11T17:35:09.000Z  \n",
       "174  2017-01-13T12:57:38.000Z  \n",
       "175  2017-02-16T13:00:30.000Z  \n",
       "176  2017-03-09T12:59:19.000Z  \n",
       "177  2017-03-13T12:00:10.000Z  \n",
       "178  2017-03-15T12:01:08.000Z  \n",
       "179  2017-03-17T12:01:25.000Z  \n",
       "180  2016-12-02T13:07:25.000Z  \n",
       "181  2016-12-05T13:00:14.000Z  \n",
       "182  2016-12-07T13:00:22.000Z  \n",
       "183  2016-12-09T13:00:22.000Z  \n",
       "184  2016-12-12T13:00:05.000Z  \n",
       "185  2016-12-14T13:00:22.000Z  \n",
       "186  2016-12-16T12:59:38.000Z  \n",
       "187  2016-12-20T13:00:22.000Z  \n",
       "188  2016-12-21T13:00:08.000Z  \n",
       "189  2016-12-23T13:00:14.000Z  \n",
       "190  2016-12-26T12:59:23.000Z  \n",
       "191  2016-12-28T13:00:18.000Z  \n",
       "192  2016-11-05T12:51:04.000Z  \n",
       "..                        ...  \n",
       "233  2016-06-03T12:12:18.000Z  \n",
       "234  2016-06-05T14:49:26.000Z  \n",
       "235  2016-06-07T12:01:26.000Z  \n",
       "236  2016-06-09T12:00:16.000Z  \n",
       "237  2016-06-10T12:50:21.000Z  \n",
       "238  2016-06-11T12:00:03.000Z  \n",
       "239  2016-06-14T12:33:01.000Z  \n",
       "240  2016-03-25T12:08:58.000Z  \n",
       "241  2016-03-29T12:00:15.000Z  \n",
       "242  2016-03-31T12:03:19.000Z  \n",
       "243  2016-04-01T08:00:03.000Z  \n",
       "244  2016-04-09T13:23:29.000Z  \n",
       "245  2016-04-14T12:02:51.000Z  \n",
       "246  2016-04-20T12:23:11.000Z  \n",
       "247  2016-05-04T12:19:49.000Z  \n",
       "248  2016-05-09T12:00:11.000Z  \n",
       "249  2016-05-17T12:00:06.000Z  \n",
       "250  2016-05-18T12:03:24.000Z  \n",
       "251  2016-05-20T12:00:56.000Z  \n",
       "252  2016-02-21T19:06:31.000Z  \n",
       "253  2016-02-22T13:05:25.000Z  \n",
       "254  2016-02-24T13:00:19.000Z  \n",
       "255  2016-02-29T13:00:03.000Z  \n",
       "256  2016-03-01T13:00:29.000Z  \n",
       "257  2016-03-02T13:01:30.000Z  \n",
       "258  2016-03-11T13:13:03.000Z  \n",
       "259  2016-03-12T14:58:42.000Z  \n",
       "260  2016-03-16T16:44:17.000Z  \n",
       "261  2016-03-18T12:18:56.000Z  \n",
       "262  2016-03-23T12:13:28.000Z  \n",
       "\n",
       "[100 rows x 7 columns]"
      ]
     },
     "execution_count": 402,
     "metadata": {},
     "output_type": "execute_result"
    }
   ],
   "source": [
    "samsung_df.tail(100)"
   ]
  },
  {
   "cell_type": "code",
   "execution_count": 403,
   "metadata": {
    "collapsed": true
   },
   "outputs": [],
   "source": [
    "samsung_df.to_csv(\"samsung_ig_final.csv\",index=False)"
   ]
  },
  {
   "cell_type": "code",
   "execution_count": 34,
   "metadata": {
    "collapsed": true
   },
   "outputs": [],
   "source": [
    "new_df.n_posts = new_df.n_posts.apply(lambda x: 0 if x==\"-\" else int(x))"
   ]
  },
  {
   "cell_type": "code",
   "execution_count": 408,
   "metadata": {
    "collapsed": true
   },
   "outputs": [],
   "source": [
    "new_df[\"done\"] = None"
   ]
  },
  {
   "cell_type": "code",
   "execution_count": 18,
   "metadata": {
    "collapsed": false
   },
   "outputs": [
    {
     "name": "stderr",
     "output_type": "stream",
     "text": [
      "/home/nikolas/anaconda3/envs/main/lib/python3.5/site-packages/ipykernel_launcher.py:1: UserWarning: Boolean Series key will be reindexed to match DataFrame index.\n",
      "  \"\"\"Entry point for launching an IPython kernel.\n"
     ]
    }
   ],
   "source": [
    "todo = new_df[new_df.done != 1][new_df.brand_ig != \"-\"].sort_values(by=[\"n_posts\"]).brand_ig"
   ]
  },
  {
   "cell_type": "code",
   "execution_count": 19,
   "metadata": {
    "collapsed": true
   },
   "outputs": [],
   "source": [
    "todo = todo.reset_index(drop=True)"
   ]
  },
  {
   "cell_type": "code",
   "execution_count": 49,
   "metadata": {
    "collapsed": true
   },
   "outputs": [],
   "source": [
    "todo = todo[-1:]"
   ]
  },
  {
   "cell_type": "code",
   "execution_count": 50,
   "metadata": {
    "collapsed": false
   },
   "outputs": [
    {
     "data": {
      "text/plain": [
       "28    oneplus\n",
       "Name: brand_ig, dtype: object"
      ]
     },
     "execution_count": 50,
     "metadata": {},
     "output_type": "execute_result"
    }
   ],
   "source": [
    "todo"
   ]
  },
  {
   "cell_type": "code",
   "execution_count": 51,
   "metadata": {
    "collapsed": false
   },
   "outputs": [
    {
     "name": "stdout",
     "output_type": "stream",
     "text": [
      "oneplus\n"
     ]
    }
   ],
   "source": [
    "for ig in todo:\n",
    "#     stage 1\n",
    "    print(ig)\n",
    "    browser.get(insta_url +ig)\n",
    "    data = scrap_all()\n",
    "    df = pd.DataFrame(data, columns=[\"views\",\"likes\",\"media\",\"comments\",\"url\",\"caption\"])\n",
    "    df.to_csv(ig + \"_ig.csv\", index=False)\n",
    "#     df[\"post_datetime\"] = None\n",
    "#     #stage 2\n",
    "#     for i in range(0,df.shape[0]):\n",
    "#         if i % 10 == 0:\n",
    "#             print(i)\n",
    "#         sleep(1)\n",
    "#         row = df.loc[i]\n",
    "#         url = row.url\n",
    "#         browser.get(url)\n",
    "#         sleep(0.5)\n",
    "#         row.post_datetime = browser.find_element_by_tag_name(\"time\").get_attribute(\"datetime\")\n",
    "#         if row.media == \"image\":\n",
    "#             try:\n",
    "#                 row.likes = browser.find_element_by_css_selector('a[class=\"_nzn1h\"]').find_element_by_tag_name(\"span\").text.replace(\",\",\"\")\n",
    "#             except:\n",
    "#                 continue\n",
    "#         else:\n",
    "#             try:\n",
    "#                 row.views = browser.find_element_by_css_selector('span[class=\"_m5zti\"]').find_element_by_tag_name(\"span\").text.replace(\",\",\"\")\n",
    "#                 browser.find_element_by_css_selector('span[class=\"_m5zti\"]').click()\n",
    "#                 sleep(0.5)\n",
    "#                 row.likes = browser.find_element_by_css_selector('div[class=\"_m10kk\"]').find_element_by_tag_name(\"span\").text.replace(\",\",\"\")\n",
    "#             except:\n",
    "#                 continue\n",
    "#     df.to_csv(ig + \"_ig_final.csv\",index=False)\n",
    "#     new_df.loc[new_df[new_df.brand_ig==ig].index.values[0]][\"done\"] = 1\n",
    "#     new_df.to_csv(\"brand_ig_data.csv\",index=False)"
   ]
  },
  {
   "cell_type": "code",
   "execution_count": 52,
   "metadata": {
    "collapsed": false
   },
   "outputs": [
    {
     "data": {
      "text/html": [
       "<div>\n",
       "<style scoped>\n",
       "    .dataframe tbody tr th:only-of-type {\n",
       "        vertical-align: middle;\n",
       "    }\n",
       "\n",
       "    .dataframe tbody tr th {\n",
       "        vertical-align: top;\n",
       "    }\n",
       "\n",
       "    .dataframe thead th {\n",
       "        text-align: right;\n",
       "    }\n",
       "</style>\n",
       "<table border=\"1\" class=\"dataframe\">\n",
       "  <thead>\n",
       "    <tr style=\"text-align: right;\">\n",
       "      <th></th>\n",
       "      <th>views</th>\n",
       "      <th>likes</th>\n",
       "      <th>media</th>\n",
       "      <th>comments</th>\n",
       "      <th>url</th>\n",
       "      <th>caption</th>\n",
       "    </tr>\n",
       "  </thead>\n",
       "  <tbody>\n",
       "    <tr>\n",
       "      <th>0</th>\n",
       "      <td>na</td>\n",
       "      <td>17k</td>\n",
       "      <td>image</td>\n",
       "      <td>135</td>\n",
       "      <td>https://www.instagram.com/p/Bg4Lzh0gLIg/?taken...</td>\n",
       "      <td>Paint me a picture with your true colors 🖌#Sho...</td>\n",
       "    </tr>\n",
       "    <tr>\n",
       "      <th>1</th>\n",
       "      <td>na</td>\n",
       "      <td>18.1k</td>\n",
       "      <td>image</td>\n",
       "      <td>61</td>\n",
       "      <td>https://www.instagram.com/p/Bg4nLicgLtW/?taken...</td>\n",
       "      <td>The way out. 🏃Excellent #londonist capture by ...</td>\n",
       "    </tr>\n",
       "    <tr>\n",
       "      <th>2</th>\n",
       "      <td>na</td>\n",
       "      <td>23.5k</td>\n",
       "      <td>image</td>\n",
       "      <td>96</td>\n",
       "      <td>https://www.instagram.com/p/Bg5eJl5A-PU/?taken...</td>\n",
       "      <td>🌇 Enjoy a sunset in Italy with @matteobtt and ...</td>\n",
       "    </tr>\n",
       "    <tr>\n",
       "      <th>3</th>\n",
       "      <td>na</td>\n",
       "      <td>28.3k</td>\n",
       "      <td>image</td>\n",
       "      <td>75</td>\n",
       "      <td>https://www.instagram.com/p/Bg6VKpUA_w_/?taken...</td>\n",
       "      <td>Capture the light with the #OnePlus5T. 🌞😍 #Sho...</td>\n",
       "    </tr>\n",
       "    <tr>\n",
       "      <th>4</th>\n",
       "      <td>na</td>\n",
       "      <td>27.3k</td>\n",
       "      <td>image</td>\n",
       "      <td>82</td>\n",
       "      <td>https://www.instagram.com/p/Bg6wnT6HDQr/?taken...</td>\n",
       "      <td>🇮🇹 When in Rome, do as @pieromod does and take...</td>\n",
       "    </tr>\n",
       "    <tr>\n",
       "      <th>5</th>\n",
       "      <td>na</td>\n",
       "      <td>25.2k</td>\n",
       "      <td>image</td>\n",
       "      <td>300</td>\n",
       "      <td>https://www.instagram.com/p/Bg8C7HJglPc/?taken...</td>\n",
       "      <td>✨Start your day right with a latte, a notebook...</td>\n",
       "    </tr>\n",
       "    <tr>\n",
       "      <th>6</th>\n",
       "      <td>na</td>\n",
       "      <td>18.4k</td>\n",
       "      <td>image</td>\n",
       "      <td>68</td>\n",
       "      <td>https://www.instagram.com/p/Bg855rCgSpp/?taken...</td>\n",
       "      <td>🏊Cloudy days won't stop us from enjoying a day...</td>\n",
       "    </tr>\n",
       "    <tr>\n",
       "      <th>7</th>\n",
       "      <td>na</td>\n",
       "      <td>21.6k</td>\n",
       "      <td>image</td>\n",
       "      <td>94</td>\n",
       "      <td>https://www.instagram.com/p/Bg9VX0UABeA/?taken...</td>\n",
       "      <td>👌🏼Stunning #OnePlus5T captures of Spiti Valley...</td>\n",
       "    </tr>\n",
       "    <tr>\n",
       "      <th>8</th>\n",
       "      <td>na</td>\n",
       "      <td>22.2k</td>\n",
       "      <td>image</td>\n",
       "      <td>110</td>\n",
       "      <td>https://www.instagram.com/p/Bg9wxvygf-B/?taken...</td>\n",
       "      <td>🌲Get lost. 🌲#ShotonOnePlus by @roguerambleruk ...</td>\n",
       "    </tr>\n",
       "    <tr>\n",
       "      <th>9</th>\n",
       "      <td>na</td>\n",
       "      <td>22.3k</td>\n",
       "      <td>image</td>\n",
       "      <td>343</td>\n",
       "      <td>https://www.instagram.com/p/Bg_esHwAlKl/?taken...</td>\n",
       "      <td>Three cheers for the weekend! 😍 Tell us your p...</td>\n",
       "    </tr>\n",
       "    <tr>\n",
       "      <th>10</th>\n",
       "      <td>na</td>\n",
       "      <td>20.4k</td>\n",
       "      <td>image</td>\n",
       "      <td>157</td>\n",
       "      <td>https://www.instagram.com/p/BhAVi04AP8z/?taken...</td>\n",
       "      <td>🇯🇵Lost in Translation ✨Want to capture what wo...</td>\n",
       "    </tr>\n",
       "    <tr>\n",
       "      <th>11</th>\n",
       "      <td>na</td>\n",
       "      <td>6,716</td>\n",
       "      <td>image</td>\n",
       "      <td>56</td>\n",
       "      <td>https://www.instagram.com/p/BhBMeOTgDXx/?taken...</td>\n",
       "      <td>Classic curves in #poland with @kszporna 😎 We ...</td>\n",
       "    </tr>\n",
       "    <tr>\n",
       "      <th>12</th>\n",
       "      <td>na</td>\n",
       "      <td>21.5k</td>\n",
       "      <td>image</td>\n",
       "      <td>46</td>\n",
       "      <td>https://www.instagram.com/p/BgrvVGdgIub/?taken...</td>\n",
       "      <td>Bonjour! 🇫🇷 Sunny morning capture by @mafsjott...</td>\n",
       "    </tr>\n",
       "    <tr>\n",
       "      <th>13</th>\n",
       "      <td>na</td>\n",
       "      <td>31.5k</td>\n",
       "      <td>image</td>\n",
       "      <td>74</td>\n",
       "      <td>https://www.instagram.com/p/BgtdQuuA4V5/?taken...</td>\n",
       "      <td>#Shanghai is a city that travels at speed and ...</td>\n",
       "    </tr>\n",
       "    <tr>\n",
       "      <th>14</th>\n",
       "      <td>na</td>\n",
       "      <td>13.3k</td>\n",
       "      <td>image</td>\n",
       "      <td>34</td>\n",
       "      <td>https://www.instagram.com/p/BguUF8BAwtL/?taken...</td>\n",
       "      <td>💚#accidentalwesanderson captured by @fadetoraf...</td>\n",
       "    </tr>\n",
       "    <tr>\n",
       "      <th>15</th>\n",
       "      <td>na</td>\n",
       "      <td>20.6k</td>\n",
       "      <td>image</td>\n",
       "      <td>47</td>\n",
       "      <td>https://www.instagram.com/p/BgwCA4lg0sQ/?taken...</td>\n",
       "      <td>🐐This #welshmountainsheep's fire mixtape will ...</td>\n",
       "    </tr>\n",
       "    <tr>\n",
       "      <th>16</th>\n",
       "      <td>na</td>\n",
       "      <td>22.7k</td>\n",
       "      <td>image</td>\n",
       "      <td>48</td>\n",
       "      <td>https://www.instagram.com/p/Bgw41Nkgg8S/?taken...</td>\n",
       "      <td>🏠Red house on the block in #lisbon #portugal b...</td>\n",
       "    </tr>\n",
       "    <tr>\n",
       "      <th>17</th>\n",
       "      <td>na</td>\n",
       "      <td>22.8k</td>\n",
       "      <td>image</td>\n",
       "      <td>119</td>\n",
       "      <td>https://www.instagram.com/p/BgxvqR7gBzJ/?taken...</td>\n",
       "      <td>🌸 Cherry blossom season 🌸 Beautifully #ShotonO...</td>\n",
       "    </tr>\n",
       "    <tr>\n",
       "      <th>18</th>\n",
       "      <td>na</td>\n",
       "      <td>21.2k</td>\n",
       "      <td>image</td>\n",
       "      <td>216</td>\n",
       "      <td>https://www.instagram.com/p/Bg0TdHuAdHG/?taken...</td>\n",
       "      <td>Capture your best moments anywhere, anytime, i...</td>\n",
       "    </tr>\n",
       "    <tr>\n",
       "      <th>19</th>\n",
       "      <td>na</td>\n",
       "      <td>19.6k</td>\n",
       "      <td>image</td>\n",
       "      <td>61</td>\n",
       "      <td>https://www.instagram.com/p/Bg1LYj6A7pK/?taken...</td>\n",
       "      <td>🌇 Sunset at the land of the fishermen, 🎣 #mato...</td>\n",
       "    </tr>\n",
       "    <tr>\n",
       "      <th>20</th>\n",
       "      <td>na</td>\n",
       "      <td>25k</td>\n",
       "      <td>image</td>\n",
       "      <td>87</td>\n",
       "      <td>https://www.instagram.com/p/Bg1m-mSgB1r/?taken...</td>\n",
       "      <td>Land of the Rising Sun 🇯🇵 Lovely photo of #Kan...</td>\n",
       "    </tr>\n",
       "    <tr>\n",
       "      <th>21</th>\n",
       "      <td>na</td>\n",
       "      <td>22.3k</td>\n",
       "      <td>image</td>\n",
       "      <td>402</td>\n",
       "      <td>https://www.instagram.com/p/Bg2CUHVgWmo/?taken...</td>\n",
       "      <td>Tempest Du Jour ⛈Isola di Foradada by @megalom...</td>\n",
       "    </tr>\n",
       "    <tr>\n",
       "      <th>22</th>\n",
       "      <td>na</td>\n",
       "      <td>26k</td>\n",
       "      <td>image</td>\n",
       "      <td>65</td>\n",
       "      <td>https://www.instagram.com/p/Bg25Pq5gcGc/?taken...</td>\n",
       "      <td>Sunny Side up 🍳 Great #allhailsymmetry capture...</td>\n",
       "    </tr>\n",
       "    <tr>\n",
       "      <th>23</th>\n",
       "      <td>na</td>\n",
       "      <td>23.6k</td>\n",
       "      <td>image</td>\n",
       "      <td>55</td>\n",
       "      <td>https://www.instagram.com/p/Bg3wSbBgnBJ/?taken...</td>\n",
       "      <td>🚕 Chasing down golden hour with @hailong.pho ✨...</td>\n",
       "    </tr>\n",
       "    <tr>\n",
       "      <th>24</th>\n",
       "      <td>na</td>\n",
       "      <td>23.4k</td>\n",
       "      <td>image</td>\n",
       "      <td>70</td>\n",
       "      <td>https://www.instagram.com/p/BgbbznSgsXv/?taken...</td>\n",
       "      <td>There are campers, and there are adventurers l...</td>\n",
       "    </tr>\n",
       "    <tr>\n",
       "      <th>25</th>\n",
       "      <td>na</td>\n",
       "      <td>20.5k</td>\n",
       "      <td>image</td>\n",
       "      <td>51</td>\n",
       "      <td>https://www.instagram.com/p/BgcSgzmAhdO/?taken...</td>\n",
       "      <td>🙌🏻Veni, vidi, vici. 🙌🏻 #ShotonOnePlus. 📸:@mish...</td>\n",
       "    </tr>\n",
       "    <tr>\n",
       "      <th>26</th>\n",
       "      <td>na</td>\n",
       "      <td>22.7k</td>\n",
       "      <td>image</td>\n",
       "      <td>68</td>\n",
       "      <td>https://www.instagram.com/p/BgeAcY2A9di/?taken...</td>\n",
       "      <td>Sunday's are for snowboarding 🇨🇦🏂❄️ #ShotonOne...</td>\n",
       "    </tr>\n",
       "    <tr>\n",
       "      <th>27</th>\n",
       "      <td>na</td>\n",
       "      <td>26.2k</td>\n",
       "      <td>image</td>\n",
       "      <td>81</td>\n",
       "      <td>https://www.instagram.com/p/Bge3SIugRPU/?taken...</td>\n",
       "      <td>Sun kissed 🌞Exquisitely #ShotonOnePlus with Po...</td>\n",
       "    </tr>\n",
       "    <tr>\n",
       "      <th>28</th>\n",
       "      <td>na</td>\n",
       "      <td>19.3k</td>\n",
       "      <td>image</td>\n",
       "      <td>73</td>\n",
       "      <td>https://www.instagram.com/p/BgglOWPgrO_/?taken...</td>\n",
       "      <td>A song of ice....and just more ice 😂❄️Neat #re...</td>\n",
       "    </tr>\n",
       "    <tr>\n",
       "      <th>29</th>\n",
       "      <td>na</td>\n",
       "      <td>25.5k</td>\n",
       "      <td>image</td>\n",
       "      <td>62</td>\n",
       "      <td>https://www.instagram.com/p/BghcEVWgFUM/?taken...</td>\n",
       "      <td>A Cuban sunset 🌞🍹#ShotonOnePlus by @petestrave...</td>\n",
       "    </tr>\n",
       "    <tr>\n",
       "      <th>...</th>\n",
       "      <td>...</td>\n",
       "      <td>...</td>\n",
       "      <td>...</td>\n",
       "      <td>...</td>\n",
       "      <td>...</td>\n",
       "      <td>...</td>\n",
       "    </tr>\n",
       "    <tr>\n",
       "      <th>1717</th>\n",
       "      <td>na</td>\n",
       "      <td>3,035</td>\n",
       "      <td>image</td>\n",
       "      <td>268</td>\n",
       "      <td>https://www.instagram.com/p/pqzFQ-mT3C/?taken-...</td>\n",
       "      <td>We've just received Bamboo StyleSwap covers. D...</td>\n",
       "    </tr>\n",
       "    <tr>\n",
       "      <th>1718</th>\n",
       "      <td>na</td>\n",
       "      <td>2,280</td>\n",
       "      <td>image</td>\n",
       "      <td>139</td>\n",
       "      <td>https://www.instagram.com/p/p-6vzBGT4p/?taken-...</td>\n",
       "      <td>The One suits every style #seenintheoffice</td>\n",
       "    </tr>\n",
       "    <tr>\n",
       "      <th>1719</th>\n",
       "      <td>na</td>\n",
       "      <td>1,205</td>\n",
       "      <td>image</td>\n",
       "      <td>90</td>\n",
       "      <td>https://www.instagram.com/p/qD7AdvGT1s/?taken-...</td>\n",
       "      <td>Una is now rooting for Brazil. Which team will...</td>\n",
       "    </tr>\n",
       "    <tr>\n",
       "      <th>1720</th>\n",
       "      <td>na</td>\n",
       "      <td>1,226</td>\n",
       "      <td>image</td>\n",
       "      <td>103</td>\n",
       "      <td>https://www.instagram.com/p/qWRzWcGT9m/?taken-...</td>\n",
       "      <td>Una's getting ready for the World Cup Final. W...</td>\n",
       "    </tr>\n",
       "    <tr>\n",
       "      <th>1721</th>\n",
       "      <td>na</td>\n",
       "      <td>1,662</td>\n",
       "      <td>image</td>\n",
       "      <td>196</td>\n",
       "      <td>https://www.instagram.com/p/qbOnq6mT_6/?taken-...</td>\n",
       "      <td>New stickers! #NeverSettle</td>\n",
       "    </tr>\n",
       "    <tr>\n",
       "      <th>1722</th>\n",
       "      <td>na</td>\n",
       "      <td>1,079</td>\n",
       "      <td>image</td>\n",
       "      <td>115</td>\n",
       "      <td>https://www.instagram.com/p/qoXXKMmT87/?taken-...</td>\n",
       "      <td>Testing the #OnePlusOne with #GoogleCardboard....</td>\n",
       "    </tr>\n",
       "    <tr>\n",
       "      <th>1723</th>\n",
       "      <td>na</td>\n",
       "      <td>1,343</td>\n",
       "      <td>image</td>\n",
       "      <td>100</td>\n",
       "      <td>https://www.instagram.com/p/q1II4aGT5H/?taken-...</td>\n",
       "      <td>We're preparing our fan gathering in Hong Kong...</td>\n",
       "    </tr>\n",
       "    <tr>\n",
       "      <th>1724</th>\n",
       "      <td>na</td>\n",
       "      <td>1,462</td>\n",
       "      <td>image</td>\n",
       "      <td>178</td>\n",
       "      <td>https://www.instagram.com/p/rCJ7_emT2b/?taken-...</td>\n",
       "      <td>Here's the team behind our first OnePlus Fan G...</td>\n",
       "    </tr>\n",
       "    <tr>\n",
       "      <th>1725</th>\n",
       "      <td>na</td>\n",
       "      <td>1,117</td>\n",
       "      <td>image</td>\n",
       "      <td>214</td>\n",
       "      <td>https://www.instagram.com/p/rD9qTTmT8q/?taken-...</td>\n",
       "      <td>A naughty day at the office. #OnePlus #NeverSe...</td>\n",
       "    </tr>\n",
       "    <tr>\n",
       "      <th>1726</th>\n",
       "      <td>na</td>\n",
       "      <td>1,733</td>\n",
       "      <td>image</td>\n",
       "      <td>578</td>\n",
       "      <td>https://www.instagram.com/p/rD-BM6GT9A/?taken-...</td>\n",
       "      <td>I hope no one finds out... #OnePlus #NeverSett...</td>\n",
       "    </tr>\n",
       "    <tr>\n",
       "      <th>1727</th>\n",
       "      <td>na</td>\n",
       "      <td>1,743</td>\n",
       "      <td>image</td>\n",
       "      <td>195</td>\n",
       "      <td>https://www.instagram.com/p/rZvA1OmTx3/?taken-...</td>\n",
       "      <td>The OnePlus marketing family showing off the O...</td>\n",
       "    </tr>\n",
       "    <tr>\n",
       "      <th>1728</th>\n",
       "      <td>na</td>\n",
       "      <td>673</td>\n",
       "      <td>image</td>\n",
       "      <td>37</td>\n",
       "      <td>https://www.instagram.com/p/nHykIEGT5A/?taken-...</td>\n",
       "      <td>Good to be with the Cyanogen team! #OnePlusOne...</td>\n",
       "    </tr>\n",
       "    <tr>\n",
       "      <th>1729</th>\n",
       "      <td>na</td>\n",
       "      <td>976</td>\n",
       "      <td>image</td>\n",
       "      <td>160</td>\n",
       "      <td>https://www.instagram.com/p/nI1nPwmT8m/?taken-...</td>\n",
       "      <td>Our friend and forum member Alberto loves the ...</td>\n",
       "    </tr>\n",
       "    <tr>\n",
       "      <th>1730</th>\n",
       "      <td>na</td>\n",
       "      <td>792</td>\n",
       "      <td>image</td>\n",
       "      <td>53</td>\n",
       "      <td>https://www.instagram.com/p/nNNxVgGT_f/?taken-...</td>\n",
       "      <td>\"Selfie time\" for Alberto before leaving the o...</td>\n",
       "    </tr>\n",
       "    <tr>\n",
       "      <th>1731</th>\n",
       "      <td>na</td>\n",
       "      <td>990</td>\n",
       "      <td>image</td>\n",
       "      <td>63</td>\n",
       "      <td>https://www.instagram.com/p/oAtAXFmT0E/?taken-...</td>\n",
       "      <td>Una is enjoying a short break on our sunny ter...</td>\n",
       "    </tr>\n",
       "    <tr>\n",
       "      <th>1732</th>\n",
       "      <td>na</td>\n",
       "      <td>900</td>\n",
       "      <td>image</td>\n",
       "      <td>55</td>\n",
       "      <td>https://www.instagram.com/p/ogNld-GT9h/?taken-...</td>\n",
       "      <td>OnePlus Team #Selfie</td>\n",
       "    </tr>\n",
       "    <tr>\n",
       "      <th>1733</th>\n",
       "      <td>na</td>\n",
       "      <td>1,610</td>\n",
       "      <td>image</td>\n",
       "      <td>195</td>\n",
       "      <td>https://www.instagram.com/p/oikb0LmTy6/?taken-...</td>\n",
       "      <td>A look at our first batch of devices #OnePlusOne</td>\n",
       "    </tr>\n",
       "    <tr>\n",
       "      <th>1734</th>\n",
       "      <td>na</td>\n",
       "      <td>868</td>\n",
       "      <td>image</td>\n",
       "      <td>47</td>\n",
       "      <td>https://www.instagram.com/p/on0PUNmTwf/?taken-...</td>\n",
       "      <td>We've just received the \"Smash the Past\" machi...</td>\n",
       "    </tr>\n",
       "    <tr>\n",
       "      <th>1735</th>\n",
       "      <td>na</td>\n",
       "      <td>1,225</td>\n",
       "      <td>image</td>\n",
       "      <td>277</td>\n",
       "      <td>https://www.instagram.com/p/o6lU8kmT7M/?taken-...</td>\n",
       "      <td>First invites out :)</td>\n",
       "    </tr>\n",
       "    <tr>\n",
       "      <th>1736</th>\n",
       "      <td>na</td>\n",
       "      <td>680</td>\n",
       "      <td>image</td>\n",
       "      <td>30</td>\n",
       "      <td>https://www.instagram.com/p/pLpHN0GT36/?taken-...</td>\n",
       "      <td>Day 2 of the OnePlus Race is here! Go, go, go!...</td>\n",
       "    </tr>\n",
       "    <tr>\n",
       "      <th>1737</th>\n",
       "      <td>na</td>\n",
       "      <td>1,009</td>\n",
       "      <td>image</td>\n",
       "      <td>62</td>\n",
       "      <td>https://www.instagram.com/p/pL8LtUGTxG/?taken-...</td>\n",
       "      <td>Una just received its OnePlus One. Ready to un...</td>\n",
       "    </tr>\n",
       "    <tr>\n",
       "      <th>1738</th>\n",
       "      <td>na</td>\n",
       "      <td>1,884</td>\n",
       "      <td>image</td>\n",
       "      <td>443</td>\n",
       "      <td>https://www.instagram.com/p/pY-zLhmTwQ/?taken-...</td>\n",
       "      <td>What team do you support? #2014WorldCup</td>\n",
       "    </tr>\n",
       "    <tr>\n",
       "      <th>1739</th>\n",
       "      <td>na</td>\n",
       "      <td>2,174</td>\n",
       "      <td>image</td>\n",
       "      <td>247</td>\n",
       "      <td>https://www.instagram.com/p/pdqodqmTzb/?taken-...</td>\n",
       "      <td>Listening music with the OnePlus One is an enj...</td>\n",
       "    </tr>\n",
       "    <tr>\n",
       "      <th>1740</th>\n",
       "      <td>na</td>\n",
       "      <td>970</td>\n",
       "      <td>image</td>\n",
       "      <td>131</td>\n",
       "      <td>https://www.instagram.com/p/lr0OdemTwg/?taken-...</td>\n",
       "      <td>Do you like our #NeverSettle mantra? Enter our...</td>\n",
       "    </tr>\n",
       "    <tr>\n",
       "      <th>1741</th>\n",
       "      <td>na</td>\n",
       "      <td>513</td>\n",
       "      <td>image</td>\n",
       "      <td>22</td>\n",
       "      <td>https://www.instagram.com/p/lua7CpGT8q/?taken-...</td>\n",
       "      <td>Our reception hall is almost ready. Welcome to...</td>\n",
       "    </tr>\n",
       "    <tr>\n",
       "      <th>1742</th>\n",
       "      <td>na</td>\n",
       "      <td>619</td>\n",
       "      <td>image</td>\n",
       "      <td>24</td>\n",
       "      <td>https://www.instagram.com/p/l1uGO1GT4A/?taken-...</td>\n",
       "      <td>Today Una posted her first message to OnePlus ...</td>\n",
       "    </tr>\n",
       "    <tr>\n",
       "      <th>1743</th>\n",
       "      <td>na</td>\n",
       "      <td>629</td>\n",
       "      <td>image</td>\n",
       "      <td>21</td>\n",
       "      <td>https://www.instagram.com/p/mwv03DmT_3/?taken-...</td>\n",
       "      <td>Una is busy launching our local language forum...</td>\n",
       "    </tr>\n",
       "    <tr>\n",
       "      <th>1744</th>\n",
       "      <td>na</td>\n",
       "      <td>545</td>\n",
       "      <td>image</td>\n",
       "      <td>11</td>\n",
       "      <td>https://www.instagram.com/p/nFVxsNGTwj/?taken-...</td>\n",
       "      <td>On the way to Beijing. #OnePlusOne #NeverSettle</td>\n",
       "    </tr>\n",
       "    <tr>\n",
       "      <th>1745</th>\n",
       "      <td>na</td>\n",
       "      <td>509</td>\n",
       "      <td>image</td>\n",
       "      <td>13</td>\n",
       "      <td>https://www.instagram.com/p/nFumVXGTxu/?taken-...</td>\n",
       "      <td>Our friend and forum member Alberto just lande...</td>\n",
       "    </tr>\n",
       "    <tr>\n",
       "      <th>1746</th>\n",
       "      <td>na</td>\n",
       "      <td>618</td>\n",
       "      <td>image</td>\n",
       "      <td>16</td>\n",
       "      <td>https://www.instagram.com/p/nHg_NHmT4j/?taken-...</td>\n",
       "      <td>Backstage -  the team is getting ready for the...</td>\n",
       "    </tr>\n",
       "  </tbody>\n",
       "</table>\n",
       "<p>1747 rows × 6 columns</p>\n",
       "</div>"
      ],
      "text/plain": [
       "     views  likes  media comments  \\\n",
       "0       na    17k  image      135   \n",
       "1       na  18.1k  image       61   \n",
       "2       na  23.5k  image       96   \n",
       "3       na  28.3k  image       75   \n",
       "4       na  27.3k  image       82   \n",
       "5       na  25.2k  image      300   \n",
       "6       na  18.4k  image       68   \n",
       "7       na  21.6k  image       94   \n",
       "8       na  22.2k  image      110   \n",
       "9       na  22.3k  image      343   \n",
       "10      na  20.4k  image      157   \n",
       "11      na  6,716  image       56   \n",
       "12      na  21.5k  image       46   \n",
       "13      na  31.5k  image       74   \n",
       "14      na  13.3k  image       34   \n",
       "15      na  20.6k  image       47   \n",
       "16      na  22.7k  image       48   \n",
       "17      na  22.8k  image      119   \n",
       "18      na  21.2k  image      216   \n",
       "19      na  19.6k  image       61   \n",
       "20      na    25k  image       87   \n",
       "21      na  22.3k  image      402   \n",
       "22      na    26k  image       65   \n",
       "23      na  23.6k  image       55   \n",
       "24      na  23.4k  image       70   \n",
       "25      na  20.5k  image       51   \n",
       "26      na  22.7k  image       68   \n",
       "27      na  26.2k  image       81   \n",
       "28      na  19.3k  image       73   \n",
       "29      na  25.5k  image       62   \n",
       "...    ...    ...    ...      ...   \n",
       "1717    na  3,035  image      268   \n",
       "1718    na  2,280  image      139   \n",
       "1719    na  1,205  image       90   \n",
       "1720    na  1,226  image      103   \n",
       "1721    na  1,662  image      196   \n",
       "1722    na  1,079  image      115   \n",
       "1723    na  1,343  image      100   \n",
       "1724    na  1,462  image      178   \n",
       "1725    na  1,117  image      214   \n",
       "1726    na  1,733  image      578   \n",
       "1727    na  1,743  image      195   \n",
       "1728    na    673  image       37   \n",
       "1729    na    976  image      160   \n",
       "1730    na    792  image       53   \n",
       "1731    na    990  image       63   \n",
       "1732    na    900  image       55   \n",
       "1733    na  1,610  image      195   \n",
       "1734    na    868  image       47   \n",
       "1735    na  1,225  image      277   \n",
       "1736    na    680  image       30   \n",
       "1737    na  1,009  image       62   \n",
       "1738    na  1,884  image      443   \n",
       "1739    na  2,174  image      247   \n",
       "1740    na    970  image      131   \n",
       "1741    na    513  image       22   \n",
       "1742    na    619  image       24   \n",
       "1743    na    629  image       21   \n",
       "1744    na    545  image       11   \n",
       "1745    na    509  image       13   \n",
       "1746    na    618  image       16   \n",
       "\n",
       "                                                    url  \\\n",
       "0     https://www.instagram.com/p/Bg4Lzh0gLIg/?taken...   \n",
       "1     https://www.instagram.com/p/Bg4nLicgLtW/?taken...   \n",
       "2     https://www.instagram.com/p/Bg5eJl5A-PU/?taken...   \n",
       "3     https://www.instagram.com/p/Bg6VKpUA_w_/?taken...   \n",
       "4     https://www.instagram.com/p/Bg6wnT6HDQr/?taken...   \n",
       "5     https://www.instagram.com/p/Bg8C7HJglPc/?taken...   \n",
       "6     https://www.instagram.com/p/Bg855rCgSpp/?taken...   \n",
       "7     https://www.instagram.com/p/Bg9VX0UABeA/?taken...   \n",
       "8     https://www.instagram.com/p/Bg9wxvygf-B/?taken...   \n",
       "9     https://www.instagram.com/p/Bg_esHwAlKl/?taken...   \n",
       "10    https://www.instagram.com/p/BhAVi04AP8z/?taken...   \n",
       "11    https://www.instagram.com/p/BhBMeOTgDXx/?taken...   \n",
       "12    https://www.instagram.com/p/BgrvVGdgIub/?taken...   \n",
       "13    https://www.instagram.com/p/BgtdQuuA4V5/?taken...   \n",
       "14    https://www.instagram.com/p/BguUF8BAwtL/?taken...   \n",
       "15    https://www.instagram.com/p/BgwCA4lg0sQ/?taken...   \n",
       "16    https://www.instagram.com/p/Bgw41Nkgg8S/?taken...   \n",
       "17    https://www.instagram.com/p/BgxvqR7gBzJ/?taken...   \n",
       "18    https://www.instagram.com/p/Bg0TdHuAdHG/?taken...   \n",
       "19    https://www.instagram.com/p/Bg1LYj6A7pK/?taken...   \n",
       "20    https://www.instagram.com/p/Bg1m-mSgB1r/?taken...   \n",
       "21    https://www.instagram.com/p/Bg2CUHVgWmo/?taken...   \n",
       "22    https://www.instagram.com/p/Bg25Pq5gcGc/?taken...   \n",
       "23    https://www.instagram.com/p/Bg3wSbBgnBJ/?taken...   \n",
       "24    https://www.instagram.com/p/BgbbznSgsXv/?taken...   \n",
       "25    https://www.instagram.com/p/BgcSgzmAhdO/?taken...   \n",
       "26    https://www.instagram.com/p/BgeAcY2A9di/?taken...   \n",
       "27    https://www.instagram.com/p/Bge3SIugRPU/?taken...   \n",
       "28    https://www.instagram.com/p/BgglOWPgrO_/?taken...   \n",
       "29    https://www.instagram.com/p/BghcEVWgFUM/?taken...   \n",
       "...                                                 ...   \n",
       "1717  https://www.instagram.com/p/pqzFQ-mT3C/?taken-...   \n",
       "1718  https://www.instagram.com/p/p-6vzBGT4p/?taken-...   \n",
       "1719  https://www.instagram.com/p/qD7AdvGT1s/?taken-...   \n",
       "1720  https://www.instagram.com/p/qWRzWcGT9m/?taken-...   \n",
       "1721  https://www.instagram.com/p/qbOnq6mT_6/?taken-...   \n",
       "1722  https://www.instagram.com/p/qoXXKMmT87/?taken-...   \n",
       "1723  https://www.instagram.com/p/q1II4aGT5H/?taken-...   \n",
       "1724  https://www.instagram.com/p/rCJ7_emT2b/?taken-...   \n",
       "1725  https://www.instagram.com/p/rD9qTTmT8q/?taken-...   \n",
       "1726  https://www.instagram.com/p/rD-BM6GT9A/?taken-...   \n",
       "1727  https://www.instagram.com/p/rZvA1OmTx3/?taken-...   \n",
       "1728  https://www.instagram.com/p/nHykIEGT5A/?taken-...   \n",
       "1729  https://www.instagram.com/p/nI1nPwmT8m/?taken-...   \n",
       "1730  https://www.instagram.com/p/nNNxVgGT_f/?taken-...   \n",
       "1731  https://www.instagram.com/p/oAtAXFmT0E/?taken-...   \n",
       "1732  https://www.instagram.com/p/ogNld-GT9h/?taken-...   \n",
       "1733  https://www.instagram.com/p/oikb0LmTy6/?taken-...   \n",
       "1734  https://www.instagram.com/p/on0PUNmTwf/?taken-...   \n",
       "1735  https://www.instagram.com/p/o6lU8kmT7M/?taken-...   \n",
       "1736  https://www.instagram.com/p/pLpHN0GT36/?taken-...   \n",
       "1737  https://www.instagram.com/p/pL8LtUGTxG/?taken-...   \n",
       "1738  https://www.instagram.com/p/pY-zLhmTwQ/?taken-...   \n",
       "1739  https://www.instagram.com/p/pdqodqmTzb/?taken-...   \n",
       "1740  https://www.instagram.com/p/lr0OdemTwg/?taken-...   \n",
       "1741  https://www.instagram.com/p/lua7CpGT8q/?taken-...   \n",
       "1742  https://www.instagram.com/p/l1uGO1GT4A/?taken-...   \n",
       "1743  https://www.instagram.com/p/mwv03DmT_3/?taken-...   \n",
       "1744  https://www.instagram.com/p/nFVxsNGTwj/?taken-...   \n",
       "1745  https://www.instagram.com/p/nFumVXGTxu/?taken-...   \n",
       "1746  https://www.instagram.com/p/nHg_NHmT4j/?taken-...   \n",
       "\n",
       "                                                caption  \n",
       "0     Paint me a picture with your true colors 🖌#Sho...  \n",
       "1     The way out. 🏃Excellent #londonist capture by ...  \n",
       "2     🌇 Enjoy a sunset in Italy with @matteobtt and ...  \n",
       "3     Capture the light with the #OnePlus5T. 🌞😍 #Sho...  \n",
       "4     🇮🇹 When in Rome, do as @pieromod does and take...  \n",
       "5     ✨Start your day right with a latte, a notebook...  \n",
       "6     🏊Cloudy days won't stop us from enjoying a day...  \n",
       "7     👌🏼Stunning #OnePlus5T captures of Spiti Valley...  \n",
       "8     🌲Get lost. 🌲#ShotonOnePlus by @roguerambleruk ...  \n",
       "9     Three cheers for the weekend! 😍 Tell us your p...  \n",
       "10    🇯🇵Lost in Translation ✨Want to capture what wo...  \n",
       "11    Classic curves in #poland with @kszporna 😎 We ...  \n",
       "12    Bonjour! 🇫🇷 Sunny morning capture by @mafsjott...  \n",
       "13    #Shanghai is a city that travels at speed and ...  \n",
       "14    💚#accidentalwesanderson captured by @fadetoraf...  \n",
       "15    🐐This #welshmountainsheep's fire mixtape will ...  \n",
       "16    🏠Red house on the block in #lisbon #portugal b...  \n",
       "17    🌸 Cherry blossom season 🌸 Beautifully #ShotonO...  \n",
       "18    Capture your best moments anywhere, anytime, i...  \n",
       "19    🌇 Sunset at the land of the fishermen, 🎣 #mato...  \n",
       "20    Land of the Rising Sun 🇯🇵 Lovely photo of #Kan...  \n",
       "21    Tempest Du Jour ⛈Isola di Foradada by @megalom...  \n",
       "22    Sunny Side up 🍳 Great #allhailsymmetry capture...  \n",
       "23    🚕 Chasing down golden hour with @hailong.pho ✨...  \n",
       "24    There are campers, and there are adventurers l...  \n",
       "25    🙌🏻Veni, vidi, vici. 🙌🏻 #ShotonOnePlus. 📸:@mish...  \n",
       "26    Sunday's are for snowboarding 🇨🇦🏂❄️ #ShotonOne...  \n",
       "27    Sun kissed 🌞Exquisitely #ShotonOnePlus with Po...  \n",
       "28    A song of ice....and just more ice 😂❄️Neat #re...  \n",
       "29    A Cuban sunset 🌞🍹#ShotonOnePlus by @petestrave...  \n",
       "...                                                 ...  \n",
       "1717  We've just received Bamboo StyleSwap covers. D...  \n",
       "1718         The One suits every style #seenintheoffice  \n",
       "1719  Una is now rooting for Brazil. Which team will...  \n",
       "1720  Una's getting ready for the World Cup Final. W...  \n",
       "1721                         New stickers! #NeverSettle  \n",
       "1722  Testing the #OnePlusOne with #GoogleCardboard....  \n",
       "1723  We're preparing our fan gathering in Hong Kong...  \n",
       "1724  Here's the team behind our first OnePlus Fan G...  \n",
       "1725  A naughty day at the office. #OnePlus #NeverSe...  \n",
       "1726  I hope no one finds out... #OnePlus #NeverSett...  \n",
       "1727  The OnePlus marketing family showing off the O...  \n",
       "1728  Good to be with the Cyanogen team! #OnePlusOne...  \n",
       "1729  Our friend and forum member Alberto loves the ...  \n",
       "1730  \"Selfie time\" for Alberto before leaving the o...  \n",
       "1731  Una is enjoying a short break on our sunny ter...  \n",
       "1732                               OnePlus Team #Selfie  \n",
       "1733   A look at our first batch of devices #OnePlusOne  \n",
       "1734  We've just received the \"Smash the Past\" machi...  \n",
       "1735                               First invites out :)  \n",
       "1736  Day 2 of the OnePlus Race is here! Go, go, go!...  \n",
       "1737  Una just received its OnePlus One. Ready to un...  \n",
       "1738            What team do you support? #2014WorldCup  \n",
       "1739  Listening music with the OnePlus One is an enj...  \n",
       "1740  Do you like our #NeverSettle mantra? Enter our...  \n",
       "1741  Our reception hall is almost ready. Welcome to...  \n",
       "1742  Today Una posted her first message to OnePlus ...  \n",
       "1743  Una is busy launching our local language forum...  \n",
       "1744    On the way to Beijing. #OnePlusOne #NeverSettle  \n",
       "1745  Our friend and forum member Alberto just lande...  \n",
       "1746  Backstage -  the team is getting ready for the...  \n",
       "\n",
       "[1747 rows x 6 columns]"
      ]
     },
     "execution_count": 52,
     "metadata": {},
     "output_type": "execute_result"
    }
   ],
   "source": [
    "df"
   ]
  },
  {
   "cell_type": "code",
   "execution_count": 66,
   "metadata": {
    "collapsed": false
   },
   "outputs": [
    {
     "data": {
      "text/plain": [
       "'🌇 Enjoy a sunset in Italy with @matteobtt and the #OnePlus5 😍. Can you guess the location of this spot? 🤔#ShotonOnePlus\\n***\\n#passionpassport #beautifuldestinations #travellingthroughtheworld #heavenly_shotz #JustGoShoot #europe #TheImaged #animalsofinstagram #postcardsfromtheworld #tv_pointofview #Rsa_Outdoors #Eclectic_Shotz #CityKillerz  #kings_alltags #bnw_mroldschool'"
      ]
     },
     "execution_count": 66,
     "metadata": {},
     "output_type": "execute_result"
    }
   ],
   "source": [
    "df.caption[2]"
   ]
  },
  {
   "cell_type": "code",
   "execution_count": 73,
   "metadata": {
    "collapsed": true
   },
   "outputs": [],
   "source": [
    "import extractPhoneModels"
   ]
  },
  {
   "cell_type": "code",
   "execution_count": 71,
   "metadata": {
    "collapsed": false
   },
   "outputs": [
    {
     "data": {
      "text/plain": [
       "set()"
      ]
     },
     "execution_count": 71,
     "metadata": {},
     "output_type": "execute_result"
    }
   ],
   "source": [
    "getBrands(\"Google\")"
   ]
  },
  {
   "cell_type": "code",
   "execution_count": 74,
   "metadata": {
    "collapsed": true
   },
   "outputs": [],
   "source": [
    "import re"
   ]
  },
  {
   "cell_type": "code",
   "execution_count": 75,
   "metadata": {
    "collapsed": true
   },
   "outputs": [],
   "source": [
    "rgx = re.compile(\"[\\w+]+\")"
   ]
  },
  {
   "cell_type": "code",
   "execution_count": 78,
   "metadata": {
    "collapsed": false
   },
   "outputs": [
    {
     "data": {
      "text/plain": [
       "['Google']"
      ]
     },
     "execution_count": 78,
     "metadata": {},
     "output_type": "execute_result"
    }
   ],
   "source": [
    "rgx.findall(\"Google\")"
   ]
  },
  {
   "cell_type": "code",
   "execution_count": 90,
   "metadata": {
    "collapsed": true
   },
   "outputs": [],
   "source": [
    "def getBrands(text):\n",
    "    text = text.lower()\n",
    "    brandsFound = set()\n",
    "    words = set(rgx.findall(text))\n",
    "    for brand in brands:\n",
    "        if brand.lower() in words:\n",
    "            brandsFound.add(brand)\n",
    "    return brandsFound\n"
   ]
  },
  {
   "cell_type": "code",
   "execution_count": 80,
   "metadata": {
    "collapsed": true
   },
   "outputs": [],
   "source": [
    "import re, time, json\n",
    "\n",
    "with open(\"assets/model-fragments-small.json\", \"r\") as file:\n",
    "    fragmentLookup = json.load(file)\n",
    "with open(\"assets/model-all-tokens-small.json\", \"r\") as file:\n",
    "    allModelTokens = json.load(file)\n",
    "with open(\"assets/model-brands-small.json\", \"r\") as file:\n",
    "    brands = json.load(file)\n"
   ]
  },
  {
   "cell_type": "code",
   "execution_count": 96,
   "metadata": {
    "collapsed": true
   },
   "outputs": [],
   "source": [
    "\n",
    "MAX_FRAGMENT_SIZE=0 # so that we don't have to search till the end of the string\n",
    "for frag, index in fragmentLookup.items():\n",
    "    if frag.count(\" \") + 1 > MAX_FRAGMENT_SIZE:\n",
    "        MAX_FRAGMENT_SIZE = frag.count(\" \") + 1\n"
   ]
  },
  {
   "cell_type": "code",
   "execution_count": 93,
   "metadata": {
    "collapsed": true
   },
   "outputs": [],
   "source": [
    "def getModels(text):\n",
    "    text = text.lower()\n",
    "    modelsFound = set()\n",
    "    fragmentsFound = set()\n",
    "    fragmentsAccepted = {}\n",
    "    \n",
    "    words = rgx.findall(text)\n",
    "    for i in range(0, len(words)):\n",
    "        if words[i] not in allModelTokens:\n",
    "            continue\n",
    "        for j in range(i+1, min(i+1+MAX_FRAGMENT_SIZE, len(words)+1)):\n",
    "            fragment = \" \".join(words[i:j])\n",
    "            if fragment in fragmentLookup:\n",
    "                fragmentsFound.add(fragment)\n",
    "    for fragment in sorted(fragmentsFound, key=len, reverse=True):\n",
    "        # we iterate through the fragments we've found, to ensure that 'smaller' \n",
    "        # model names are not accidentally extracted (e.g. Pixel vs Pixel 2)\n",
    "        found = False\n",
    "        for frag, index in fragmentsAccepted.items():\n",
    "            if fragment in frag and text.find(frag) + frag.find(fragment) == text.find(fragment):\n",
    "                found = True\n",
    "                break\n",
    "        if not found:\n",
    "            fragmentsAccepted[fragment] = text.find(fragment)\n",
    "    for frag, index in fragmentsAccepted.items():\n",
    "        modelsFound.add(fragmentLookup[frag])\n",
    "    return modelsFound"
   ]
  },
  {
   "cell_type": "code",
   "execution_count": 98,
   "metadata": {
    "collapsed": false
   },
   "outputs": [
    {
     "data": {
      "text/plain": [
       "set()"
      ]
     },
     "execution_count": 98,
     "metadata": {},
     "output_type": "execute_result"
    }
   ],
   "source": [
    "getBrands(df.caption[0])"
   ]
  },
  {
   "cell_type": "code",
   "execution_count": 100,
   "metadata": {
    "collapsed": false
   },
   "outputs": [
    {
     "data": {
      "text/plain": [
       "['Paint',\n",
       " 'me',\n",
       " 'a',\n",
       " 'picture',\n",
       " 'with',\n",
       " 'your',\n",
       " 'true',\n",
       " 'colors',\n",
       " 'ShotonOnePlus',\n",
       " 'with',\n",
       " 'the',\n",
       " 'OnePlus5T',\n",
       " 'by',\n",
       " 'alfierecarte',\n",
       " 'in',\n",
       " 'madrid',\n",
       " 'spain',\n",
       " 'What',\n",
       " 's',\n",
       " 'your',\n",
       " 'favourite',\n",
       " 'color',\n",
       " 'whpcolor',\n",
       " 'spain_insta',\n",
       " 'igmadrid',\n",
       " 'beautifuldestinations',\n",
       " 'europe',\n",
       " 'jj_mobilephotography',\n",
       " 'passionpassport',\n",
       " 'color',\n",
       " 'vacation',\n",
       " 'way2ill',\n",
       " 'wanderlust']"
      ]
     },
     "execution_count": 100,
     "metadata": {},
     "output_type": "execute_result"
    }
   ],
   "source": [
    "rgx.findall(df.caption[0])"
   ]
  },
  {
   "cell_type": "code",
   "execution_count": null,
   "metadata": {
    "collapsed": true
   },
   "outputs": [],
   "source": []
  }
 ],
 "metadata": {
  "kernelspec": {
   "display_name": "py35",
   "language": "python",
   "name": "py35"
  },
  "language_info": {
   "codemirror_mode": {
    "name": "ipython",
    "version": 3
   },
   "file_extension": ".py",
   "mimetype": "text/x-python",
   "name": "python",
   "nbconvert_exporter": "python",
   "pygments_lexer": "ipython3",
   "version": "3.5.3"
  }
 },
 "nbformat": 4,
 "nbformat_minor": 2
}
